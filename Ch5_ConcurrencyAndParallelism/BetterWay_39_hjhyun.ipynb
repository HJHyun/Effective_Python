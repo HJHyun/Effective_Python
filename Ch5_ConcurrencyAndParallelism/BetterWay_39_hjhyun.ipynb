{
 "cells": [
  {
   "cell_type": "markdown",
   "metadata": {},
   "source": [
    "# Better Way 39 스레드 간의 작업을 조율하려면 Queue를 사용하자"
   ]
  },
  {
   "cell_type": "markdown",
   "metadata": {},
   "source": [
    "파이프라인 (pipeline): 일렬로 이어진 단계들로 구성되며, 각 단계에는 특정 함수가 연결되어 있음.\n",
    "- 새 작업 요소는 끊임없이 파이프라인의 앞쪽에 추가됨\n",
    "- 각 함수는 동시에 자신이 속한 단계에 배정된 작업 요소를 처리할 수 있음.\n",
    "- 남아있는 단계가 더는 없을 때까지, 각 함수에서 처리를 완료할 때마다 작업은 다음 단계로 이동함.\n",
    "- 파이썬으로 쉽게 병렬화할 수 있는 블로킹 I/O나 서브프로세스를 이용하는 작업에 특히 잘 맞는다. (BW 37 참고)\n",
    "\n",
    "스레드 안전 생산자-소비자 큐 (thread-safe producer-consumer queue)\n",
    "- 파이프라인 단계 사이에서 작업을 전달할 방법의 모델링\n",
    "- 파이썬에서 스레드 안전성의 중요성 이해 (BW 38, BW 46 참고)"
   ]
  },
  {
   "cell_type": "code",
   "execution_count": 2,
   "metadata": {},
   "outputs": [],
   "source": [
    "import threading\n",
    "\n",
    "class MyQueue(object):\n",
    "    def __init__(self):\n",
    "        self.items = dequeue()\n",
    "        self.lock = Lock()\n",
    "        \n",
    "    def put(self, item): #생산자 (producer)\n",
    "        with self.lock:\n",
    "            self.items.append(item)\n",
    "            \n",
    "    def get(self): #소비자 (consumer)\n",
    "        with self.lock:\n",
    "            return self.items.popleft()"
   ]
  },
  {
   "cell_type": "markdown",
   "metadata": {},
   "source": [
    "다음은 큐에서 작업을 꺼내와서 함수를 실행하고, 결과를 다른 큐에 넣는 파이썬 스레드\n",
    "- 파이프라인의 각 단계를 표현\n",
    "- 작업 스레드가 새 입력을 몇 번이나 체크하고, 작업을 얼마나 완료하는지 추적"
   ]
  },
  {
   "cell_type": "code",
   "execution_count": 6,
   "metadata": {},
   "outputs": [],
   "source": [
    "from threading import Thread\n",
    "\n",
    "class Worker(Thread):\n",
    "    def __init__(self, func, in_queue, out_queue):\n",
    "        super().__init__()\n",
    "        self.func = func\n",
    "        self.in_queue = in_queue\n",
    "        self.out_queue = out_queue\n",
    "        self.polled_count = 0\n",
    "        self.work_done = 0\n",
    "        \n",
    "    def run(self):\n",
    "        while True:\n",
    "            self.polled_count += 1\n",
    "            try:\n",
    "                item = self.in_queue.get()\n",
    "            except IndexError: #이전 단계에서 아직 작업을 완료하지 않아서 입력 큐가 비어 있는 경우\n",
    "                sleep(0.01) #재운다 (=기다림)\n",
    "            else:\n",
    "                result = self.func(item)\n",
    "                self.out_queue.put(result)\n",
    "                self.work_done += 1"
   ]
  },
  {
   "cell_type": "code",
   "execution_count": null,
   "metadata": {},
   "outputs": [],
   "source": [
    "download_queue = MyQueue()\n",
    "resize_queue = MyQueue()\n",
    "upload_queue = MyQueue()\n",
    "done_queue = MyQueue()\n",
    "\n",
    "#download, resize, upload는 각각 단계에서 실행할 함수 (여기서는 정의하지 않아서 실행하면 에러 발생함)\n",
    "threads = [\n",
    "    Worker(download, download_queue, resize_queue),\n",
    "    Worker(resize, resize_queue, upload_queue),\n",
    "    Worker(upload, upload_queue, done_queue)\n",
    "]"
   ]
  },
  {
   "cell_type": "code",
   "execution_count": null,
   "metadata": {},
   "outputs": [],
   "source": [
    "for thread in threads:\n",
    "    thread.start()\n",
    "    \n",
    "for _ in range(1000):\n",
    "    download_queue.put(object()) #실제 이미지 데이터가 아니라, 일반 object 인스턴스를 1000개 넣음"
   ]
  },
  {
   "cell_type": "code",
   "execution_count": null,
   "metadata": {},
   "outputs": [],
   "source": [
    "while len(done_queue.items) < 1000:\n",
    "    # 위에서 입력한 1000개의 인스턴스가 모두 처리될 때까지\n",
    "    # 기다리는 동안 유용한 작업을 수행함\n",
    "    # ..."
   ]
  },
  {
   "cell_type": "code",
   "execution_count": null,
   "metadata": {},
   "outputs": [],
   "source": [
    "#1000개의 아이템을 처리하는 동안 몇번이나 폴링되었는지 확인 -- 매우 많음 (3030번)\n",
    "processed = len(done_queue.items)\n",
    "polled = sum(t.polled_count for t in threads)\n",
    "print('Processed', processed, 'items after polling', polled, 'times')"
   ]
  },
  {
   "cell_type": "markdown",
   "metadata": {},
   "source": [
    "왜 이런 일이 발생하는가?\n",
    "- 작업 수행 함수의 실행 속도가 제각각이면, 초기 단계가 후속 단계의 진행을 막아 파이프라인이 정체됨\n",
    "- 후속 단계에서 처리할 것이 없어서 지속적으로 새 작업을 가져오려고 짧은 주기로 입력 큐를 확인함\n",
    "- 결국 작업 스레드는 유용한 작업을 전혀 하지 않으면서 CPU 시간을 낭비하는 일이 됨 (=끊임없이 IndexError 예외를 일으키고 잡는 일만 함)"
   ]
  },
  {
   "cell_type": "markdown",
   "metadata": {},
   "source": [
    "추가적인 문제\n",
    "- 입력 작업을 모두 완료했는지 판단하려면 done_queue에 결과가 모두 쌓일 때까지 기다려야 함\n",
    "- Worker의 run 메서드는 루프에서 끊임없이 실행되며, 루프를 빠져나오도록 작업 스레드에 신호를 줄 방법이 없음\n",
    "- 최악의 문제로 파이프라인이 정체되면 프로그램이 제멋대로 고장이 날 수 있음. (예컨데, 1단계는 빠르고 2단계는 느린 경우 1-2단계를 잇는 큐의 크기가 계속 증가하여 2단계의 처리가 큐가 증가하는 속도를 따라잡지 못해 메모리 부족 발생)\n",
    "\n",
    "결론: 위의 구현은 잘 작동하기는 해도 **잘못된 구현** 즉, 파이프라인이 나쁘다는 것이 아니라 좋은 생산자-소비자 큐를 직접 만들기 어렵다는 사실."
   ]
  },
  {
   "cell_type": "markdown",
   "metadata": {},
   "source": [
    "해결: 내장 모듈 queue에 있는 **Queue 클래스** 사용\n",
    "- 새 데이터가 생길 때까지 get 메서드가 블록되게 하여 작업 스레드가 계속해서 데이터가 있는지 체크하는 상황 (busy waiting) 없애줌"
   ]
  },
  {
   "cell_type": "code",
   "execution_count": 8,
   "metadata": {},
   "outputs": [],
   "source": [
    "from queue import Queue\n",
    "queue = Queue()\n",
    "\n",
    "def consumer():\n",
    "    print('Consumer waiting')\n",
    "    queue.get() #뒤에 나오는 put() 이후에 실행함\n",
    "    print('Consumer done')"
   ]
  },
  {
   "cell_type": "code",
   "execution_count": 9,
   "metadata": {},
   "outputs": [
    {
     "name": "stdout",
     "output_type": "stream",
     "text": [
      "Consumer waitingProducer putting\n",
      "\n",
      "Consumer done\n",
      "Producer done\n"
     ]
    }
   ],
   "source": [
    "# 스레드가 처음으로 실행할 때도 Queue 인스턴스에 아이템이 들어가서 get 메서드에서 반환할 아이템이 생기기 전에는 마치지 못함.\n",
    "thread = Thread(target=consumer)\n",
    "thread.start()\n",
    "print('Producer putting')\n",
    "queue.put(object()) # 앞에 나온 get() 이전에 실행함\n",
    "thread.join()\n",
    "print('Producer done')"
   ]
  },
  {
   "cell_type": "markdown",
   "metadata": {},
   "source": [
    "- 파이프라인 정체 문제를 해결하려면 두 단계 사이에서 대기할 작업의 최대 개수를 Queue에 설정해야 함\n",
    "- 큐가 이미 이 버퍼 크기만큼 가득 차 있으면 put 호출이 블록됨"
   ]
  },
  {
   "cell_type": "code",
   "execution_count": 12,
   "metadata": {},
   "outputs": [],
   "source": [
    "import time \n",
    "\n",
    "queue = Queue(1) # 버퍼 크기는 1\n",
    "\n",
    "def consumer():\n",
    "    time.sleep(0.1)            # 대기\n",
    "    queue.get()                # 두 번째로 실행\n",
    "    print('Consumer got 1')\n",
    "    queue.get()                # 네 번쨰로 실행\n",
    "    print('Consumer got 2')"
   ]
  },
  {
   "cell_type": "code",
   "execution_count": 13,
   "metadata": {},
   "outputs": [
    {
     "name": "stdout",
     "output_type": "stream",
     "text": [
      "Producer put 1\n",
      "Consumer got 1\n",
      "Producer put 2\n",
      "Consumer got 2\n",
      "Producer done\n"
     ]
    }
   ],
   "source": [
    "thread = Thread(target=consumer)\n",
    "thread.start()\n",
    "\n",
    "queue.put(object())            # 첫 번째로 실행\n",
    "print('Producer put 1')\n",
    "queue.put(object())            # 세 번쨰로 실행\n",
    "print('Producer put 2')\n",
    "thread.join()\n",
    "print('Producer done')"
   ]
  },
  {
   "cell_type": "markdown",
   "metadata": {},
   "source": [
    "- consumer 스레드에서 get 호출하기 전에, 생산 스레드에서 put으로 객체 두 개를 큐에 집어넣는 동작이 일어나야 함.\n",
    "- 그러나 Queue 크기가 1이므로, 두번째 put 호출이 블록된 상태에서 빠져나와서 두번째 아이템을 큐에 넣으려면, \n",
    "- 큐에 아이템을 추가하는 생산자는 소비 스레드에서 적어도 한번은 get을 호출하기를 기다려야 함"
   ]
  },
  {
   "cell_type": "code",
   "execution_count": 14,
   "metadata": {},
   "outputs": [],
   "source": [
    "in_queue = Queue()\n",
    "\n",
    "def consumer():\n",
    "    print('Consumer waiting')\n",
    "    work = in_queue.get()\n",
    "    print('Consumer working')\n",
    "    # do something\n",
    "    # ...\n",
    "    print('Consumer done')\n",
    "    in_queue.task_done()"
   ]
  },
  {
   "cell_type": "code",
   "execution_count": 15,
   "metadata": {},
   "outputs": [
    {
     "name": "stdout",
     "output_type": "stream",
     "text": [
      "Consumer waiting\n"
     ]
    }
   ],
   "source": [
    "Thread(target=consumer).start()"
   ]
  },
  {
   "cell_type": "code",
   "execution_count": 16,
   "metadata": {},
   "outputs": [
    {
     "name": "stdout",
     "output_type": "stream",
     "text": [
      "Producer waiting\n",
      "Consumer working\n",
      "Consumer done\n",
      "Producer done\n"
     ]
    }
   ],
   "source": [
    "in_queue.put(object())\n",
    "print('Producer waiting')\n",
    "in_queue.join()\n",
    "print('Producer done')"
   ]
  },
  {
   "cell_type": "markdown",
   "metadata": {},
   "source": [
    "Queue 클래스는 task_done 메서드로 작업 진행을 추적할 수 있음\n",
    "- 작업 진행을 추적하면, 특정 단계의 입력 큐가 빌 때까지 기다릴 수 있으므로 파이프라인의 끝에서 done_queue를 폴링하지 않아도 됨.\n",
    "- 생산자는 조인으로 소비 스레드를 대기하거나 폴링을 하지 않아도 됨.\n",
    "- Queue 인스턴스의 join 호출하여 in_queue가 완료하기를 기다리면 됨.\n",
    "- 설사 큐가 비더라도 in_queue의 join 메서드는 이미 큐에 추가된 모든 아이템에 task_done을 호출할 때까지 완료되지 않음."
   ]
  },
  {
   "cell_type": "code",
   "execution_count": 17,
   "metadata": {},
   "outputs": [],
   "source": [
    "class ClosableQueue(Queue):\n",
    "    SENTINEL = object()\n",
    "    \n",
    "    def close(self):\n",
    "        self.put(self.SENTINEL) #더는 입력 아이템이 없음을 알리는 특별 아이템을 추가\n",
    "        \n",
    "    def __iter__(self):\n",
    "        while True:\n",
    "            item = self.get()\n",
    "            try:\n",
    "                if item is self.SENTINEL:\n",
    "                    return # (더 이상 큐에 아이템이 없으므로) 스레드 종료\n",
    "                yield item\n",
    "            finally:\n",
    "                self.task_done()"
   ]
  },
  {
   "cell_type": "code",
   "execution_count": 18,
   "metadata": {},
   "outputs": [],
   "source": [
    "class  StoppableWorker(Thread):\n",
    "    def __init__(self, func, in_queue, out_queue):\n",
    "        super().__init__()\n",
    "        self.func = func\n",
    "        self.in_queue = in_queue\n",
    "        self.out_queue = out_queue\n",
    "        \n",
    "    def run(self):\n",
    "        for item in self.in_queue:\n",
    "            result = self.func(item)\n",
    "            self.out_queue.put(result)"
   ]
  },
  {
   "cell_type": "code",
   "execution_count": null,
   "metadata": {},
   "outputs": [],
   "source": [
    "download_queue = ClosableQueue()\n",
    "resize_queue = ClosableQueue()\n",
    "upload_queue = ClosableQueue()\n",
    "done_queue = ClosableQueue()\n",
    "\n",
    "threads = [\n",
    "    StoppableWorker(download, download_queue, resize_queue),\n",
    "    StoppableWorker(resize, resize_queue, upload_queue),\n",
    "    StoppableWorker(upload, upload_queue, done_queue)\n",
    "]"
   ]
  },
  {
   "cell_type": "code",
   "execution_count": null,
   "metadata": {},
   "outputs": [],
   "source": [
    "for thread in threads:\n",
    "    thread.start()\n",
    "for _ in range(1000):\n",
    "    download_queue.put(object())\n",
    "download_queue.close() #첫번째 단계의 모든 입력이 큐에 추가되면, 큐를 닫는다"
   ]
  },
  {
   "cell_type": "code",
   "execution_count": null,
   "metadata": {},
   "outputs": [],
   "source": [
    "# 각 단계들을 연결하는 큐에 join을 호출해서 작업이 완료되기를 기다리고, \n",
    "# 각 단계가 끝날 때마다 입력 큐를 닫아서 다음 단계에 중단 신호를 보낸다 \n",
    "download_queue.join()\n",
    "resize_queue.close()\n",
    "resize_queue.join()\n",
    "upload_queue.close()\n",
    "upload_queue.join()\n",
    "print(done_queue.qsize(), 'items finished')"
   ]
  },
  {
   "cell_type": "markdown",
   "metadata": {},
   "source": [
    "핵심 정리\n",
    "- 파이프라인은 여러 파이썬 스레드를 사용하여 동시에 실행하는 작업의 순서를 구성하기에 아주 좋은 방법이다.\n",
    "- 병행 파이프라인을 구축할 때는 많은 문제 (바쁜 대기, 작업자 중단, 메모리 부족) 일어날 수 있다는 점을 주의하자.\n",
    "- Queue 클래스는 연산 블로킹, 버퍼 크기, 조인 등 견고한 파이프라인을 만드는 데 필요한 기능을 모두 갖췄다."
   ]
  }
 ],
 "metadata": {
  "kernelspec": {
   "display_name": "Python 3",
   "language": "python",
   "name": "python3"
  },
  "language_info": {
   "codemirror_mode": {
    "name": "ipython",
    "version": 3
   },
   "file_extension": ".py",
   "mimetype": "text/x-python",
   "name": "python",
   "nbconvert_exporter": "python",
   "pygments_lexer": "ipython3",
   "version": "3.7.2"
  }
 },
 "nbformat": 4,
 "nbformat_minor": 2
}
