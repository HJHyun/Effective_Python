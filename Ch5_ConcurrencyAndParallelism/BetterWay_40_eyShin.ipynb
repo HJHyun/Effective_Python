{
 "cells": [
  {
   "cell_type": "markdown",
   "metadata": {},
   "source": [
    "# Better Way 40. 많은 함수를 동시에 실행하려면 코루틴을 고려하자\n",
    "* 스레드를 사용하는 데 있는 세 가지 문제\n",
    "  1. **스레드들이 서로 안전하게 동작하도록 조율하려면 특별한 도구가 필요하다.**\n",
    "    * Better way 38, 39 참조\n",
    "    * 스레드를 사용하는 코드가 절차적인 싱글 스레드 코드보다 이해하기 어렵고,\n",
    "    * 복잡성 때문에 시간이 지날수록 스레드 코드를 확장하거나 유지보수하기 어렵다.\n",
    "  2. **스레드에는 메모리가 많이 필요하다** (스레드 당 8MB 정도)\n",
    "    * 스레드 수십개 가량 쓰는것은 보통 문제가 되지 않지만, \n",
    "    * 사용자가 서버에 보내는 요청, 화면의 픽셀, 시뮬레이션의 입자 등 고유의 활동마다 스레드 하나씩 실행하면... 그래서 스레드 수천개가 동시에 실행해야 한다면 제대로 동작하지 않을 것이다.\n",
    "  3. **스레드를 시작하는 데에 비용이 많이 든다.**\n",
    "    * 끊임없이 새 병행 함수를 생성하고 종료하면 스레드를 사용하는 데 드는 부하가 커져서 전체 시스템이 느려진다."
   ]
  },
  {
   "cell_type": "markdown",
   "metadata": {},
   "source": [
    "* 스레드 대신 코루틴 coroutine 을 사용해보자.\n",
    "  * 코루틴을 사용하면 동시에 많은 함수를 실행하는 것처럼 보이게 할 수 있다.\n",
    "  * 코루틴은 제너레이터의 확장\n",
    "    * Better Way 16\n",
    "  * 코루틴의 비용: 함수 호출 (1KB 미만의 메모리만 소비한다)"
   ]
  },
  {
   "cell_type": "markdown",
   "metadata": {},
   "source": [
    "* 코루틴은 제너레이터를 소비하는 코드에서 send 함수를 사용하여 역으로 제너레이터 함수의 각 yield 표현식에 값을 보낼 수 있게 하는 방법으로 동작\n",
    "* 제너레이터 함수는 send 함수로 보낸 값을 대응하는 yield 표현식의 결과로 받는다"
   ]
  },
  {
   "cell_type": "code",
   "execution_count": 1,
   "metadata": {},
   "outputs": [],
   "source": [
    "def my_coroutine():\n",
    "    while True:\n",
    "        received = yield\n",
    "        print('Received:', received)"
   ]
  },
  {
   "cell_type": "code",
   "execution_count": 2,
   "metadata": {},
   "outputs": [
    {
     "name": "stdout",
     "output_type": "stream",
     "text": [
      "Received: First\n",
      "Received: Second\n"
     ]
    }
   ],
   "source": [
    "it = my_coroutine()\n",
    "next(it) # 코루틴을 준비함\n",
    "\n",
    "it.send('First')\n",
    "it.send('Second')"
   ]
  },
  {
   "cell_type": "markdown",
   "metadata": {},
   "source": [
    "* 보충설명\n",
    "    * 제너레이터를 소비하는 코드 (`def my_coroutine`) 에서 send 함수를 사용 (`it.send`) 하여 역으로 제너레이터 함수의 각 yield 표현식에 값을 보낼 수 있게 하는 방법으로 동작\n",
    "    * 제너레이터 함수 (`def my_coroutine`) 는 send 함수로 보낸 값 (`First`, `Second`) 을 대응하는 yield 표현식의 결과 (`received = yield`) 로 받는다"
   ]
  },
  {
   "cell_type": "markdown",
   "metadata": {},
   "source": [
    "* 제너레이터가 첫 번째 `yield` 표현식으로 전진해서 첫 번째 `send`의 값을 받을 수 있게 하려면 먼저 `next` 를 호출해야 한다.\n",
    "* `yield` 와 `send` 의 조합은 제너레이터가 외부 입력에 반응하여 다음 번에 다른 값을 얻게 하는 표준 방법이다.\n",
    "* 예시) 지금까지 보낸 값 중에서 최솟값을 넘겨주는 제너레이터 코루틴 구현\n",
    "  * 넘길 값이 없는 `yield` 로 외부에서 보낸 초기 최솟값을 받아서 코루틴을 준비\n",
    "  * 이후 제너레이터가 반복적으로 다음 값을 받으면서 새 최솟값을 넘겨줌"
   ]
  },
  {
   "cell_type": "code",
   "execution_count": 3,
   "metadata": {},
   "outputs": [],
   "source": [
    "def minimize():\n",
    "    current = yield\n",
    "    while True:\n",
    "        value = yield current\n",
    "        current = min(value, current)"
   ]
  },
  {
   "cell_type": "code",
   "execution_count": 4,
   "metadata": {},
   "outputs": [
    {
     "name": "stdout",
     "output_type": "stream",
     "text": [
      "10\n",
      "4\n",
      "4\n",
      "-1\n",
      "-1\n"
     ]
    }
   ],
   "source": [
    "it = minimize()\n",
    "next(it)\n",
    "print(it.send(10))\n",
    "print(it.send(4))\n",
    "print(it.send(22))\n",
    "print(it.send(-1))\n",
    "print(it.send(10))"
   ]
  },
  {
   "cell_type": "markdown",
   "metadata": {},
   "source": [
    "* 스레드와 코루틴 비교\n",
    "  * 둘 다 주변 환경에서 받은 입력을 소비하여 결과를 만들어 낼 수 있는 독립적인 함수\n",
    "  * 스레드와 다르게, 코루틴은 제너레이터 함수의 각 `yield` 표현식에서 멈췄다가 외부에서 `send` 를 호출할때마다 다시 시작\n",
    "    * 덕분에, 제너레이터를 소비하는 코드에서 코루틴의 각 `yield` 표현식 이후에 원하는 처리를 할 수 있음\n",
    "      * 제너레이터의 출력 값으로 다른 함수를 호출하거나, 자료구조를 수정하거나...\n",
    "      \n",
    "* 다른 제너레이터 함수들을 `yield` 표현식 이전까지 전진시킬 수 있다는 점이 중요\n",
    "  * 많은 별개의 코루틴을 사용하면 파이썬 스레드의 병행 동작을 흉내내며 동시에 실행하는 것처럼 보인다"
   ]
  },
  {
   "cell_type": "markdown",
   "metadata": {},
   "source": [
    "### 생명 게임\n",
    "* 게임 규칙\n",
    "  * 임의의 크기인 2차원 그리드\n",
    "  * 그리드의 각 셀은 살아 있거나 (alive), 죽어 있거나 (empty) 둘 중 하나"
   ]
  },
  {
   "cell_type": "code",
   "execution_count": 5,
   "metadata": {},
   "outputs": [],
   "source": [
    "ALIVE = '*'\n",
    "EMPTY = '-'"
   ]
  },
  {
   "cell_type": "markdown",
   "metadata": {},
   "source": [
    "* 게임 규칙\n",
    "  * 한 번에 한 틱씩 진행\n",
    "    * 틱이 발생할 때 마다 각 셀은 이웃한 셀 8개 중 몇개가 살아있는지 센다\n",
    "    * 살아남은 이웃의 개수에 근거하여 계속 살아갈지, 죽을지, 되살아날지를 결정\n",
    "      * 너무 적어도 죽고, 너무 많아도 죽고, 적절한 수준일때만 살 수 있다..."
   ]
  },
  {
   "cell_type": "markdown",
   "metadata": {},
   "source": [
    "```\n",
    "  0   |   1   |   2   |   3   |   4   \n",
    "----- | ----- | ----- | ----- | -----\n",
    "-*--- | --*-- | --**- | --*-- | -----\n",
    "--**- | --**- | -*--- | -*--- | -**--\n",
    "---*- | --**- | --**- | --*-- | -----\n",
    "----- | ----- | ----- | ----- | -----\n",
    "```"
   ]
  },
  {
   "cell_type": "markdown",
   "metadata": {},
   "source": [
    "* 이웃 셀의 상태를 알아내는 방법이 필요\n",
    "* Query 클래스는 제너레이터 코루틴이 주변 환경에 정보를 요청할 방법을 제공하는 클래스"
   ]
  },
  {
   "cell_type": "code",
   "execution_count": 6,
   "metadata": {},
   "outputs": [],
   "source": [
    "from collections import namedtuple\n",
    "\n",
    "Query = namedtuple('Query', ('y', 'x'))"
   ]
  },
  {
   "cell_type": "markdown",
   "metadata": {},
   "source": [
    "* 코루틴은 각 이웃별로 Query 를 넘겨준다.\n",
    "  * yield 표현식의 결과는 ALIVE 나 EMPTY\n",
    "* `count_neighbors` 코루틴\n",
    "  * 이웃의 상태를 확인하고 살아있는 이웃의 수를 반환"
   ]
  },
  {
   "cell_type": "code",
   "execution_count": 7,
   "metadata": {},
   "outputs": [],
   "source": [
    "def count_neighbors(y, x):\n",
    "    n_ = yield Query(y+1, x+0) # 북\n",
    "    ne = yield Query(y+1, x+1) # 북동\n",
    "    e_ = yield Query(y+0, x+1) # 동\n",
    "    se = yield Query(y-1, x+1) # 남동\n",
    "    s_ = yield Query(y-1, x+0) # 남\n",
    "    sw = yield Query(y-1, x-1) # 남서\n",
    "    w_ = yield Query(y+0, x-1) # 서\n",
    "    nw = yield Query(y+1, x-1) # 북서\n",
    "    \n",
    "    neighbor_states = [n_, ne, e_, se, s_, sw, w_, nw]\n",
    "    \n",
    "    count = 0\n",
    "    for state in neighbor_states:\n",
    "        if state == ALIVE:\n",
    "            count += 1\n",
    "    return count"
   ]
  },
  {
   "cell_type": "markdown",
   "metadata": {},
   "source": [
    "* 테스트\n",
    "  * 최종 개수는 return 문으로 끝날 때 일어나는 `StopIteration` 예외로 반환됨"
   ]
  },
  {
   "cell_type": "code",
   "execution_count": 8,
   "metadata": {},
   "outputs": [
    {
     "name": "stdout",
     "output_type": "stream",
     "text": [
      "First yield:  Query(y=11, x=5)\n",
      "Second yield: Query(y=11, x=6)\n",
      "...\n",
      "Count:  2\n"
     ]
    }
   ],
   "source": [
    "it = count_neighbors(10, 5)\n",
    "q1 = next(it)                  # Get the first query\n",
    "print('First yield: ', q1)\n",
    "q2 = it.send(ALIVE)            # Send q1 state, get q2\n",
    "print('Second yield:', q2)\n",
    "q3 = it.send(ALIVE)            # Send q2 state, get q3\n",
    "print('...')\n",
    "q4 = it.send(EMPTY)\n",
    "q5 = it.send(EMPTY)\n",
    "q6 = it.send(EMPTY)\n",
    "q7 = it.send(EMPTY)\n",
    "q8 = it.send(EMPTY)\n",
    "try:\n",
    "    it.send(EMPTY)     # Send q8 state, retrieve count\n",
    "except StopIteration as e:\n",
    "    print('Count: ', e.value)  # Value from return statement"
   ]
  },
  {
   "cell_type": "markdown",
   "metadata": {},
   "source": [
    "* `step_cell` 코루틴\n",
    "  * `count_neighbors` 에서 찾은 이웃 카운터에 대응하도록 새로운 상태로 변할 것을 알려주는 기능 구현\n",
    "    * `count_neighbors` 를 실행하여 주변 셀을 조사하고,\n",
    "    * 게임 로직에 의해 다음 clock tick 에 어떤 상태여야 하는지 결정하고,\n",
    "    * `Transition`객체로 셀의 상태 변화를 알린다."
   ]
  },
  {
   "cell_type": "code",
   "execution_count": 9,
   "metadata": {},
   "outputs": [],
   "source": [
    "Transition = namedtuple('Transition', ('y', 'x', 'state'))"
   ]
  },
  {
   "cell_type": "code",
   "execution_count": 10,
   "metadata": {},
   "outputs": [],
   "source": [
    "def step_cell(y, x):\n",
    "    state = yield Query(y, x)\n",
    "    neighbors = yield from count_neighbors(y, x)\n",
    "    next_state = game_logic(state, neighbors)\n",
    "    yield Transition(y, x, next_state)"
   ]
  },
  {
   "cell_type": "code",
   "execution_count": 11,
   "metadata": {},
   "outputs": [],
   "source": [
    "def game_logic(state, neighbors):\n",
    "    if state == ALIVE:\n",
    "        if neighbors < 2:\n",
    "            return EMPTY          # Die: Too few\n",
    "        elif neighbors > 3:\n",
    "            return EMPTY          # Die: Too many\n",
    "    else:\n",
    "        if neighbors == 3:\n",
    "            return ALIVE          # Regenerate\n",
    "    return state"
   ]
  },
  {
   "cell_type": "markdown",
   "metadata": {},
   "source": [
    "* `count_neighbors` 를 호출할 때 `yield from` 을 사용한다.\n",
    "  * 제너레이터 코루틴을 조합하여 더 작은 기능을 재사용하고 간단한 코루틴을 조립하기 더 편함\n",
    "  * `count_neighbors` 가 모두 소진되면 return 문으로 반환하는 최종값은 `yield from` 을 통해 `step_cell` 에 전달된다."
   ]
  },
  {
   "cell_type": "markdown",
   "metadata": {},
   "source": [
    "* 테스트"
   ]
  },
  {
   "cell_type": "code",
   "execution_count": 12,
   "metadata": {},
   "outputs": [
    {
     "name": "stdout",
     "output_type": "stream",
     "text": [
      "Me          Query(y=10, x=5)\n",
      "Q1:         Query(y=11, x=5)\n",
      "Q2:         Query(y=11, x=6)\n",
      "Q3:         Query(y=10, x=6)\n",
      "Q4:         Query(y=9, x=6)\n",
      "Q5:         Query(y=9, x=5)\n",
      "Q6:         Query(y=9, x=4)\n",
      "Q7:         Query(y=10, x=4)\n",
      "Q8:         Query(y=11, x=4)\n",
      "Outcome:    Transition(y=10, x=5, state='*')\n"
     ]
    }
   ],
   "source": [
    "it = step_cell(10, 5)\n",
    "q0 = next(it)  # 초기 위치 쿼리\n",
    "print('Me         ', q0)\n",
    "q1 = it.send(ALIVE)  # 내 상태를 전달하고 이웃 쿼리를 받음\n",
    "print('Q1:        ', q1)\n",
    "q2 = it.send(EMPTY)\n",
    "print('Q2:        ', q2)\n",
    "q3 = it.send(ALIVE)\n",
    "print('Q3:        ', q3)\n",
    "q4 = it.send(EMPTY)\n",
    "print('Q4:        ', q4)\n",
    "q5 = it.send(EMPTY)\n",
    "print('Q5:        ', q5)\n",
    "q6 = it.send(EMPTY)\n",
    "print('Q6:        ', q6)\n",
    "q7 = it.send(EMPTY)\n",
    "print('Q7:        ', q7)\n",
    "q8 = it.send(ALIVE)\n",
    "print('Q8:        ', q8)\n",
    "t1 = it.send(EMPTY)  # q8 상태를 전달하고 게임 상태를 받음\n",
    "print('Outcome:   ', t1)"
   ]
  },
  {
   "cell_type": "markdown",
   "metadata": {},
   "source": [
    "* 그리드의 모든 셀에 로직을 확장해보자\n",
    "  * `simulate` 코루틴"
   ]
  },
  {
   "cell_type": "code",
   "execution_count": 13,
   "metadata": {},
   "outputs": [],
   "source": [
    "TICK = object()\n",
    "\n",
    "def simulate(height, width):\n",
    "    while True:\n",
    "        for y in range(height):\n",
    "            for x in range(width):\n",
    "                yield from step_cell(y, x)\n",
    "        yield TICK"
   ]
  },
  {
   "cell_type": "markdown",
   "metadata": {},
   "source": [
    "* `simulate` 코루틴\n",
    "  * 외부 환경과 완전히 분리되어 있음\n",
    "  * 그리드를 파이썬 객체로 표현할 방법과, `Query`, `Transitio`, `TICK` 을 외부에서 처리할 방법, 초기 상태를 얻을 방법은 아직 정의하지 않음\n",
    "  * 하지만 로직은 명확함"
   ]
  },
  {
   "cell_type": "markdown",
   "metadata": {},
   "source": [
    "* 코루틴을 이용하면 처리할 로직에 집중할 수 있다.\n",
    "  * 원하는 작업을 구현한 부분에서 환경에 해당하는 코드의 명령어를 분리할 수 있다.\n",
    "  * 코루틴을 병렬로 동작하는 것처럼 실행할 수 있다.\n",
    "  * 시간이 지나서도 코루틴을 변경하지 않고 이러한 명령어 이후에 오는 구현을 개선할 수 있다."
   ]
  },
  {
   "cell_type": "markdown",
   "metadata": {},
   "source": [
    "* 그리드를 구현해보자"
   ]
  },
  {
   "cell_type": "code",
   "execution_count": 14,
   "metadata": {},
   "outputs": [],
   "source": [
    "class Grid(object):\n",
    "    def __init__(self, height, width):\n",
    "        self.height = height\n",
    "        self.width = width\n",
    "        self.rows = []\n",
    "        \n",
    "        for _ in range(self.height):\n",
    "            self.rows.append([EMPTY] * self.width)\n",
    "\n",
    "    def __str__(self):\n",
    "        output = ''\n",
    "        for row in self.rows:\n",
    "            for cell in row:\n",
    "                output += cell\n",
    "            output += '\\n'\n",
    "        return output\n",
    "\n",
    "    def query(self, y, x):\n",
    "        return self.rows[y % self.height][x % self.width] # 범위를 벗어난 좌표는 반대쪽으로\n",
    "\n",
    "    def assign(self, y, x, state):\n",
    "        self.rows[y % self.height][x % self.width] = state"
   ]
  },
  {
   "cell_type": "markdown",
   "metadata": {},
   "source": [
    "* `simulate` 에서 나온 값을 해석해서, 그 내부에서 사용하도록 만드는 코루틴을 정의\n",
    "  * 코루틴에서 나온 명령어를 주변 환경과의 상호 작용으로 변환한다\n",
    "  * 그리드 전체를 한 단계 진전시킨 후, 다음 상태를 담은 새로운 그리드를 반환"
   ]
  },
  {
   "cell_type": "code",
   "execution_count": 15,
   "metadata": {},
   "outputs": [],
   "source": [
    "def live_a_generation(grid, sim):\n",
    "    progeny = Grid(grid.height, grid.width)\n",
    "    item = next(sim)\n",
    "    \n",
    "    while item is not TICK:\n",
    "        if isinstance(item, Query):\n",
    "            state = grid.query(item.y, item.x)\n",
    "            item = sim.send(state)\n",
    "        else:  # Must be a Transition\n",
    "            progeny.assign(item.y, item.x, item.state)\n",
    "            item = next(sim)\n",
    "    \n",
    "    return progeny"
   ]
  },
  {
   "cell_type": "markdown",
   "metadata": {},
   "source": [
    "* 그리드를 생성하고 초기 상태를 설정해서 글라이더 glider 라는 고전적인 모양을 만들어보자\n",
    "![Other classical constructions](http://pentadecathlon.com/lifeNews/2006/06/collisions/trivial/trivial.ltbl?bits=8&columns=6)"
   ]
  },
  {
   "cell_type": "code",
   "execution_count": 16,
   "metadata": {},
   "outputs": [
    {
     "name": "stdout",
     "output_type": "stream",
     "text": [
      "---*-----\n",
      "----*----\n",
      "--***----\n",
      "---------\n",
      "---------\n",
      "\n"
     ]
    }
   ],
   "source": [
    "grid = Grid(5, 9)\n",
    "grid.assign(0, 3, ALIVE)\n",
    "grid.assign(1, 4, ALIVE)\n",
    "grid.assign(2, 2, ALIVE)\n",
    "grid.assign(2, 3, ALIVE)\n",
    "grid.assign(2, 4, ALIVE)\n",
    "print(grid)"
   ]
  },
  {
   "cell_type": "markdown",
   "metadata": {},
   "source": [
    "* 이제 이 그리드를 한번에 한 세대 씩 진행해보자"
   ]
  },
  {
   "cell_type": "code",
   "execution_count": 17,
   "metadata": {},
   "outputs": [],
   "source": [
    "class ColumnPrinter(object):\n",
    "    def __init__(self):\n",
    "        self.columns = []\n",
    "\n",
    "    def append(self, data):\n",
    "        self.columns.append(data)\n",
    "\n",
    "    def __str__(self):\n",
    "        row_count = 1\n",
    "        for data in self.columns:\n",
    "            row_count = max(row_count, len(data.splitlines()) + 1)\n",
    "        rows = [''] * row_count\n",
    "        for j in range(row_count):\n",
    "            for i, data in enumerate(self.columns):\n",
    "                line = data.splitlines()[max(0, j - 1)]\n",
    "                if j == 0:\n",
    "                    padding = ' ' * (len(line) // 2)\n",
    "                    rows[j] += padding + str(i) + padding\n",
    "                else:\n",
    "                    rows[j] += line\n",
    "                if (i + 1) < len(self.columns):\n",
    "                    rows[j] += ' | '\n",
    "        return '\\n'.join(rows)"
   ]
  },
  {
   "cell_type": "code",
   "execution_count": 18,
   "metadata": {},
   "outputs": [
    {
     "name": "stdout",
     "output_type": "stream",
     "text": [
      "    0     |     1     |     2     |     3     |     4    \n",
      "---*----- | --------- | --------- | --------- | ---------\n",
      "----*---- | --*-*---- | ----*---- | ---*----- | ----*----\n",
      "--***---- | ---**---- | --*-*---- | ----**--- | -----*---\n",
      "--------- | ---*----- | ---**---- | ---**---- | ---***---\n",
      "--------- | --------- | --------- | --------- | ---------\n"
     ]
    }
   ],
   "source": [
    "colums = ColumnPrinter()\n",
    "sim = simulate(grid.height, grid.width)\n",
    "for i in range(5):\n",
    "    colums.append(str(grid))\n",
    "    grid = live_a_generation(grid, sim)\n",
    "\n",
    "print(colums)"
   ]
  },
  {
   "cell_type": "markdown",
   "metadata": {},
   "source": [
    "* 이런 식으로 코루틴을 쓰면...\n",
    "  * 주변 코드를 업데이트하지 않고도 `game_logic` 함수를 변경할 수 있다\n",
    "    * `Query`, `Transition`, `TICK` 을 그대로 두고 규칙을 변경하거나 더 큰 영향력 있는 요소를 넣을 수도 있다\n",
    "  * 코루틴의 중요한 설계 원칙 중 하나: 관심 영역의 분리\n",
    "    * 를 어떻게 가능하게 하는지 보여준다"
   ]
  },
  {
   "cell_type": "markdown",
   "metadata": {},
   "source": [
    "### 파이썬 2의 코루틴\n",
    "* 파이썬 2에는 `yield from` 이 없다"
   ]
  },
  {
   "cell_type": "code",
   "execution_count": 19,
   "metadata": {},
   "outputs": [
    {
     "name": "stdout",
     "output_type": "stream",
     "text": [
      "['A', 1, 2, 'B']\n"
     ]
    }
   ],
   "source": [
    "def delegated():\n",
    "    yield 1\n",
    "    yield 2\n",
    "\n",
    "def composed():\n",
    "    yield 'A'\n",
    "    for value in delegated():  # yield from in Python 3\n",
    "        yield value\n",
    "    yield 'B'\n",
    "\n",
    "print(list(composed()))"
   ]
  },
  {
   "cell_type": "markdown",
   "metadata": {},
   "source": [
    "* 파이썬 2의 제너레이터에는 return 문을 지원하지 않는다\n",
    "  * `try/except/finally` 블록과 올바르게 상호작용하는 동작을 구현하려면 직접 예외 타입을 정의한 후 값을 반환하고 싶을 때 해당 예외를 일으켜야 한다"
   ]
  },
  {
   "cell_type": "code",
   "execution_count": 20,
   "metadata": {},
   "outputs": [
    {
     "name": "stdout",
     "output_type": "stream",
     "text": [
      "[1, 8]\n"
     ]
    }
   ],
   "source": [
    "class MyReturn(Exception):\n",
    "    def __init__(self, value):\n",
    "        self.value = value\n",
    "\n",
    "def delegated():\n",
    "    yield 1\n",
    "    raise MyReturn(2)  # return 2 in Python 3\n",
    "    yield 'Not reached'\n",
    "\n",
    "def composed():\n",
    "    try:\n",
    "        for value in delegated():\n",
    "            yield value\n",
    "    except MyReturn as e:\n",
    "        output = e.value\n",
    "    yield output * 4\n",
    "\n",
    "print(list(composed()))"
   ]
  },
  {
   "cell_type": "markdown",
   "metadata": {},
   "source": [
    "### 핵심 정리\n",
    "* 코루틴은 함수 수만 개를 마치 동시에 실행하는 것처럼 실행하는 효과적인 방법을 제공한다.\n",
    "* 제너레이터 안에서 `yield` 표현식의 값은 외부 코드에서 제너레이터의 `send` 메서드에 전달한 값이다.\n",
    "* 코루틴은 프로그램의 핵심 로직을 주변 환경과 상호작용하는 코드로부터 분리할 수 있는 강력한 도구이다.\n",
    "* 파이썬 2는 `yield from` 문법과 제너레이터에서 값을 반환하는 기능을 지원하지 않는다."
   ]
  }
 ],
 "metadata": {
  "kernelspec": {
   "display_name": "Python 3",
   "language": "python",
   "name": "python3"
  },
  "language_info": {
   "codemirror_mode": {
    "name": "ipython",
    "version": 3
   },
   "file_extension": ".py",
   "mimetype": "text/x-python",
   "name": "python",
   "nbconvert_exporter": "python",
   "pygments_lexer": "ipython3",
   "version": "3.7.0"
  }
 },
 "nbformat": 4,
 "nbformat_minor": 2
}
