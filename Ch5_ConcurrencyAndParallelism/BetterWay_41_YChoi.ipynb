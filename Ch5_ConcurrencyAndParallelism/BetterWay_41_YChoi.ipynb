{
 "cells": [
  {
   "cell_type": "markdown",
   "metadata": {},
   "source": [
    "## Better Way 41. 진정한 병렬성을 실행하려면 concurrent.futures를 고려하자"
   ]
  },
  {
   "cell_type": "markdown",
   "metadata": {},
   "source": [
    "* **파이썬 프로그램에서 성능 충족하기**\n",
    "\t- 코드 최적화 이후에도 실행 속도가 매우 느릴 수 있음.\n",
    "    - **병렬성**이 한 해결책이지만...\n",
    "    \t+ ~~코드의 연산 부분을 여러 CPU 코어에서 동시에 실행할 수 있게 독립적으로 동작하는 부분으로 나누기~~\n",
    "            + **전역 인터프리터 잠금(GIL)이 스레드에서 진정한 병렬성을 막기 때문에(**BW 37**) 불가능.\n",
    "        + **가장 성능이 중요한 코드를 C 언어 확장 모듈로 재작성하기**\n",
    "        \t+ 일반적 방법.\n",
    "            + 하드웨어에 더 가까워지고 파이썬보다 빨리 실행할 수 있어 병렬화할 필요가 사라짐.\n",
    "            + 하지만 코드 재작성 비용 및 버그 문제도 고려해야 함.\n",
    "            + C 확장으로 병렬로 실행하는 네이티브 스레드를 시작해서 여러 CPU 코어를 활용할 수 있음.\n",
    "            + C로의 변환 작업을 수월하게 해주는 오픈 소스 도구 존재.\n",
    "                + Cython(http://cython.org)\n",
    "                + Numba(http://numba.pydata.org/)\n",
    "        + **내장 모듈 multiprocessing 사용**\n",
    "            + 파이썬에서 특정 유형의 계산을 최소한의 노력으로 병렬화할 수 있는 방법.\n",
    "            + **`concurrent.futures`**로 쉽게 접근 가능.\n",
    "            + 자식 프로세스로 추가 인터프리터를 실행해 병렬로 여러 CPU 코어 활용 가능.\n",
    "                + **자식 프로세스는 주 인터프리터와 별개이므로 GIL 역시 분리됨.**\n",
    "                + 각 자식은 CPU 코어 하나를 온전히 사용 가능."
   ]
  },
  {
   "cell_type": "markdown",
   "metadata": {},
   "source": [
    "### 예시: 두 숫자의 최대공약수를 찾는 알고리즘 구현"
   ]
  },
  {
   "cell_type": "markdown",
   "metadata": {},
   "source": [
    "#### I. 병렬성이 없는 경우."
   ]
  },
  {
   "cell_type": "code",
   "execution_count": 1,
   "metadata": {},
   "outputs": [],
   "source": [
    "def gcd(pair):\n",
    "    a, b = pair\n",
    "    low = min(a, b)\n",
    "    for i in range(low, 0, -1):\n",
    "        if a % i == 0 and b % i == 0:\n",
    "            return i"
   ]
  },
  {
   "cell_type": "markdown",
   "metadata": {},
   "source": [
    "병렬성이 없으므로 gcd 함수를 순서대로 실행하면 시간이 선형적으로 증가함."
   ]
  },
  {
   "cell_type": "code",
   "execution_count": 2,
   "metadata": {},
   "outputs": [
    {
     "name": "stdout",
     "output_type": "stream",
     "text": [
      "Took 0.479 seconds\n"
     ]
    }
   ],
   "source": [
    "from time import time\n",
    "numbers = [(1963309, 2265973), (2030677, 3814172),\n",
    "           (1551645, 2229620), (2039045, 2020802)]\n",
    "start = time()\n",
    "results = list(map(gcd, numbers))\n",
    "end = time()\n",
    "print('Took %.3f seconds' % (end - start))"
   ]
  },
  {
   "cell_type": "markdown",
   "metadata": {},
   "source": [
    "여러 파이썬 스레드에서 위 코드를 실행하면 GIL로 인해 여러 CPU 코어의 병렬 사용이 불가해 속도가 개선 안 됨."
   ]
  },
  {
   "cell_type": "markdown",
   "metadata": {},
   "source": [
    "#### II. `concurrents.futures` 모듈의 `ThreadPoolExecutor` 클래스 및 작업 스레드 2개를 사용하는 경우."
   ]
  },
  {
   "cell_type": "code",
   "execution_count": 3,
   "metadata": {},
   "outputs": [
    {
     "name": "stdout",
     "output_type": "stream",
     "text": [
      "Took 0.485 seconds\n"
     ]
    }
   ],
   "source": [
    "from concurrent.futures import ThreadPoolExecutor\n",
    "\n",
    "start = time()\n",
    "pool = ThreadPoolExecutor(max_workers=2)\n",
    "results = list(pool.map(gcd, numbers))\n",
    "end = time()\n",
    "print('Took %.3f seconds' % (end - start))"
   ]
  },
  {
   "cell_type": "markdown",
   "metadata": {},
   "source": [
    "위 결과는 **스레드 풀 시작 및 통신에 드는 오버헤드**로 인해 더 느림."
   ]
  },
  {
   "cell_type": "markdown",
   "metadata": {},
   "source": [
    "#### III. `ThreadPoolExecutor`를 `concurrent.futures` 모듈의 `ProcessPoolExecutor`로 대체하는 경우."
   ]
  },
  {
   "cell_type": "code",
   "execution_count": 4,
   "metadata": {},
   "outputs": [],
   "source": [
    "from multiprocessing import Process, freeze_support\n",
    "\n",
    "def foo():\n",
    "    print('hello')\n",
    "\n",
    "if __name__ == '__main__':\n",
    "    freeze_support()\n",
    "    p = Process(target=foo)\n",
    "    p.start()"
   ]
  },
  {
   "cell_type": "code",
   "execution_count": 5,
   "metadata": {},
   "outputs": [
    {
     "ename": "BrokenProcessPool",
     "evalue": "A process in the process pool was terminated abruptly while the future was running or pending.",
     "output_type": "error",
     "traceback": [
      "\u001b[1;31m---------------------------------------------------------------------------\u001b[0m",
      "\u001b[1;31mBrokenProcessPool\u001b[0m                         Traceback (most recent call last)",
      "\u001b[1;32m<ipython-input-5-c2267f93f6a1>\u001b[0m in \u001b[0;36m<module>\u001b[1;34m\u001b[0m\n\u001b[0;32m      3\u001b[0m \u001b[0mstart\u001b[0m \u001b[1;33m=\u001b[0m \u001b[0mtime\u001b[0m\u001b[1;33m(\u001b[0m\u001b[1;33m)\u001b[0m\u001b[1;33m\u001b[0m\u001b[1;33m\u001b[0m\u001b[0m\n\u001b[0;32m      4\u001b[0m \u001b[0mpool\u001b[0m \u001b[1;33m=\u001b[0m \u001b[0mProcessPoolExecutor\u001b[0m\u001b[1;33m(\u001b[0m\u001b[0mmax_workers\u001b[0m\u001b[1;33m=\u001b[0m\u001b[1;36m2\u001b[0m\u001b[1;33m)\u001b[0m  \u001b[1;31m# The one change\u001b[0m\u001b[1;33m\u001b[0m\u001b[1;33m\u001b[0m\u001b[0m\n\u001b[1;32m----> 5\u001b[1;33m \u001b[0mresults\u001b[0m \u001b[1;33m=\u001b[0m \u001b[0mlist\u001b[0m\u001b[1;33m(\u001b[0m\u001b[0mpool\u001b[0m\u001b[1;33m.\u001b[0m\u001b[0mmap\u001b[0m\u001b[1;33m(\u001b[0m\u001b[0mgcd\u001b[0m\u001b[1;33m,\u001b[0m \u001b[0mnumbers\u001b[0m\u001b[1;33m)\u001b[0m\u001b[1;33m)\u001b[0m\u001b[1;33m\u001b[0m\u001b[1;33m\u001b[0m\u001b[0m\n\u001b[0m\u001b[0;32m      6\u001b[0m \u001b[0mend\u001b[0m \u001b[1;33m=\u001b[0m \u001b[0mtime\u001b[0m\u001b[1;33m(\u001b[0m\u001b[1;33m)\u001b[0m\u001b[1;33m\u001b[0m\u001b[1;33m\u001b[0m\u001b[0m\n\u001b[0;32m      7\u001b[0m \u001b[0mprint\u001b[0m\u001b[1;33m(\u001b[0m\u001b[1;34m'Took %.3f seconds'\u001b[0m \u001b[1;33m%\u001b[0m \u001b[1;33m(\u001b[0m\u001b[0mend\u001b[0m \u001b[1;33m-\u001b[0m \u001b[0mstart\u001b[0m\u001b[1;33m)\u001b[0m\u001b[1;33m)\u001b[0m\u001b[1;33m\u001b[0m\u001b[1;33m\u001b[0m\u001b[0m\n",
      "\u001b[1;32mC:\\Anaconda\\lib\\concurrent\\futures\\process.py\u001b[0m in \u001b[0;36m_chain_from_iterable_of_lists\u001b[1;34m(iterable)\u001b[0m\n\u001b[0;32m    474\u001b[0m     \u001b[0mcareful\u001b[0m \u001b[1;32mnot\u001b[0m \u001b[0mto\u001b[0m \u001b[0mkeep\u001b[0m \u001b[0mreferences\u001b[0m \u001b[0mto\u001b[0m \u001b[0myielded\u001b[0m \u001b[0mobjects\u001b[0m\u001b[1;33m.\u001b[0m\u001b[1;33m\u001b[0m\u001b[1;33m\u001b[0m\u001b[0m\n\u001b[0;32m    475\u001b[0m     \"\"\"\n\u001b[1;32m--> 476\u001b[1;33m     \u001b[1;32mfor\u001b[0m \u001b[0melement\u001b[0m \u001b[1;32min\u001b[0m \u001b[0miterable\u001b[0m\u001b[1;33m:\u001b[0m\u001b[1;33m\u001b[0m\u001b[1;33m\u001b[0m\u001b[0m\n\u001b[0m\u001b[0;32m    477\u001b[0m         \u001b[0melement\u001b[0m\u001b[1;33m.\u001b[0m\u001b[0mreverse\u001b[0m\u001b[1;33m(\u001b[0m\u001b[1;33m)\u001b[0m\u001b[1;33m\u001b[0m\u001b[1;33m\u001b[0m\u001b[0m\n\u001b[0;32m    478\u001b[0m         \u001b[1;32mwhile\u001b[0m \u001b[0melement\u001b[0m\u001b[1;33m:\u001b[0m\u001b[1;33m\u001b[0m\u001b[1;33m\u001b[0m\u001b[0m\n",
      "\u001b[1;32mC:\\Anaconda\\lib\\concurrent\\futures\\_base.py\u001b[0m in \u001b[0;36mresult_iterator\u001b[1;34m()\u001b[0m\n\u001b[0;32m    584\u001b[0m                     \u001b[1;31m# Careful not to keep a reference to the popped future\u001b[0m\u001b[1;33m\u001b[0m\u001b[1;33m\u001b[0m\u001b[1;33m\u001b[0m\u001b[0m\n\u001b[0;32m    585\u001b[0m                     \u001b[1;32mif\u001b[0m \u001b[0mtimeout\u001b[0m \u001b[1;32mis\u001b[0m \u001b[1;32mNone\u001b[0m\u001b[1;33m:\u001b[0m\u001b[1;33m\u001b[0m\u001b[1;33m\u001b[0m\u001b[0m\n\u001b[1;32m--> 586\u001b[1;33m                         \u001b[1;32myield\u001b[0m \u001b[0mfs\u001b[0m\u001b[1;33m.\u001b[0m\u001b[0mpop\u001b[0m\u001b[1;33m(\u001b[0m\u001b[1;33m)\u001b[0m\u001b[1;33m.\u001b[0m\u001b[0mresult\u001b[0m\u001b[1;33m(\u001b[0m\u001b[1;33m)\u001b[0m\u001b[1;33m\u001b[0m\u001b[1;33m\u001b[0m\u001b[0m\n\u001b[0m\u001b[0;32m    587\u001b[0m                     \u001b[1;32melse\u001b[0m\u001b[1;33m:\u001b[0m\u001b[1;33m\u001b[0m\u001b[1;33m\u001b[0m\u001b[0m\n\u001b[0;32m    588\u001b[0m                         \u001b[1;32myield\u001b[0m \u001b[0mfs\u001b[0m\u001b[1;33m.\u001b[0m\u001b[0mpop\u001b[0m\u001b[1;33m(\u001b[0m\u001b[1;33m)\u001b[0m\u001b[1;33m.\u001b[0m\u001b[0mresult\u001b[0m\u001b[1;33m(\u001b[0m\u001b[0mend_time\u001b[0m \u001b[1;33m-\u001b[0m \u001b[0mtime\u001b[0m\u001b[1;33m.\u001b[0m\u001b[0mmonotonic\u001b[0m\u001b[1;33m(\u001b[0m\u001b[1;33m)\u001b[0m\u001b[1;33m)\u001b[0m\u001b[1;33m\u001b[0m\u001b[1;33m\u001b[0m\u001b[0m\n",
      "\u001b[1;32mC:\\Anaconda\\lib\\concurrent\\futures\\_base.py\u001b[0m in \u001b[0;36mresult\u001b[1;34m(self, timeout)\u001b[0m\n\u001b[0;32m    430\u001b[0m                 \u001b[1;32mraise\u001b[0m \u001b[0mCancelledError\u001b[0m\u001b[1;33m(\u001b[0m\u001b[1;33m)\u001b[0m\u001b[1;33m\u001b[0m\u001b[1;33m\u001b[0m\u001b[0m\n\u001b[0;32m    431\u001b[0m             \u001b[1;32melif\u001b[0m \u001b[0mself\u001b[0m\u001b[1;33m.\u001b[0m\u001b[0m_state\u001b[0m \u001b[1;33m==\u001b[0m \u001b[0mFINISHED\u001b[0m\u001b[1;33m:\u001b[0m\u001b[1;33m\u001b[0m\u001b[1;33m\u001b[0m\u001b[0m\n\u001b[1;32m--> 432\u001b[1;33m                 \u001b[1;32mreturn\u001b[0m \u001b[0mself\u001b[0m\u001b[1;33m.\u001b[0m\u001b[0m__get_result\u001b[0m\u001b[1;33m(\u001b[0m\u001b[1;33m)\u001b[0m\u001b[1;33m\u001b[0m\u001b[1;33m\u001b[0m\u001b[0m\n\u001b[0m\u001b[0;32m    433\u001b[0m             \u001b[1;32melse\u001b[0m\u001b[1;33m:\u001b[0m\u001b[1;33m\u001b[0m\u001b[1;33m\u001b[0m\u001b[0m\n\u001b[0;32m    434\u001b[0m                 \u001b[1;32mraise\u001b[0m \u001b[0mTimeoutError\u001b[0m\u001b[1;33m(\u001b[0m\u001b[1;33m)\u001b[0m\u001b[1;33m\u001b[0m\u001b[1;33m\u001b[0m\u001b[0m\n",
      "\u001b[1;32mC:\\Anaconda\\lib\\concurrent\\futures\\_base.py\u001b[0m in \u001b[0;36m__get_result\u001b[1;34m(self)\u001b[0m\n\u001b[0;32m    382\u001b[0m     \u001b[1;32mdef\u001b[0m \u001b[0m__get_result\u001b[0m\u001b[1;33m(\u001b[0m\u001b[0mself\u001b[0m\u001b[1;33m)\u001b[0m\u001b[1;33m:\u001b[0m\u001b[1;33m\u001b[0m\u001b[1;33m\u001b[0m\u001b[0m\n\u001b[0;32m    383\u001b[0m         \u001b[1;32mif\u001b[0m \u001b[0mself\u001b[0m\u001b[1;33m.\u001b[0m\u001b[0m_exception\u001b[0m\u001b[1;33m:\u001b[0m\u001b[1;33m\u001b[0m\u001b[1;33m\u001b[0m\u001b[0m\n\u001b[1;32m--> 384\u001b[1;33m             \u001b[1;32mraise\u001b[0m \u001b[0mself\u001b[0m\u001b[1;33m.\u001b[0m\u001b[0m_exception\u001b[0m\u001b[1;33m\u001b[0m\u001b[1;33m\u001b[0m\u001b[0m\n\u001b[0m\u001b[0;32m    385\u001b[0m         \u001b[1;32melse\u001b[0m\u001b[1;33m:\u001b[0m\u001b[1;33m\u001b[0m\u001b[1;33m\u001b[0m\u001b[0m\n\u001b[0;32m    386\u001b[0m             \u001b[1;32mreturn\u001b[0m \u001b[0mself\u001b[0m\u001b[1;33m.\u001b[0m\u001b[0m_result\u001b[0m\u001b[1;33m\u001b[0m\u001b[1;33m\u001b[0m\u001b[0m\n",
      "\u001b[1;31mBrokenProcessPool\u001b[0m: A process in the process pool was terminated abruptly while the future was running or pending."
     ]
    }
   ],
   "source": [
    "from concurrent.futures import ProcessPoolExecutor\n",
    "\n",
    "start = time()\n",
    "pool = ProcessPoolExecutor(max_workers=2)  # The one change\n",
    "results = list(pool.map(gcd, numbers))\n",
    "end = time()\n",
    "print('Took %.3f seconds' % (end - start))"
   ]
  },
  {
   "cell_type": "markdown",
   "metadata": {},
   "source": [
    "책의 코드는 몇 가지 문제로 Windows Jupyter Notebook 환경에서 그대로 실행되지 않음.\n",
    "* 파이썬 3.7의 `multiprocessing` 문서 참조.\n",
    "    + `Pool` 클래스(**작업자 프로세스 풀**을 나타냄)를 사용하기 위해서는 `__main__` 모듈을 자식 프로세스가 임포트할 수 있어야 함.\n",
    "        + 다른 모듈과 구분되는 `__main__` 모듈이 존재해야 함.\n",
    "        + 대화형 인터프리터에서는 동작하지 않음.\n",
    "        + 새 프로세스 시작 등의 부작용을 일으키지 않고 `__main__` 모듈을 안전하게 가져오기 위해서는 `if __name__ == '__main__'`을 사용해 프로그램의 **진입 지점entry point**을 보호해야 함.\n",
    "* `if __name__ == '__main__'`을 사용한 .py 파일을 %run으로 실행하더라도 Jupyter Notebook에서는 다음과 같은 오류가 발생함: `AttributeError: module '__main__' has no attribute '__spec__'`.\n",
    "    + `if __name__ == '__main__'` 하단에 `__spec__ = \"ModuleSpec(name='builtins', loader=<class '_frozen_importlib.BuiltinImporter'>)\"`를 추가하면 정상적으로 실행됨.\n",
    "\n",
    "\n",
    "* 관련 내용은 아래 링크들 참조.\n",
    "    + https://docs.python.org/3/library/multiprocessing.html#multiprocessing-programming\n",
    "    + https://stackoverflow.com/questions/14175348/why-does-pythons-multiprocessing-module-import-main-when-starting-a-new-pro\n",
    "    + https://stackoverflow.com/questions/45720153/python-multiprocessing-error-attributeerror-module-main-has-no-attribute"
   ]
  },
  {
   "cell_type": "code",
   "execution_count": 6,
   "metadata": {},
   "outputs": [
    {
     "name": "stdout",
     "output_type": "stream",
     "text": [
      "Took 0.410 seconds\n"
     ]
    }
   ],
   "source": [
    "%run BetterWay_41_YChoi_ProcessPoolExecutor"
   ]
  },
  {
   "cell_type": "code",
   "execution_count": 7,
   "metadata": {},
   "outputs": [],
   "source": [
    "# from concurrent.futures import ProcessPoolExecutor\n",
    "# from time import time\n",
    "\n",
    "# def gcd(pair):\n",
    "#     a, b = pair\n",
    "#     low = min(a, b)\n",
    "#     for i in range(low, 0, -1):\n",
    "#         if a % i == 0 and b % i == 0:\n",
    "#             return i\n",
    "\n",
    "# def main():\n",
    "#     numbers = [(1963309, 2265973), (2030677, 3814172),\n",
    "#                (1551645, 2229620), (2039045, 2020802)]\n",
    "#     start = time()\n",
    "#     pool = ProcessPoolExecutor(max_workers=2)  # The one change\n",
    "#     results = list(pool.map(gcd, numbers))\n",
    "#     end = time()\n",
    "#     print('Took %.3f seconds' % (end - start))\n",
    "\n",
    "# if __name__ == \"__main__\":\n",
    "#     __spec__ = \"ModuleSpec(name='builtins', loader=<class '_frozen_importlib.BuiltinImporter'>)\"\n",
    "#     main()"
   ]
  },
  {
   "cell_type": "markdown",
   "metadata": {},
   "source": [
    "속도가 향상되는 것을 확인 가능."
   ]
  },
  {
   "cell_type": "markdown",
   "metadata": {},
   "source": [
    "### ProcessPoolExecutor 클래스가 (multiprocessing 모듈이 제공하는 저수준 구조를 이용해) 실제로 하는 작업\n",
    "\n",
    "1. numbers 입력 데이터에서 map으로 각 아이템을 가져온다.\n",
    "2. pickle 모듈을 사용하여 바이너리 데이터로 직렬화한다(**BW44**).\n",
    "3. 주 인터프리터 프로세스에서 직렬화한 데이터를 지역 소켓을 통해 자식 인터프리터 프로세스로 복사한다.\n",
    "4. 자식 프로세스에서 pickle을 사용하여 데이터를 파이썬 객체로 역직렬화한다.\n",
    "5. gcd 함수가 들어 있는 파이썬 모듈을 임포트한다.\n",
    "6. 다른 자식 프로세스를 사용하여 병렬로 입력 데이터에 함수를 실행한다.\n",
    "7. 결과를 다시 바이트로 직렬화한다.\n",
    "8. 소켓을 통해 바이트를 다시 복사한다.\n",
    "9. 바이트를 부모 프로세스에 있는 파이썬 객체로 역직렬화한다.\n",
    "10. 마지막으로 여러 자식에 있는 결과를 반환용 리스트 한 개로 합친다.\n",
    "\n",
    "\n",
    "* `multiprocessing`\n",
    "    - 부모와 자식 프로세스 간에 일어날 수밖에 없는 모든 직렬화와 역직렬화 때문에 비용이 높음.\n",
    "    - 고립되고 지렛대 효과가 큰 특정 유형의 작업에 적합.\n",
    "        + **고립(isolated)**: 프로그램의 다른 부분과 상태를 공유할 필요가 없음.\n",
    "        + **지렛대 효과가 큼(high-leverage)**: 부모와 자식 프로세스 사이에서 데이터를 조금만 전송해도 많은 양의 계산이 일어나야 함.\n",
    "            + 최대공약수 계산 알고리즘이 한 예.\n",
    "            + 이외의 다른 수학적 알고리즘도 대부분 비슷하게 동작.\n",
    "    - 이러한 유형의 계산이 아닌 경우?\n",
    "        + `multiprocessing` 비용이 병렬성을 통한 속도 향상을 막을 수 있음.\n",
    "        + `mutiprocessing`은 이런 상황에 쓸 수 있는 공유 메모리, 프로세스 간 잠금, 큐, 프록시 같은 고급 기능을 제공하지만 지나치게 복잡함.\n",
    "    - 결론?\n",
    "        + **`multiprocessing`의 모든 기능을 직접 사용하지 말고, 더 간단한 `concurrent.futures` 모듈을 통해 사용하는 것을 권장.**\n",
    "            + `ThreadPoolExecutor` 클래스를 사용하여 고립되고 지렛대 효과가 큰 함수를 스레드에서 실행하는 것부터 시작.\n",
    "            + 추후 속도를 향상하려면 `ProcessPoolExecutor`클래스를 사용.\n",
    "            + `multiprocessing` 모듈의 직접 사용은 마지막으로 고려.\n",
    "            \n",
    "\n",
    "## 핵심 정리\n",
    "* CPU 병목점을 C 확장 모듈로 옮기기:\n",
    "    - 장점: 파이썬 코드에 최대한 투자하면서 성능을 개선할 수 있는 효과적인 방법.\n",
    "    - 단점: 비용이 많이 들어가고 버그가 생길 수 있음.\n",
    "* 다른 해결책: `multiprocessing` 모듈\n",
    "    - 파이썬에서 특정 유형의 계산을 최소한의 노력으로 병렬화할 수 있는 강력한 도구를 제공.\n",
    "* `multiprocessing`의 강력한 기능은 `concurrent.futures` 및 그 안의 간단한 `ProcessPoolExecutor` 클래스로 접근하는 게 가장 좋음.\n",
    "* `multiprocessing` 모듈의 고급 기능은 너무 복잡하므로 피하는 것을 권장."
   ]
  }
 ],
 "metadata": {
  "kernelspec": {
   "display_name": "Python 3",
   "language": "python",
   "name": "python3"
  },
  "language_info": {
   "codemirror_mode": {
    "name": "ipython",
    "version": 3
   },
   "file_extension": ".py",
   "mimetype": "text/x-python",
   "name": "python",
   "nbconvert_exporter": "python",
   "pygments_lexer": "ipython3",
   "version": "3.7.3"
  }
 },
 "nbformat": 4,
 "nbformat_minor": 2
}
