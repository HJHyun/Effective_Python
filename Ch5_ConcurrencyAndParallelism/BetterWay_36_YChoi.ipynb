{
 "cells": [
  {
   "cell_type": "markdown",
   "metadata": {},
   "source": [
    "# Chapter 5. 병행성과 병렬성"
   ]
  },
  {
   "cell_type": "markdown",
   "metadata": {},
   "source": [
    "* **병행성(concurrency)**\n",
    "    - 여러 일을 마치 동시에 하듯이 수행하는 것.\n",
    "* **병렬성(parallelism)**\n",
    "    - 실제로 여러 작업을 동시에 실행하는 것.\n",
    "    - 작업 속도 향상 가능.\n",
    "* 파이썬 사용시\n",
    "    - 병행 프로그램을 쉽게 작성 가능.\n",
    "    - 시스템 호출, 서브프로세스, C 확장을 이용한 병렬 작업도 가능.\n",
    "    - 병행 파이썬 코드를 실제 병렬로 실행하게 만드는 것은 매우 어려움."
   ]
  },
  {
   "cell_type": "markdown",
   "metadata": {},
   "source": [
    "## Better Way 36. 자식 프로세스를 관리하려면 subprocess를 사용하자"
   ]
  },
  {
   "cell_type": "markdown",
   "metadata": {},
   "source": [
    "* 파이썬의 관련 장점\n",
    "    - 자식 프로세스 실행 및 관리용 라이브러리 존재.\n",
    "        + 명령줄 유틸리티 등 다른 도구 연계에 유용.\n",
    "    - 자식 프로세스를 병렬로 실행 가능.\n",
    "        + CPU 코어를 모두 이용해 처리량 극대화 가능.\n",
    "    - 파이썬 자체는 CPU 속도에 의존할 수 있지만(**BW 37** 참조) CPU를 많이 사용하는 작업 관리 및 조절이 용이.\n",
    "    \n",
    "\n",
    "* 파이썬에서 서브프로세스를 실행하는 방법\n",
    "    - popen, popen2, os.exec* 등 존재.\n",
    "    - **내장 모듈 subprocess 사용**\n",
    "        + 최선이자 가장 간단한 방법.\n",
    "  \n",
    "  \n",
    "* [예시] subprocess로 자식 프로세스 실행.\n",
    "    - Popen 생성자가 프로세스 시작.\n",
    "    - communicate 메서드가 자식 프로세스의 출력을 읽어오고 종료시까지 대기."
   ]
  },
  {
   "cell_type": "code",
   "execution_count": 3,
   "metadata": {},
   "outputs": [],
   "source": [
    "import subprocess"
   ]
  },
  {
   "cell_type": "code",
   "execution_count": 4,
   "metadata": {},
   "outputs": [
    {
     "name": "stdout",
     "output_type": "stream",
     "text": [
      "Hello from the child!\n",
      "\n"
     ]
    }
   ],
   "source": [
    "proc = subprocess.Popen(\n",
    "    ['echo', 'Hello from the child!'],\n",
    "    stdout=subprocess.PIPE)\n",
    "out, err = proc.communicate()\n",
    "print(out.decode('utf-8'))"
   ]
  },
  {
   "cell_type": "markdown",
   "metadata": {},
   "source": [
    "* 자식 프로세스\n",
    "    - 부모 프로세스 및 파이썬 인터프리터와 독립적으로 실행됨.\n",
    "    - 자식 프로세스의 상태는 파이썬이 다른 작업을 하는 동안 주기적으로 폴링(polling)됨."
   ]
  },
  {
   "cell_type": "code",
   "execution_count": 7,
   "metadata": {},
   "outputs": [
    {
     "name": "stdout",
     "output_type": "stream",
     "text": [
      "Working...\n",
      "Working...\n",
      "Exit status 0\n"
     ]
    }
   ],
   "source": [
    "from time import sleep, time\n",
    "\n",
    "proc = subprocess.Popen(['sleep', '0.3'])\n",
    "while proc.poll() is None:\n",
    "    print(\"Working...\")\n",
    "    # 시간이 걸리는 작업 몇 개를 수행함\n",
    "    sleep(0.2)\n",
    "print('Exit status', proc.poll())"
   ]
  },
  {
   "cell_type": "markdown",
   "metadata": {},
   "source": [
    "* 부모에서 자식 프로세스를 떼어낸다는 것은 부모 프로세스가 자유롭게 여러 자식 프로세스를 병렬로 실행할 수 있음을 의미.\n",
    "    - 자식 프로세스를 떼어내려면 모든 자식 프로세스를 먼저 시작하면 됨."
   ]
  },
  {
   "cell_type": "code",
   "execution_count": 9,
   "metadata": {},
   "outputs": [],
   "source": [
    "def run_sleep(period):\n",
    "    proc = subprocess.Popen(['sleep', str(period)])\n",
    "    return proc\n",
    "\n",
    "start = time()\n",
    "procs = []\n",
    "for _ in range(10):\n",
    "    proc = run_sleep(0.1)\n",
    "    procs.append(proc)"
   ]
  },
  {
   "cell_type": "markdown",
   "metadata": {},
   "source": [
    "* 이후에는 communicate 메서드로 자식 프로세스들이 I/O를 마치고 종료하기를 기다리면 됨."
   ]
  },
  {
   "cell_type": "code",
   "execution_count": 10,
   "metadata": {},
   "outputs": [
    {
     "name": "stdout",
     "output_type": "stream",
     "text": [
      "Finished in 68.933 seconds\n"
     ]
    }
   ],
   "source": [
    "for proc in procs:\n",
    "    proc.communicate()\n",
    "end = time()\n",
    "print('Finished in %.3f seconds' % (end - start))"
   ]
  },
  {
   "cell_type": "markdown",
   "metadata": {},
   "source": [
    "* **파이프(pipe)** 를 이용해 데이터를 서브프로세스로 보낸 다음 서브프로세스의 결과를 받아올 수도 있음.\n",
    "    - 이를 이용해 다른 프로그램을 활용한 병렬 작업 수행 가능.\n",
    "\n",
    "\n",
    "* [예시] 데이터 암호화에 openssl 명령줄 도구를 사용하는 경우.\n",
    "    - 명령줄 인수와 I/O 파이프를 사용해 자식프로세스 실행."
   ]
  },
  {
   "cell_type": "code",
   "execution_count": 16,
   "metadata": {},
   "outputs": [],
   "source": [
    "import os\n",
    "\n",
    "def run_openssl(data):\n",
    "    env = os.environ.copy()\n",
    "    env['password'] = '\\xe24U\\n\\xd0Ql3S\\x11' # b'\\xe24U\\n\\xd0Ql3S\\x11'\n",
    "    proc = subprocess.Popen(\n",
    "        ['openssl', 'enc', '-des3', '-pass', 'env:password'],\n",
    "        env=env,\n",
    "        stdin=subprocess.PIPE,\n",
    "        stdout=subprocess.PIPE)\n",
    "    proc.stdin.write(data)\n",
    "    proc.stdin.flush()  # Ensure the child gets input\n",
    "    return proc"
   ]
  },
  {
   "cell_type": "markdown",
   "metadata": {},
   "source": [
    "* 예제\n",
    "    - 파이프로 암호화 함수에 임의의 바이트 전달.\n",
    "* 실전\n",
    "    - 사용자 입력, 파일 핸들, 네트워크 소켓 등 전달."
   ]
  },
  {
   "cell_type": "code",
   "execution_count": 17,
   "metadata": {},
   "outputs": [],
   "source": [
    "procs = []\n",
    "for _ in range(3):\n",
    "    data = os.urandom(10)\n",
    "    proc = run_openssl(data)\n",
    "    procs.append(proc)"
   ]
  },
  {
   "cell_type": "markdown",
   "metadata": {},
   "source": [
    "* 자식 프로세스는 병렬로 실행되고 입력을 소비함.\n",
    "\n",
    "\n",
    "* [예시] 자식 프로세스가 종료할 때까지 대기하고 최종 결과를 받는 코드."
   ]
  },
  {
   "cell_type": "code",
   "execution_count": 18,
   "metadata": {},
   "outputs": [
    {
     "name": "stdout",
     "output_type": "stream",
     "text": [
      "b'\\x87\\x14 \\xf2/\\x80\\xb9BBA'\n",
      "b'\\xf0\\xec\\xe2x\\x82Ux\\xfbEg'\n",
      "b'\\x16;_\\xb7 V\\xf7\\xb6\\x9de'\n"
     ]
    }
   ],
   "source": [
    "for proc in procs:\n",
    "    out, err = proc.communicate()\n",
    "    print(out[-10:])"
   ]
  },
  {
   "cell_type": "markdown",
   "metadata": {},
   "source": [
    "* 유닉스의 파이프처럼 한 자식 프로세스의 결과를 다른 프로세스의 입력으로 연결하여 병렬 프로세스의 **체인(chain)** 을  생성할 수도 있음.\n",
    "\n",
    "\n",
    "* [예시] 자식 프로세스를 시작하여 md5 명령줄 도구에서 입력 스트림을 소비하게 하는 함수.\n",
    "    - 주의: 파이썬 내장 모듈 hashlib은 md5 함수를 제공하므로 subprocess를 항상 이렇게 실행할 필요는 없음."
   ]
  },
  {
   "cell_type": "code",
   "execution_count": 28,
   "metadata": {},
   "outputs": [],
   "source": [
    "def run_md5(input_stdin):\n",
    "    proc = subprocess.Popen(\n",
    "        ['md5sum'], # 운영체제마다 프로그램 이름이 다름\n",
    "        stdin=input_stdin,\n",
    "        stdout=subprocess.PIPE)\n",
    "    return proc"
   ]
  },
  {
   "cell_type": "markdown",
   "metadata": {},
   "source": [
    "* 이제 데이터를 암호화하는 openssl 프로세스 집합과 암호화된 결과를 md5로 해시(hash)하는 프로세스 집합을 시작 가능."
   ]
  },
  {
   "cell_type": "code",
   "execution_count": 29,
   "metadata": {},
   "outputs": [],
   "source": [
    "input_procs = []\n",
    "hash_procs = []\n",
    "for _ in range(3):\n",
    "    data = os.urandom(10)\n",
    "    proc = run_openssl(data)\n",
    "    input_procs.append(proc)\n",
    "    hash_proc = run_md5(proc.stdout)\n",
    "    hash_procs.append(hash_proc)"
   ]
  },
  {
   "cell_type": "markdown",
   "metadata": {},
   "source": [
    "* 일단 자식 프로세스들이 시작하면 이들 사이의 I/O는 자동으로 발생.\n",
    "    - 모든 작업이 끝나고 최종 결과물이 출력되기를 기다리기만 하면 됨."
   ]
  },
  {
   "cell_type": "code",
   "execution_count": 22,
   "metadata": {},
   "outputs": [],
   "source": [
    "for proc in input_procs:\n",
    "    proc.communicate()\n",
    "    \n",
    "for proc in hash_procs:\n",
    "    out, err = proc.communicate()\n",
    "    print(out.strip())"
   ]
  },
  {
   "cell_type": "markdown",
   "metadata": {},
   "source": [
    "* 자식 프로세스가 종료되지 않거나 입력 또는 출력 파이프에서 블록될 염려가 있는 경우\n",
    "    - communicate 메서드에 timeout 파라미터를 넘겨야 함.\n",
    "         + 이렇게 하면 자식 프로세스가 일정한 시간 내에 응답하지 않을 때 예외가 일어나 오작동하는 자식 프로세스를 종료 가능."
   ]
  },
  {
   "cell_type": "code",
   "execution_count": 23,
   "metadata": {},
   "outputs": [
    {
     "name": "stdout",
     "output_type": "stream",
     "text": [
      "Exit status 1\n"
     ]
    }
   ],
   "source": [
    "proc = run_sleep(10)\n",
    "try:\n",
    "    proc.communicate(timeout=0.1)\n",
    "except subprocess.TimeoutExpired:\n",
    "    proc.terminate()\n",
    "    proc.wait()\n",
    "\n",
    "print('Exit status', proc.poll())"
   ]
  },
  {
   "cell_type": "markdown",
   "metadata": {},
   "source": [
    "* 주의: timeout 파라미터는 파이썬 3.3 이후 버전에서 사용 가능.\n",
    "    - 이전 버전에서 I/O 타임아웃을 강제하려면 내장 모듈 select를 proc.stdin, proc.stdout, proc.stderr에 사용해야 함.\n",
    "    \n",
    "\n",
    "### 핵심 정리\n",
    "* 자식 프로세스를 실행하고 자식 프로세스의 입출력 스트림을 관리하려면 subprocess 모듈을 사용하자.\n",
    "* 자식 프로세스는 파이썬 인터프리터에서 병렬로 실행되어 CPU 사용을 극대화하게 해준다.\n",
    "* communicate에 timeout 파라미터를 사용하여 자식 프로세스들이 교착 상태(deadlock)에 빠지거나 멈추는 상황을 막자."
   ]
  }
 ],
 "metadata": {
  "kernelspec": {
   "display_name": "Python 3",
   "language": "python",
   "name": "python3"
  },
  "language_info": {
   "codemirror_mode": {
    "name": "ipython",
    "version": 3
   },
   "file_extension": ".py",
   "mimetype": "text/x-python",
   "name": "python",
   "nbconvert_exporter": "python",
   "pygments_lexer": "ipython3",
   "version": "3.7.3"
  }
 },
 "nbformat": 4,
 "nbformat_minor": 2
}
