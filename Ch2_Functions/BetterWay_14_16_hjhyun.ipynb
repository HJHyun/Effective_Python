{
 "cells": [
  {
   "cell_type": "markdown",
   "metadata": {},
   "source": [
    "# Better Way 14.  None을 반환하기보다는 예외를 일으키자"
   ]
  },
  {
   "cell_type": "markdown",
   "metadata": {},
   "source": [
    "- 파이썬 프로그래머들은 유틸리티 함수를 작성할 때, 반환값 None에 특별한 의미를 부여하는 경향이 있다.\n",
    "- 예시: 두 숫자를 입력받아 나누는 함수에서 분모에 0이 오는 경우, 결과가 정의되지 않기 때문에 None 반환"
   ]
  },
  {
   "cell_type": "code",
   "execution_count": 1,
   "metadata": {},
   "outputs": [],
   "source": [
    "def divide(a, b):\n",
    "    try:\n",
    "        return a / b\n",
    "    except ZeroDivisionError:\n",
    "        return None"
   ]
  },
  {
   "cell_type": "code",
   "execution_count": 2,
   "metadata": {},
   "outputs": [
    {
     "name": "stdout",
     "output_type": "stream",
     "text": [
      "Invalid inputs\n"
     ]
    }
   ],
   "source": [
    "x, y = 5, 0\n",
    "result = divide(x, y) #ZeroDivisionError에 걸리므로 result = None\n",
    "if result is None:\n",
    "    print('Invalid inputs')"
   ]
  },
  {
   "cell_type": "markdown",
   "metadata": {},
   "source": [
    "그러나 문제가 있다. *만약에 분자가 0이 되는 경우 --> 반환값도 0이 된다*\n",
    "- if문에서 결과를 평가할 때, 0은 (False가 되어) 문제가 될 수 있음\n",
    "- 함수에서 오류가 발생했는지 알아보기 위해, None 대신 실수로 False에 해당하는 값을 검사할 수 있음"
   ]
  },
  {
   "cell_type": "code",
   "execution_count": 3,
   "metadata": {},
   "outputs": [
    {
     "name": "stdout",
     "output_type": "stream",
     "text": [
      "Invalid inputs\n"
     ]
    }
   ],
   "source": [
    "x, y = 0, 5\n",
    "result = divide(x, y)\n",
    "if not result:\n",
    "    print('Invalid inputs') #return 0인데 None인 경우와 동일하게 작동함"
   ]
  },
  {
   "cell_type": "code",
   "execution_count": 4,
   "metadata": {},
   "outputs": [],
   "source": [
    "'''\n",
    "위 문제를 해결하는 첫번째 방법: 반환 값을 두 개로 나눠서 튜플에 담음\n",
    "- 첫번쨰 값은 작업의 성공/실패 여부\n",
    "- 두번째 값은 계산의 결과\n",
    "'''\n",
    "def divide(a, b):\n",
    "    try:\n",
    "        return True, a/b\n",
    "    except ZeroDivisionError:\n",
    "        return False, None"
   ]
  },
  {
   "cell_type": "code",
   "execution_count": 5,
   "metadata": {},
   "outputs": [],
   "source": [
    "success, result = divide(x,y)\n",
    "if not success:\n",
    "    print('Invalid inputs')"
   ]
  },
  {
   "cell_type": "code",
   "execution_count": 6,
   "metadata": {},
   "outputs": [
    {
     "name": "stdout",
     "output_type": "stream",
     "text": [
      "Invalid inputs\n"
     ]
    }
   ],
   "source": [
    "_, result = divide(x,y) #그러나 호출자가 튜플의 첫번째 부분을 쉽게 무시할 수 있음\n",
    "if not result:\n",
    "    print('Invalid inputs')"
   ]
  },
  {
   "cell_type": "code",
   "execution_count": 7,
   "metadata": {},
   "outputs": [],
   "source": [
    "'''\n",
    "두번째 방법: None을 절대로 반환하지 않고, 호출하는 쪽에 예외를 일으켜서 그 예외를 처리하게 함 (옳소!)\n",
    "'''\n",
    "def divide(a,b):\n",
    "    try:\n",
    "        return a / b\n",
    "    except ZeroDivisionError as e:\n",
    "        raise ValueError('Invalid inputs') from e #입력값이 잘못됐음을 알리려고 ValueError로 변경함"
   ]
  },
  {
   "cell_type": "code",
   "execution_count": 8,
   "metadata": {},
   "outputs": [
    {
     "name": "stdout",
     "output_type": "stream",
     "text": [
      "Result is 2.5\n"
     ]
    }
   ],
   "source": [
    "x, y = 5, 2\n",
    "try:\n",
    "    result = divide(x,y)\n",
    "except ValueError:\n",
    "    print('Invalid inputs')\n",
    "else:\n",
    "    print('Result is %.1f' % result)"
   ]
  },
  {
   "cell_type": "code",
   "execution_count": 9,
   "metadata": {},
   "outputs": [
    {
     "name": "stdout",
     "output_type": "stream",
     "text": [
      "Invalid inputs\n"
     ]
    }
   ],
   "source": [
    "x, y = 5, 0\n",
    "try:\n",
    "    result = divide(x,y)\n",
    "except ValueError:\n",
    "    print('Invalid inputs')\n",
    "else:\n",
    "    print('Result is %.1f' % result)"
   ]
  },
  {
   "cell_type": "code",
   "execution_count": 10,
   "metadata": {},
   "outputs": [
    {
     "name": "stdout",
     "output_type": "stream",
     "text": [
      "Result is 0.0\n"
     ]
    }
   ],
   "source": [
    "x, y = 0, 5\n",
    "try:\n",
    "    result = divide(x,y)\n",
    "except ValueError:\n",
    "    print('Invalid inputs')\n",
    "else:\n",
    "    print('Result is %.1f' % result)"
   ]
  },
  {
   "cell_type": "markdown",
   "metadata": {},
   "source": [
    "핵심 정리\n",
    "- 특별한 의미를 나타내려고 None을 반환하는 함수가 오류를 일으키기 쉬운 이유는 None이나 다른 값(예컨데 0, 빈 문자열)이 조건식에서 False로 평가되기 때문이다.\n",
    "- 특별한 상황을 알릴 때 None을 반환하는 대신에 예외를 일으키자. 문서화가 되어 있다면 호출하는 코드에서 예외를 적절하게 처리할 것이라고 기대할 수 있다."
   ]
  },
  {
   "cell_type": "markdown",
   "metadata": {},
   "source": [
    "# Better Way 15. 클로저가 변수 스코프와 상호 작용하는 방법을 알자"
   ]
  },
  {
   "cell_type": "markdown",
   "metadata": {},
   "source": [
    "문제: 숫자 리스트를 정렬하는데, 특정 그룹에 속한 숫자들이 먼저 오도록 하고 싶음.\n",
    "- 리스트의 sort 메서드에 헬퍼 함수를 key 인수로 넘겨서 해결 가능\n",
    "- 이때, 헬퍼 함수의 반환값이 리스트에 있는 각 아이템을 정렬하는 값으로 사용됨"
   ]
  },
  {
   "cell_type": "code",
   "execution_count": 11,
   "metadata": {},
   "outputs": [],
   "source": [
    "'''\n",
    "헬퍼는 주어진 아이템이 중요한 그룹에 있는지 확인하고 그에 따라 정렬 키를 다르게 반환한다\n",
    "'''\n",
    "def sort_priority(values, group):\n",
    "    def helper(x):\n",
    "        if x in group:\n",
    "            return (0, x) #숫자 x가 group에 속하면, 0과 x를 튜플로 반환\n",
    "        return (1, x)\n",
    "    values.sort(key=helper)"
   ]
  },
  {
   "cell_type": "code",
   "execution_count": 12,
   "metadata": {},
   "outputs": [
    {
     "name": "stdout",
     "output_type": "stream",
     "text": [
      "[2, 3, 5, 7, 1, 4, 6, 8]\n"
     ]
    }
   ],
   "source": [
    "numbers = [8,3,1,2,5,4,7,6]\n",
    "group = {2,3,5,7}\n",
    "sort_priority(numbers, group)\n",
    "print(numbers) #예상한대로 group에 속한 숫자부터 먼저 정렬됨"
   ]
  },
  {
   "cell_type": "markdown",
   "metadata": {},
   "source": [
    "- 파이썬의 클로저(closure): 자신이 정의된 스코프에 있는 변수를 참조하는 함수. helper 함수가 group 인수에 접근할 수 있는 이유임\n",
    "- 파이썬의 함수는 일급 객체 (first-class object)임. 이는 함수를 직접 참조하고, 변수에 할당하고, 다른 함수의 인수로 전달하고, 표현식과 if 문 등에서 비교할 수 있다는 의미임. 따라서 sort 메서드에서 클로저 함수(=helper)를 key 인수로 받을 수 있음\n",
    "- 튜플 간의 비교 규칙: 인덱스 0부터 아이템을 비교하고 다음 인덱스 (1, 2, ...) 비교 진행함.\n",
    "- 클로저 보충 설명: https://whatisthenext.tistory.com/112"
   ]
  },
  {
   "cell_type": "code",
   "execution_count": 13,
   "metadata": {},
   "outputs": [],
   "source": [
    "'''\n",
    "새로운 문제: 이번에는 우선순위가 높은 (특정 그룹에 속한) 아이템을 발견했는지 여부를 반환해보자!\n",
    "'''\n",
    "def sort_priority2(numbers, group):\n",
    "    found = False #발견 여부를 저장하는 bool 변수\n",
    "    def helper(x):\n",
    "        if x in group:\n",
    "            found = True #찾았으니까 found 값을 변경\n",
    "            return (0, x)\n",
    "        return (1, x)\n",
    "    numbers.sort(key=helper)\n",
    "    return found"
   ]
  },
  {
   "cell_type": "code",
   "execution_count": 14,
   "metadata": {},
   "outputs": [
    {
     "name": "stdout",
     "output_type": "stream",
     "text": [
      "Found: False\n",
      "[2, 3, 5, 7, 1, 4, 6, 8]\n"
     ]
    }
   ],
   "source": [
    "found = sort_priority2(numbers, group)\n",
    "print('Found:', found) #그러나 이번에는 원하는대로 작동하지 않는다!\n",
    "print(numbers) #다만 리스트 정렬은 기대한대로 되어있음 (즉, helper 함수가 특정 그룹 아이템을 찾는 동작은 제대로 수행했다는 뜻)"
   ]
  },
  {
   "cell_type": "markdown",
   "metadata": {},
   "source": [
    "문제의 이유: **표현식에서 변수를 참조할 때** 파이썬 인터프리터는 참조를 해결하려고 다음 순서로 스코프(scope, 유효 범위)를 탐색함\n",
    "1. 현재 함수의 스코프\n",
    "2. (현재 스코프를 담고 있는 다른 함수 같은) 감싸고 있는 스코프\n",
    "3. 코드를 포함하고 있는 모듈의 스코프 (=전역 스코프)\n",
    "4. 내장 스코프\n",
    "\n",
    "이 중 어느 스코프에도 참조한 이름으로 된 변수가 정의되어 있지 않으면 NameError 예외가 발생함!"
   ]
  },
  {
   "cell_type": "markdown",
   "metadata": {},
   "source": [
    "그러나, (두번째 문제에서처럼) **변수에 값을 할당할 때**는 다른 방식으로 동작한다.\n",
    "1. 변수가 이미 현재 스코프에 정의되어 있다면 새로운 값을 얻는다. (즉, 값이 업데이트 된다)\n",
    "2. 변수가 현재 스코프에 존재하지 않으면 변수 정의로 취급한다. 새로 정의하는 변수의 스코프는 그 할당을 포함하고 있는 함수가 된다.\n",
    "\n",
    "즉, found 변수는 helper 클로저에서 True로 할당되지만, 이는 *sort_priority2에서 일어나는 할당이 아니라 helper 안에서 일어나는 새 변수 정의로 처리되었기 때문에* 잘못 작동한 것이다."
   ]
  },
  {
   "cell_type": "code",
   "execution_count": 15,
   "metadata": {},
   "outputs": [],
   "source": [
    "'''\n",
    "키워드 nonlocal: 특정 변수 이름에 할당할 때, 스코프 탐색이 일어나야 함을 나타냄.\n",
    "(그러나 위의 탐색 범위에서 2번까지만 진행한다. 즉 전역 스코프 포함, 그 아래까지는 탐색하지 않는다.\n",
    "'''\n",
    "def sort_priority3(numbers, group):\n",
    "    found = False\n",
    "    def helper(x):\n",
    "        nonlocal found\n",
    "        if x in group:\n",
    "            found = True\n",
    "            return (0, x)\n",
    "        return (1, x)\n",
    "    numbers.sort(key=helper)\n",
    "    return found"
   ]
  },
  {
   "cell_type": "code",
   "execution_count": 16,
   "metadata": {},
   "outputs": [
    {
     "name": "stdout",
     "output_type": "stream",
     "text": [
      "Found: True\n",
      "[2, 3, 5, 7, 1, 4, 6, 8]\n"
     ]
    }
   ],
   "source": [
    "found = sort_priority3(numbers, group)\n",
    "print('Found:', found) \n",
    "print(numbers) #이번에는 제대로 작동함"
   ]
  },
  {
   "cell_type": "markdown",
   "metadata": {},
   "source": [
    "그러나 nonlocal은 조심해서 사용해야 한다\n",
    "- 간단한 함수에서 사용하는 것이 아니라면, 그 부작용을 알아내기 매우 어렵다 (특히 nonlocal 문과 관련 변수에 대한 할당이 멀리 떨어진 긴 함수)"
   ]
  },
  {
   "cell_type": "code",
   "execution_count": 17,
   "metadata": {},
   "outputs": [],
   "source": [
    "'''\n",
    "헬퍼 클래스로 상태를 감싸는 방법도 있음. (nonlocal을 사용하기엔 복잡한 경우)\n",
    "'''\n",
    "class Sorter(object):\n",
    "    def __init__(self, group):\n",
    "        self.group = group\n",
    "        self.found = False\n",
    "    \n",
    "    def __call__(self, x): #Better Way 23: 인터페이스가 간단하면 클래스 대신 함수를 받자 -- 참고\n",
    "        if x in self.group:\n",
    "            self.found = True\n",
    "            return (0, x)\n",
    "        return (1, x)"
   ]
  },
  {
   "cell_type": "code",
   "execution_count": 18,
   "metadata": {},
   "outputs": [],
   "source": [
    "sorter = Sorter(group)\n",
    "numbers.sort(key=sorter)\n",
    "assert sorter.found is True #문제없이 넘어감"
   ]
  },
  {
   "cell_type": "markdown",
   "metadata": {},
   "source": [
    "파이썬2의 스코프\n",
    "- 불행하게도 nonlocal 지원하지 않음\n",
    "- 파이썬의 스코프 규칙을 이용한 다른 방법으로 우회함: 수정가능한(mutable) 리스트/딕셔너리/세트/사용자 정의 클래스의 인스턴스 등 사용"
   ]
  },
  {
   "cell_type": "code",
   "execution_count": null,
   "metadata": {},
   "outputs": [],
   "source": [
    "def sort_priority(numbers, group):\n",
    "    found = [False]\n",
    "    def helper(x):\n",
    "        if x in group:\n",
    "            found[0] = True #found[0]의 현재값을 알아내려고 스코프 탐색을 진행하게 됨\n",
    "            return (0, x)\n",
    "        return (1, x)\n",
    "    numbers.sort(key=helper)\n",
    "    return found[0]"
   ]
  },
  {
   "cell_type": "markdown",
   "metadata": {},
   "source": [
    "핵심정리\n",
    "- 클로저 함수는 자신이 정의된 스코프 중 어디에 있는 변수도 참조할 수 있다.\n",
    "- 기본적으로 클로저에서 변수를 할당하면 바깥쪽 스코프에는 영향을 미치지 않는다.\n",
    "- 파이썬3에서는 nonlocal 문을 사용하여 클로저를 감싸고 있는 스코프의 변수를 수정할 수 있음을 알린다."
   ]
  },
  {
   "cell_type": "markdown",
   "metadata": {},
   "source": [
    "# Better Way 16. 리스트를 반환하는 대신 제너레이터를 고려하자"
   ]
  },
  {
   "cell_type": "code",
   "execution_count": 20,
   "metadata": {},
   "outputs": [],
   "source": [
    "'''\n",
    "문제: 주어진 문자열에 있는 모든 단어의 인덱스 (즉, 첫글자의 인덱스)를 출력\n",
    "'''\n",
    "def index_words(text):\n",
    "    result = [] #결과로 반환할 리스트 선언 및 초기화\n",
    "    if text:\n",
    "        result.append(0) #빈 문자열이 아니라면 단어가 1개 이상이 있으므로 인덱스 0 저장\n",
    "    for index, letter in enumerate(text): #문자열의 모든 문자를 순회\n",
    "        if letter == ' ':\n",
    "            result.append(index+1) #공백을 찾을 때마다 (단어와 단어는 공백으로 구분될 테니) 다음 인덱스를 저장\n",
    "    return result"
   ]
  },
  {
   "cell_type": "code",
   "execution_count": 21,
   "metadata": {},
   "outputs": [
    {
     "name": "stdout",
     "output_type": "stream",
     "text": [
      "[0, 5, 11]\n"
     ]
    }
   ],
   "source": [
    "address = 'Four score and seven years ago...'\n",
    "result = index_words(address)\n",
    "print(result[:3]) #세번째 단어까지의 인덱스만 출력"
   ]
  },
  {
   "cell_type": "markdown",
   "metadata": {},
   "source": [
    "더 좋은 방법: 제너레이터(generator)를 사용하자!\n",
    "- 제너레이터는 yield 표현식을 사용\n",
    "- 제너레이터는 호출 시에 실제로 실행되지 않고 이터레이터(iterator)를 반환\n",
    "- 내장 함수 next를 호출할 때마다, 이터레이터는 제너레이터가 다음 yield 표현식으로 진행\n",
    "- 제너레이터가 yield에 전달한 값을 이터레이터가 호출하는 쪽에 반환"
   ]
  },
  {
   "cell_type": "code",
   "execution_count": 22,
   "metadata": {},
   "outputs": [],
   "source": [
    "'''\n",
    "다음과 같이 제너레이터를 사용하니,\n",
    "불필요한 리스트 생성이나 append 메서드 호출, 그로 인한 index+1 등 중요한 부분이 잘 부각되지 않는 문제가 해결됨\n",
    "'''\n",
    "def index_words_iter(text):\n",
    "    if text:\n",
    "        yield 0\n",
    "    for index, letter in enumerate(text):\n",
    "        if letter == ' ':\n",
    "            yield index + 1"
   ]
  },
  {
   "cell_type": "code",
   "execution_count": 23,
   "metadata": {},
   "outputs": [
    {
     "name": "stdout",
     "output_type": "stream",
     "text": [
      "[0, 5, 11]\n"
     ]
    }
   ],
   "source": [
    "result = list(index_words_iter(address)) #이터레이터를 리스트로 변환하면 동일한 결과를 쉽게 받을 수 있음.\n",
    "print(result[:3])"
   ]
  },
  {
   "cell_type": "markdown",
   "metadata": {},
   "source": [
    "또한, index_words 함수는 반환하기 전에 모든 결과를 리스트에 저장해야 한다는 문제가 있음\n",
    "- 입력이 매우 길다면, 프로그램 실행 중에 메모리가 고갈되어 동작이 멈출 것임\n",
    "- 한편 제너레이터는 (next가 호출될 때마다 yield 포현식으로 넘어가는 방식이라) 다양한 길이의 입력에도 쉽게 이용할 수 있음"
   ]
  },
  {
   "cell_type": "code",
   "execution_count": 25,
   "metadata": {},
   "outputs": [],
   "source": [
    "'''\n",
    "파일에서 입력을 한 번에 한 줄씩 읽어서 한 번에 한 단어씩 출력을 내어주는 제너레이터\n",
    "즉, 입력 한 줄의 최대 길이까지만 메모리를 사용함\n",
    "'''\n",
    "def index_file(handle):\n",
    "    offset = 0\n",
    "    for line in handle:\n",
    "        if line:\n",
    "            yield offset\n",
    "        for letter in line:\n",
    "            offset += 1\n",
    "            if letter == ' ':\n",
    "                yield offset"
   ]
  },
  {
   "cell_type": "code",
   "execution_count": 29,
   "metadata": {},
   "outputs": [
    {
     "name": "stdout",
     "output_type": "stream",
     "text": [
      "[0, 5, 11]\n"
     ]
    }
   ],
   "source": [
    "'''\n",
    "islice(iterable 객체, [시작], 정지[,step]): 객체를 특정 범위로 슬라이싱하고 iterator로 반환\n",
    "참고: https://suwoni-codelab.com/python%20%EA%B8%B0%EB%B3%B8/2018/03/07/Python-Basic-itertools/\n",
    "'''\n",
    "from itertools import islice\n",
    "\n",
    "with open('address.txt', 'r') as f:\n",
    "    it = index_file(f)\n",
    "    results = islice(it, 0, 3)\n",
    "    print(list(results))"
   ]
  },
  {
   "cell_type": "code",
   "execution_count": 35,
   "metadata": {},
   "outputs": [
    {
     "name": "stdout",
     "output_type": "stream",
     "text": [
      "[0, 5, 11, 15, 21, 27, 34, 46, 52, 59, 61, 64, 72, 81, 86, 88, 91, 100]\n",
      "[]\n"
     ]
    }
   ],
   "source": [
    "'''\n",
    "제너레이터 사용 시의 주의점: 반환되는 이터레이터에 상태가 있고 재사용할 수 없다\n",
    "(Better Way 17. 인수를 순회할 때는 방어적으로 하자)\n",
    "'''\n",
    "with open('address.txt', 'r') as f:\n",
    "    it = index_file(f)\n",
    "    results = islice(it, 50) #정지 인덱스로 적당히 큰 숫자 넣어봄\n",
    "    print(list(results))\n",
    "    results = islice(it, 50)\n",
    "    print(list(results)) #위에서 it가 끝까지 도달하고 나니 더이상 반환할 값이 없음 (계속 마지막에 머물러 있음)"
   ]
  },
  {
   "cell_type": "markdown",
   "metadata": {},
   "source": [
    "핵심 정리\n",
    "- 제너레이터를 사용하는 방법이 누적된 결과의 리스트를 반환하는 방법보다 이해하기가 명확하다.\n",
    "- 제너레이터에서 반환된 이터레이터는 제너레이터 함수의 본문에 있는 yield 표현식에 전달된 값들의 집합이다.\n",
    "- 제너레이터는 모든 입력과 출력을 메모리에 저장하지 않으므로 입력값의 양을 알기 어려울 때도 연속된 출력을 만들 수 있다."
   ]
  }
 ],
 "metadata": {
  "kernelspec": {
   "display_name": "Python 3",
   "language": "python",
   "name": "python3"
  },
  "language_info": {
   "codemirror_mode": {
    "name": "ipython",
    "version": 3
   },
   "file_extension": ".py",
   "mimetype": "text/x-python",
   "name": "python",
   "nbconvert_exporter": "python",
   "pygments_lexer": "ipython3",
   "version": "3.5.2"
  }
 },
 "nbformat": 4,
 "nbformat_minor": 2
}
