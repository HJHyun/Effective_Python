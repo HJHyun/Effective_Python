{
 "cells": [
  {
   "cell_type": "markdown",
   "metadata": {},
   "source": [
    "# Better way 20. 동적 기본 인수를 지정하려면 None과 docstring을 사용하자"
   ]
  },
  {
   "cell_type": "code",
   "execution_count": 1,
   "metadata": {},
   "outputs": [],
   "source": [
    "from time import sleep\n",
    "from datetime import datetime\n",
    "import json"
   ]
  },
  {
   "cell_type": "markdown",
   "metadata": {},
   "source": [
    "* 키워드 인수의 기본값으로 non-static 비정적 타입을 사용해야 할 때도 있다.\n",
    "* 예) 이벤트 발생 시각을 메시지에 포함하고 싶을 때 기본 인수로 함수를 호출 _(나쁜 예시)_"
   ]
  },
  {
   "cell_type": "code",
   "execution_count": 2,
   "metadata": {},
   "outputs": [
    {
     "name": "stdout",
     "output_type": "stream",
     "text": [
      "2019-05-19 15:11:26.683586: Hi there!\n",
      "2019-05-19 15:11:26.683586: Hi again!\n"
     ]
    }
   ],
   "source": [
    "def log(message, when=datetime.now()):\n",
    "    print('%s: %s' % (when, message))\n",
    "    \n",
    "log('Hi there!')\n",
    "sleep(0.1)\n",
    "log('Hi again!')"
   ]
  },
  {
   "cell_type": "markdown",
   "metadata": {},
   "source": [
    "* `datetime.now` 는 함수를 정의할 때 딱 한번 실행됨\n",
    "  * = 모듈이 로드될 때"
   ]
  },
  {
   "cell_type": "markdown",
   "metadata": {},
   "source": [
    "* 결과가 기대한 대로 나오게 하려면 기본값을 None 으로 설정하고 docstring (문서화 문자열) 으로 실제 동작을 문서화하는게 관례\n",
    "  * Better way 49. 모든 함수, 클래스, 모듈에 docstring 을 작성하자"
   ]
  },
  {
   "cell_type": "code",
   "execution_count": 3,
   "metadata": {},
   "outputs": [
    {
     "name": "stdout",
     "output_type": "stream",
     "text": [
      "2019-05-19 15:11:26.796386: Hi there!\n",
      "2019-05-19 15:11:26.900804: Hi again!\n"
     ]
    }
   ],
   "source": [
    "def log(message, when=None):\n",
    "    \"\"\"Log a message with a timestamp\n",
    "    \n",
    "    Args:\n",
    "        message: Message to print.\n",
    "        when: datetime of when the message occurred.\n",
    "            Defaults to the present time.\n",
    "    \"\"\"\n",
    "    when = datetime.now() if when is None else when\n",
    "    print('%s: %s' % (when, message))\n",
    "    \n",
    "log('Hi there!')\n",
    "sleep(0.1)\n",
    "log('Hi again!')"
   ]
  },
  {
   "cell_type": "markdown",
   "metadata": {},
   "source": [
    "* 기본 인수로 None 을 사용하는 방법은 인수가 mutable (수정 가능) 할 때 특히 중요\n",
    "* 예시) Json 데이터로 인코드된 값을 로드할 때\n",
    "  * 데이터 디코딩이 실패하면 기본값으로 빈 딕셔너리를 반환 (나쁜 예시)"
   ]
  },
  {
   "cell_type": "code",
   "execution_count": 4,
   "metadata": {},
   "outputs": [],
   "source": [
    "def decode(data, default={}):\n",
    "    try:\n",
    "        return json.loads(data)\n",
    "    except ValueError:\n",
    "        return default"
   ]
  },
  {
   "cell_type": "code",
   "execution_count": 5,
   "metadata": {},
   "outputs": [
    {
     "name": "stdout",
     "output_type": "stream",
     "text": [
      "Foo: {'stuff': 5, 'meep': 1}\n",
      "Var: {'stuff': 5, 'meep': 1}\n"
     ]
    }
   ],
   "source": [
    "foo = decode('bad data')\n",
    "foo['stuff'] = 5\n",
    "bar = decode('also bad')\n",
    "bar['meep'] = 1\n",
    "\n",
    "print('Foo:', foo)\n",
    "print('Var:', bar)"
   ]
  },
  {
   "cell_type": "code",
   "execution_count": 6,
   "metadata": {},
   "outputs": [],
   "source": [
    "assert foo is bar"
   ]
  },
  {
   "cell_type": "markdown",
   "metadata": {},
   "source": [
    "* 기본값을 None 으로 설정하고 docstring 에 동작을 문서화하자"
   ]
  },
  {
   "cell_type": "code",
   "execution_count": 7,
   "metadata": {},
   "outputs": [],
   "source": [
    "def decode(data, default=None):\n",
    "    \"\"\"Load JSON data from a string\n",
    "    \n",
    "    Args:\n",
    "        data: JSON data to decode\n",
    "        default: Value to return if decoding fails.\n",
    "            Defaults to an empty dictionary\n",
    "    \"\"\"\n",
    "    if default is None:\n",
    "        default = {}\n",
    "    try:\n",
    "        return json.loads(data)\n",
    "    except ValueError:\n",
    "        return default"
   ]
  },
  {
   "cell_type": "code",
   "execution_count": 8,
   "metadata": {},
   "outputs": [
    {
     "name": "stdout",
     "output_type": "stream",
     "text": [
      "Foo: {'stuff': 5}\n",
      "Var: {'meep': 1}\n"
     ]
    }
   ],
   "source": [
    "foo = decode('bad data')\n",
    "foo['stuff'] = 5\n",
    "bar = decode('also bad')\n",
    "bar['meep'] = 1\n",
    "\n",
    "print('Foo:', foo)\n",
    "print('Var:', bar)"
   ]
  },
  {
   "cell_type": "markdown",
   "metadata": {},
   "source": [
    "### 핵심 정리\n",
    "* 기본 인수는 모듈 로드 시점에 함수 정의 과정에서 딱 한번만 평가된다. 그래서 ({}나 [] 같은) 동적 값에는 이상하게 동작하는 원인이 되기도 한다.\n",
    "* 값이 동적인 키워드 인수에는 기본값으로 None을 사용하자. 그러고 나서 함수의 docstring에 실제 기본 동작을 문서화하자."
   ]
  },
  {
   "cell_type": "markdown",
   "metadata": {},
   "source": [
    "# Better Way 21. 키워드 전용 인수로 명료성을 강요하자"
   ]
  },
  {
   "cell_type": "markdown",
   "metadata": {},
   "source": [
    "* 키워드로 인수를 넘기는 방법은 파이썬의 강력한 기능\n",
    "* 키워드 인수의 유언성 --> 쓰임새가 분명하게 코드 작성 가능\n",
    "* 예시) 어떤 숫자를 다른 숫자로 나눌 때 (아쉬운 예시)\n",
    "  * ZeroDivisionError 예외를 무시하고 무한대값을 반환하거나\n",
    "  * OverflowError 예외를 무시하고 0을 반환하고 싶음"
   ]
  },
  {
   "cell_type": "code",
   "execution_count": 9,
   "metadata": {},
   "outputs": [],
   "source": [
    "def safe_division(number, divisor, ignore_overflow, ignore_zero_division):\n",
    "    try:\n",
    "        return number / divisor\n",
    "    except OverflowError:\n",
    "        if ignore_overflow:\n",
    "            return 0\n",
    "        else:\n",
    "            raise\n",
    "    except ZeroDivisionError:\n",
    "        if ignore_zero_division:\n",
    "            return float('inf')\n",
    "        else:\n",
    "            raise"
   ]
  },
  {
   "cell_type": "code",
   "execution_count": 10,
   "metadata": {},
   "outputs": [
    {
     "name": "stdout",
     "output_type": "stream",
     "text": [
      "0.0\n"
     ]
    }
   ],
   "source": [
    "result = safe_division(1, 10**500, True, False)\n",
    "print(result)"
   ]
  },
  {
   "cell_type": "code",
   "execution_count": 11,
   "metadata": {},
   "outputs": [
    {
     "name": "stdout",
     "output_type": "stream",
     "text": [
      "inf\n"
     ]
    }
   ],
   "source": [
    "result = safe_division(1, 0, False, True)\n",
    "print(result)"
   ]
  },
  {
   "cell_type": "markdown",
   "metadata": {},
   "source": [
    "* argument 위치가 헷갈릴 수 있어서 찾기 어려운 버그가 발생할 수 있음\n",
    "* 키워드 인수를 사용하자 (아쉬움)"
   ]
  },
  {
   "cell_type": "code",
   "execution_count": 12,
   "metadata": {},
   "outputs": [],
   "source": [
    "def safe_division_b(number, divisor, ignore_overflow=False, ignore_zero_division=False):\n",
    "    try:\n",
    "        return number / divisor\n",
    "    except OverflowError:\n",
    "        if ignore_overflow:\n",
    "            return 0\n",
    "        else:\n",
    "            raise\n",
    "    except ZeroDivisionError:\n",
    "        if ignore_zero_division:\n",
    "            return float('inf')\n",
    "        else:\n",
    "            raise"
   ]
  },
  {
   "cell_type": "code",
   "execution_count": 13,
   "metadata": {},
   "outputs": [
    {
     "name": "stdout",
     "output_type": "stream",
     "text": [
      "0.0\n"
     ]
    }
   ],
   "source": [
    "result = safe_division_b(1, 10**500, ignore_overflow=True)\n",
    "print(result)"
   ]
  },
  {
   "cell_type": "code",
   "execution_count": 14,
   "metadata": {},
   "outputs": [
    {
     "name": "stdout",
     "output_type": "stream",
     "text": [
      "inf\n"
     ]
    }
   ],
   "source": [
    "result = safe_division_b(1, 0, ignore_zero_division=True)\n",
    "print(result)"
   ]
  },
  {
   "cell_type": "markdown",
   "metadata": {},
   "source": [
    "* 함수를 호출하는 쪽에 키워드 인수로 의도를 명확하게 드러내라고 강요할 방법이 없음\n",
    "* 여전히 위치 인수를 사용하는 방식으로 호출할 수 있다."
   ]
  },
  {
   "cell_type": "code",
   "execution_count": 15,
   "metadata": {},
   "outputs": [
    {
     "name": "stdout",
     "output_type": "stream",
     "text": [
      "0.0\n"
     ]
    }
   ],
   "source": [
    "result = safe_division_b(1, 10**500, True, False)\n",
    "print(result)"
   ]
  },
  {
   "cell_type": "markdown",
   "metadata": {},
   "source": [
    "* 복잡한 함수를 작성할 때에는 호출하는 쪽에서 의도를 명확히 드러내도록 요구하는 게 낫다.\n",
    "* Python3 에서는 키워드 전용 인수 keyword-only-argument 를 사용"
   ]
  },
  {
   "cell_type": "code",
   "execution_count": 16,
   "metadata": {},
   "outputs": [],
   "source": [
    "def safe_division_c(number, divisor, *, ignore_overflow=False, ignore_zero_division=False):\n",
    "    try:\n",
    "        return number / divisor\n",
    "    except OverflowError:\n",
    "        if ignore_overflow:\n",
    "            return 0\n",
    "        else:\n",
    "            raise\n",
    "    except ZeroDivisionError:\n",
    "        if ignore_zero_division:\n",
    "            return float('inf')\n",
    "        else:\n",
    "            raise"
   ]
  },
  {
   "cell_type": "code",
   "execution_count": 17,
   "metadata": {},
   "outputs": [
    {
     "ename": "TypeError",
     "evalue": "safe_division_c() takes 2 positional arguments but 4 were given",
     "output_type": "error",
     "traceback": [
      "\u001b[0;31m---------------------------------------------------------------------------\u001b[0m",
      "\u001b[0;31mTypeError\u001b[0m                                 Traceback (most recent call last)",
      "\u001b[0;32m<ipython-input-17-b2897b5eb812>\u001b[0m in \u001b[0;36m<module>\u001b[0;34m\u001b[0m\n\u001b[0;32m----> 1\u001b[0;31m \u001b[0mresult\u001b[0m \u001b[0;34m=\u001b[0m \u001b[0msafe_division_c\u001b[0m\u001b[0;34m(\u001b[0m\u001b[0;36m1\u001b[0m\u001b[0;34m,\u001b[0m \u001b[0;36m10\u001b[0m\u001b[0;34m**\u001b[0m\u001b[0;36m500\u001b[0m\u001b[0;34m,\u001b[0m \u001b[0;32mTrue\u001b[0m\u001b[0;34m,\u001b[0m \u001b[0;32mFalse\u001b[0m\u001b[0;34m)\u001b[0m\u001b[0;34m\u001b[0m\u001b[0m\n\u001b[0m\u001b[1;32m      2\u001b[0m \u001b[0mprint\u001b[0m\u001b[0;34m(\u001b[0m\u001b[0mresult\u001b[0m\u001b[0;34m)\u001b[0m\u001b[0;34m\u001b[0m\u001b[0m\n",
      "\u001b[0;31mTypeError\u001b[0m: safe_division_c() takes 2 positional arguments but 4 were given"
     ]
    }
   ],
   "source": [
    "result = safe_division_c(1, 10**500, True, False)\n",
    "print(result)"
   ]
  },
  {
   "cell_type": "code",
   "execution_count": 18,
   "metadata": {},
   "outputs": [
    {
     "name": "stdout",
     "output_type": "stream",
     "text": [
      "0.0\n"
     ]
    }
   ],
   "source": [
    "result = safe_division_c(1, 10**500, ignore_overflow=True)\n",
    "print(result)"
   ]
  },
  {
   "cell_type": "code",
   "execution_count": 19,
   "metadata": {},
   "outputs": [],
   "source": [
    "try:\n",
    "    safe_division_c(1, 0)\n",
    "except ZeroDivisionError:\n",
    "    pass"
   ]
  },
  {
   "cell_type": "markdown",
   "metadata": {},
   "source": [
    "### Python 2의 키워드 전용 인수"
   ]
  },
  {
   "cell_type": "markdown",
   "metadata": {},
   "source": [
    "* Python 2 에는 키워드 전용 인수를 지정하는 명시적 문법이 없음\n",
    "* 대신 인수 리스트에 `**` 키워드 연산자를 사용해 올바르지 않은 함수 호출을 할 때 TypeError 를 일으키는 방법으로 같은 동작을 할 수 있음\n",
    "* `**` 의 차이\n",
    "  * 키워드 인수를 몇개든 (정의하지 않았을 때 조차도) 받을 수 있음\n",
    "  * 나머지는 비슷"
   ]
  },
  {
   "cell_type": "code",
   "execution_count": 20,
   "metadata": {},
   "outputs": [],
   "source": [
    "# 주의: Python 3 로 실행되고 있음\n",
    "def print_args(*args, **kwargs):\n",
    "    print('Positional:', args)\n",
    "    print('Keyword:', kwargs)"
   ]
  },
  {
   "cell_type": "code",
   "execution_count": 21,
   "metadata": {},
   "outputs": [
    {
     "name": "stdout",
     "output_type": "stream",
     "text": [
      "Positional: (1, 2)\n",
      "Keyword: {'foo': 'bar', 'stuff': 'meep'}\n"
     ]
    }
   ],
   "source": [
    "print_args(1, 2, foo='bar', stuff='meep')"
   ]
  },
  {
   "cell_type": "code",
   "execution_count": 22,
   "metadata": {},
   "outputs": [],
   "source": [
    "def safe_division_d(number, divisor, **kwargs):\n",
    "    ignore_overflow = kwargs.pop('ignore_overflow', False)\n",
    "    ignore_zero_div = kwargs.pop('ignore_zero_division', False)\n",
    "    \n",
    "    if kwargs:\n",
    "        raise TypeError('Unexpected **kwargs: %r' % kwargs)\n",
    "    \n",
    "    try:\n",
    "        return number / divisor\n",
    "    except OverflowError:\n",
    "        if ignore_overflow:\n",
    "            return 0\n",
    "        else:\n",
    "            raise\n",
    "    except ZeroDivisionError:\n",
    "        if ignore_zero_div:\n",
    "            return float('inf')\n",
    "        else:\n",
    "            raise"
   ]
  },
  {
   "cell_type": "code",
   "execution_count": 23,
   "metadata": {},
   "outputs": [
    {
     "name": "stdout",
     "output_type": "stream",
     "text": [
      "0.1\n"
     ]
    }
   ],
   "source": [
    "result = safe_division_d(1, 10)\n",
    "print(result)"
   ]
  },
  {
   "cell_type": "code",
   "execution_count": 24,
   "metadata": {},
   "outputs": [
    {
     "name": "stdout",
     "output_type": "stream",
     "text": [
      "inf\n"
     ]
    }
   ],
   "source": [
    "result = safe_division_d(1, 0, ignore_zero_division=True)\n",
    "print(result)"
   ]
  },
  {
   "cell_type": "code",
   "execution_count": 25,
   "metadata": {},
   "outputs": [
    {
     "name": "stdout",
     "output_type": "stream",
     "text": [
      "0.0\n"
     ]
    }
   ],
   "source": [
    "result = safe_division_d(1, 10**500, ignore_overflow=True)\n",
    "print(result)"
   ]
  },
  {
   "cell_type": "markdown",
   "metadata": {},
   "source": [
    "* 키워드 전용 인수를 위치로 넘기려고 하면 제대로 동작하지 않음"
   ]
  },
  {
   "cell_type": "code",
   "execution_count": 26,
   "metadata": {},
   "outputs": [
    {
     "ename": "TypeError",
     "evalue": "safe_division_d() takes 2 positional arguments but 4 were given",
     "output_type": "error",
     "traceback": [
      "\u001b[0;31m---------------------------------------------------------------------------\u001b[0m",
      "\u001b[0;31mTypeError\u001b[0m                                 Traceback (most recent call last)",
      "\u001b[0;32m<ipython-input-26-9a2b01aafea8>\u001b[0m in \u001b[0;36m<module>\u001b[0;34m\u001b[0m\n\u001b[0;32m----> 1\u001b[0;31m \u001b[0mresult\u001b[0m \u001b[0;34m=\u001b[0m \u001b[0msafe_division_d\u001b[0m\u001b[0;34m(\u001b[0m\u001b[0;36m1\u001b[0m\u001b[0;34m,\u001b[0m \u001b[0;36m0\u001b[0m\u001b[0;34m,\u001b[0m \u001b[0;32mFalse\u001b[0m\u001b[0;34m,\u001b[0m \u001b[0;32mTrue\u001b[0m\u001b[0;34m)\u001b[0m\u001b[0;34m\u001b[0m\u001b[0m\n\u001b[0m\u001b[1;32m      2\u001b[0m \u001b[0mprint\u001b[0m\u001b[0;34m(\u001b[0m\u001b[0mresult\u001b[0m\u001b[0;34m)\u001b[0m\u001b[0;34m\u001b[0m\u001b[0m\n",
      "\u001b[0;31mTypeError\u001b[0m: safe_division_d() takes 2 positional arguments but 4 were given"
     ]
    }
   ],
   "source": [
    "result = safe_division_d(1, 0, False, True)\n",
    "print(result)"
   ]
  },
  {
   "cell_type": "markdown",
   "metadata": {},
   "source": [
    "* 원하지 않는 키워드 인수를 넘겨도 제대로 동작하지 않음"
   ]
  },
  {
   "cell_type": "code",
   "execution_count": 27,
   "metadata": {},
   "outputs": [
    {
     "ename": "TypeError",
     "evalue": "Unexpected **kwargs: {'unexpected': True}",
     "output_type": "error",
     "traceback": [
      "\u001b[0;31m---------------------------------------------------------------------------\u001b[0m",
      "\u001b[0;31mTypeError\u001b[0m                                 Traceback (most recent call last)",
      "\u001b[0;32m<ipython-input-27-60a81bff920e>\u001b[0m in \u001b[0;36m<module>\u001b[0;34m\u001b[0m\n\u001b[0;32m----> 1\u001b[0;31m \u001b[0mresult\u001b[0m \u001b[0;34m=\u001b[0m \u001b[0msafe_division_d\u001b[0m\u001b[0;34m(\u001b[0m\u001b[0;36m1\u001b[0m\u001b[0;34m,\u001b[0m \u001b[0;36m0\u001b[0m\u001b[0;34m,\u001b[0m \u001b[0munexpected\u001b[0m\u001b[0;34m=\u001b[0m\u001b[0;32mTrue\u001b[0m\u001b[0;34m)\u001b[0m\u001b[0;34m\u001b[0m\u001b[0m\n\u001b[0m\u001b[1;32m      2\u001b[0m \u001b[0mprint\u001b[0m\u001b[0;34m(\u001b[0m\u001b[0mresult\u001b[0m\u001b[0;34m)\u001b[0m\u001b[0;34m\u001b[0m\u001b[0m\n",
      "\u001b[0;32m<ipython-input-22-b2a92d74fb04>\u001b[0m in \u001b[0;36msafe_division_d\u001b[0;34m(number, divisor, **kwargs)\u001b[0m\n\u001b[1;32m      4\u001b[0m \u001b[0;34m\u001b[0m\u001b[0m\n\u001b[1;32m      5\u001b[0m     \u001b[0;32mif\u001b[0m \u001b[0mkwargs\u001b[0m\u001b[0;34m:\u001b[0m\u001b[0;34m\u001b[0m\u001b[0m\n\u001b[0;32m----> 6\u001b[0;31m         \u001b[0;32mraise\u001b[0m \u001b[0mTypeError\u001b[0m\u001b[0;34m(\u001b[0m\u001b[0;34m'Unexpected **kwargs: %r'\u001b[0m \u001b[0;34m%\u001b[0m \u001b[0mkwargs\u001b[0m\u001b[0;34m)\u001b[0m\u001b[0;34m\u001b[0m\u001b[0m\n\u001b[0m\u001b[1;32m      7\u001b[0m \u001b[0;34m\u001b[0m\u001b[0m\n\u001b[1;32m      8\u001b[0m     \u001b[0;32mtry\u001b[0m\u001b[0;34m:\u001b[0m\u001b[0;34m\u001b[0m\u001b[0m\n",
      "\u001b[0;31mTypeError\u001b[0m: Unexpected **kwargs: {'unexpected': True}"
     ]
    }
   ],
   "source": [
    "result = safe_division_d(1, 0, unexpected=True)\n",
    "print(result)"
   ]
  },
  {
   "cell_type": "markdown",
   "metadata": {},
   "source": [
    "### 핵심 정리\n",
    "* 키워드 인수는 함수 호출의 의도를 더 명확하게 해준다.\n",
    "* 특히 bool 플래그를 여러개 받는 함수처럼 헷갈리기 쉬운 함수를 호출할 때 키워드 인수를 넘기게 하려면 키워드 전용 인수를 사용하자.\n",
    "* 파이썬 3는 함수의 키워드 전용 인수 문법을 명시적으로 지원한다.\n",
    "* 파이썬 2에서는 `**kwargs` 를 사용하고 TypeError 예외를 직접 일의는 방법으로 함수의 키워드 전용 인수를 흉내낼 수 있다."
   ]
  }
 ],
 "metadata": {
  "kernelspec": {
   "display_name": "Python 3",
   "language": "python",
   "name": "python3"
  },
  "language_info": {
   "codemirror_mode": {
    "name": "ipython",
    "version": 3
   },
   "file_extension": ".py",
   "mimetype": "text/x-python",
   "name": "python",
   "nbconvert_exporter": "python",
   "pygments_lexer": "ipython3",
   "version": "3.7.0"
  }
 },
 "nbformat": 4,
 "nbformat_minor": 2
}
