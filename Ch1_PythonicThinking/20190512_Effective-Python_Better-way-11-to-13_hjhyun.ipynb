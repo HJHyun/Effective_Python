{
 "cells": [
  {
   "cell_type": "markdown",
   "metadata": {},
   "source": [
    "# 11. iterator를 병렬로 처리하려면 zip을 사용하자"
   ]
  },
  {
   "cell_type": "code",
   "execution_count": 1,
   "metadata": {},
   "outputs": [],
   "source": [
    "'''\n",
    "리스트 컴프리헨션 사용하여 source list -> derived list 얻기 (참고: 7장 map, filter 대신 리스트 컴프리헨션)\n",
    "'''\n",
    "names = ['Cecilia', 'Lise', 'Marie'] #source list: 이름 (str) 저장\n",
    "letters = [len(n) for n in names] #derived list: names에 있는 이름들의 길이(int) 저장"
   ]
  },
  {
   "cell_type": "code",
   "execution_count": 2,
   "metadata": {},
   "outputs": [
    {
     "name": "stdout",
     "output_type": "stream",
     "text": [
      "Cecilia\n"
     ]
    }
   ],
   "source": [
    "'''\n",
    "source list & derived list: 서로의 인덱스로 연관되어 있음\n",
    "만약에 두 리스트를 병렬로(함께) 순회하고 싶다면 source list의 길이만큼 loop를 돌면 됨.\n",
    "'''\n",
    "longest_name = None #가장 긴 이름\n",
    "max_letters = 0 #가장 긴 이름 길이\n",
    "\n",
    "for i in range(len(names)):\n",
    "    count = letters[i]\n",
    "    if count > max_letters:\n",
    "        longest_name = names[i]\n",
    "        max_letters = count\n",
    "\n",
    "print(longest_name)"
   ]
  },
  {
   "cell_type": "code",
   "execution_count": 3,
   "metadata": {},
   "outputs": [
    {
     "name": "stdout",
     "output_type": "stream",
     "text": [
      "Cecilia\n"
     ]
    }
   ],
   "source": [
    "'''\n",
    "But, names & letters 리스트에 인덱스로 접근하는 방법 --> 코드 읽기 어려움, 인덱스 i로 배열에 접근하는 동작이 두 번 일어남\n",
    "enumerate를 사용하면 약간 개선 가능\n",
    "'''\n",
    "longest_name = None #가장 긴 이름\n",
    "max_letters = 0 #가장 긴 이름 길이\n",
    "\n",
    "for i, name in enumerate(names): #enumerate를 사용하면 index와 element 모두 접근 가능\n",
    "    count = letters[i]\n",
    "    if count > max_letters:\n",
    "        longest_name = name\n",
    "        max_letters = count\n",
    "\n",
    "print(longest_name)"
   ]
  },
  {
   "cell_type": "code",
   "execution_count": 4,
   "metadata": {},
   "outputs": [
    {
     "name": "stdout",
     "output_type": "stream",
     "text": [
      "Cecilia\n"
     ]
    }
   ],
   "source": [
    "'''\n",
    "내장 함수 zip: 지연 제너레이터, 이터레이터 두 개 이상 감싼다.\n",
    "- 각 이터레이터로부터 다음 값을 담은 튜플을 가져옴.\n",
    "- 다중 리스트에서 인덱스로 접근하는 코드보다 훨씬 명료함.\n",
    "\n",
    "[iterator, generator 참고]\n",
    "https://mingrammer.com/translation-iterators-vs-generators/\n",
    "- iterator는 현재 내부 상황을 기억하고 next() 호출 시 다음 원소를 넘겨주는 헬퍼 객체임.\n",
    "- 모든 generator는 iterator이며, >>요청 시에 하나의 값만 생성<<하는 게으른(idle) 작동을 함.\n",
    "'''\n",
    "longest_name = None #가장 긴 이름\n",
    "max_letters = 0 #가장 긴 이름 길이\n",
    "\n",
    "for name, count in zip(names, letters):\n",
    "    if count > max_letters:\n",
    "        longest_name = name\n",
    "        max_letters = count\n",
    "        \n",
    "print(longest_name)"
   ]
  },
  {
   "cell_type": "code",
   "execution_count": 5,
   "metadata": {},
   "outputs": [
    {
     "name": "stdout",
     "output_type": "stream",
     "text": [
      "Cecilia\n",
      "Lise\n",
      "Marie\n"
     ]
    }
   ],
   "source": [
    "'''\n",
    "[내장 함수 zip 사용 시 문제점]\n",
    "\n",
    "1. python2 제공 zip은 제너레이터가 아니다.\n",
    "- 제공한 이터레이터를 완전히 순회해서 zip으로 생성한 모든 튜플을 반환함.\n",
    "- 이 과정에서 메모리를 많이 사용하여 프로그램이 망가지는 원인이 될 수 있음.\n",
    "- 따라서 매우 큰 이터레이터를 zip으로 묶어서 사용하고 싶다면, 내장 모듈 itertools에 있는 izip 사용해야 함. (16장 참고)\n",
    "\n",
    "2. 입력 이터레이터들 길이가 다르면 zip이 이상하게 동작한다.\n",
    "- zip은 감싼 이터레이터가 끝날 때까지 튜플을 넘겨주는데, 실행할 리스트 길이가 다르면 zip의 잘라내기 동작이 이상하고 나쁘게 작동함.\n",
    "- 만약 리스트 길이가 같다고 확신할 수 없다면, 내장 모듈 itertools의 zip_longest (python2 izip_longest) 사용 고려.\n",
    "'''\n",
    "names.append('Rosalind')\n",
    "for name, count in zip(names, letters):\n",
    "    print(name) #위에서 추가한 'Rosalind' 출력되지 않음."
   ]
  },
  {
   "cell_type": "code",
   "execution_count": 6,
   "metadata": {},
   "outputs": [
    {
     "name": "stdout",
     "output_type": "stream",
     "text": [
      "Cecilia\n",
      "Lise\n",
      "Marie\n",
      "Rosalind\n"
     ]
    }
   ],
   "source": [
    "from itertools import zip_longest\n",
    "\n",
    "for name, count in zip_longest(names, letters):\n",
    "    print(name) #zip_longest 사용하면 Rosalind까지 출력됨."
   ]
  },
  {
   "cell_type": "markdown",
   "metadata": {},
   "source": [
    "**핵심 정리**\n",
    "- 내장 함수 zip은 여러 이터레이터를 병렬로 순회할 때 사용할 수 있다.\n",
    "- python3의 zip은 튜플을 생성하는 지연 제너레이터다. 한편, python2의 zip은 전체 결과를 튜플 리스트로 반환한다.\n",
    "- 길이가 다른 이터레이터를 사용하면 zip은 그 결과를 조용히 잘라낸다.\n",
    "- 내장 모듈 itertools의 zip_longest 함수를 사용하면, 여러 이터레이터를 길이에 상관없이 병렬로 순회할 수 있다."
   ]
  },
  {
   "cell_type": "markdown",
   "metadata": {},
   "source": [
    "# 12. for, while loop 뒤에는 else 블록을 쓰지 말자"
   ]
  },
  {
   "cell_type": "code",
   "execution_count": 7,
   "metadata": {},
   "outputs": [
    {
     "name": "stdout",
     "output_type": "stream",
     "text": [
      "Loop 0\n",
      "Loop 1\n",
      "Loop 2\n",
      "Else block!\n"
     ]
    }
   ],
   "source": [
    "'''\n",
    "파이썬 루프문에서 반복되는 내부 블록 바로 다음에 else 블록을 둘 수 있음.\n",
    "그러나 기대와는 다르게(?) else 블록은 루프가 종료되지마자 실행되는 것을 확인할 수 있음.\n",
    "'''\n",
    "for i in range(3):\n",
    "    print('Loop %d' % i)\n",
    "else:\n",
    "    print('Else block!')"
   ]
  },
  {
   "cell_type": "markdown",
   "metadata": {},
   "source": [
    "- if/else 문: 이전 블록이 실행되지 않으면 else 블록을 실행\n",
    "- try/except 문: 이전 블록에서 실패하면 except 블록을 실행\n",
    "- try/except/else 문: 이전 블록에서 실패하지 않으면 else 블록을 실행\n",
    "- try/finally 문: 이전 블록을 실행하고 항상 마지막에 finally 블록을 실행\n",
    "- for/else 문: 루프가 완료되지 않으면 else 블록을 실행? >>> 반대입니다!"
   ]
  },
  {
   "cell_type": "code",
   "execution_count": 8,
   "metadata": {},
   "outputs": [
    {
     "name": "stdout",
     "output_type": "stream",
     "text": [
      "Loop 0\n",
      "Loop 1\n"
     ]
    }
   ],
   "source": [
    "'''\n",
    "for loop에서 break를 사용해야 else 블록을 건너뛸 수 있음\n",
    "'''\n",
    "for i in range(3):\n",
    "    print('Loop %d' % i)\n",
    "    if i == 1:\n",
    "        break\n",
    "else:\n",
    "    print('Else block!')"
   ]
  },
  {
   "cell_type": "code",
   "execution_count": 10,
   "metadata": {},
   "outputs": [
    {
     "name": "stdout",
     "output_type": "stream",
     "text": [
      "For Else block!\n"
     ]
    }
   ],
   "source": [
    "'''\n",
    "빈 시퀀스를 처리하는 루프문에서도 else 블록이 즉시 실행됨\n",
    "'''\n",
    "for x in []:\n",
    "    print('Never runs')\n",
    "else:\n",
    "    print('For Else block!')"
   ]
  },
  {
   "cell_type": "code",
   "execution_count": 11,
   "metadata": {},
   "outputs": [
    {
     "name": "stdout",
     "output_type": "stream",
     "text": [
      "While Else block!\n"
     ]
    }
   ],
   "source": [
    "'''\n",
    "while loop가 처음부터 거짓인 경우에도 else 블록 실행됨\n",
    "'''\n",
    "while False:\n",
    "    print('Never runs')\n",
    "else:\n",
    "    print('While Else block!')"
   ]
  },
  {
   "cell_type": "markdown",
   "metadata": {},
   "source": [
    "왜 이렇게 동작할까 ? ? ?\n",
    "- 루프 다음에 오는 else 블록은 뭔가를 검색할 때 유용함.\n",
    "- 예컨데, 두 숫자가 서로소인지 판별하는 문제에서 모든 옵션을 루프 내에서 테스트하고, \n",
    "만약 break를 만나 중단되지 않았다면 else 블록에서 두 숫자가 서로소일 때 실행되도록 할 수 있음."
   ]
  },
  {
   "cell_type": "code",
   "execution_count": 12,
   "metadata": {},
   "outputs": [
    {
     "name": "stdout",
     "output_type": "stream",
     "text": [
      "Testing 2\n",
      "Testing 3\n",
      "Testing 4\n",
      "Coprime\n"
     ]
    }
   ],
   "source": [
    "'''\n",
    "위의 서로소 예시. 그런데 이런 방식으로 코드를 작성하지 말라는 게 이 챕터 결론임.\n",
    ">>> 대신에 이런 계산을 수행하는 헬퍼 함수를 작성합시다!\n",
    "'''\n",
    "a = 4\n",
    "b = 9\n",
    "for i in range(2, min(a,b)+1):\n",
    "    print('Testing', i)\n",
    "    if a % i == 0 and b % i == 0: #두 숫자가 공약수를 가질 때\n",
    "        print('Not coprime')\n",
    "        break\n",
    "else:\n",
    "    print('Coprime')"
   ]
  },
  {
   "cell_type": "code",
   "execution_count": 13,
   "metadata": {},
   "outputs": [
    {
     "data": {
      "text/plain": [
       "True"
      ]
     },
     "execution_count": 13,
     "metadata": {},
     "output_type": "execute_result"
    }
   ],
   "source": [
    "'''\n",
    "1) 원하는 조건을 찾았을 때, 바로 return 하기. \n",
    "만약 루프가 실패로 끝난다면 기본 결과 (True) return 하면 됨.\n",
    "'''\n",
    "def coprime(a, b):\n",
    "    for i in range(2, min(a,b)+1):\n",
    "        if a % i == 0 and b % i == 0:\n",
    "            return False\n",
    "    return True\n",
    "\n",
    "coprime(4, 9) #서로소임 (True)"
   ]
  },
  {
   "cell_type": "code",
   "execution_count": 14,
   "metadata": {},
   "outputs": [
    {
     "data": {
      "text/plain": [
       "False"
      ]
     },
     "execution_count": 14,
     "metadata": {},
     "output_type": "execute_result"
    }
   ],
   "source": [
    "'''\n",
    "2) 루프에서 찾으려는 대상을 찾았는지 알려주는 결과 변수를 사용하기. \n",
    "뭔가를 찾았다면, 즉시 break로 루프를 중단한다.\n",
    "'''\n",
    "def coprime2(a, b):\n",
    "    is_coprime = True\n",
    "    for i in range(2, min(a,b)+1):\n",
    "        if a % i ==0 and b % i == 0:\n",
    "            is_coprime = False\n",
    "            break\n",
    "    return is_coprime\n",
    "\n",
    "coprime2(2,4) #서로소가 아님 (False)"
   ]
  },
  {
   "cell_type": "markdown",
   "metadata": {},
   "source": [
    "핵심정리\n",
    "- 파이썬에는 for, while loop 내부 블록 바로 뒤에 else 블록을 사용할 수 있게 하는 특별한 문법이 있음.\n",
    "- 루프 본문이 break 문을 만나지 않은 경우에만 루프 다음에 오는 else 블록이 실행됨.\n",
    "- 루프 뒤에 else 블록을 사용하면 직관적이지 않고 혼동하기 쉬우니 사용하지 말자. (결론)"
   ]
  },
  {
   "cell_type": "markdown",
   "metadata": {},
   "source": [
    "# 13. try/except/else/finally에서 각 블록의 장점을 이용하자"
   ]
  },
  {
   "cell_type": "markdown",
   "metadata": {},
   "source": [
    "**finally 블록**\n",
    "- 예외를 전달하고 싶지만, 예외가 발생해도 정리 코드를 실행하고 싶을 때 사용 (e.g 파일 핸들러 종료)\n",
    "- 즉, finally 블록은 try 블록 테스트 후에 항상 실행되는 것이 보장됨.  "
   ]
  },
  {
   "cell_type": "code",
   "execution_count": 15,
   "metadata": {},
   "outputs": [
    {
     "ename": "FileNotFoundError",
     "evalue": "[Errno 2] No such file or directory: 'something_data.txt'",
     "output_type": "error",
     "traceback": [
      "\u001b[0;31m---------------------------------------------------------------------------\u001b[0m",
      "\u001b[0;31mFileNotFoundError\u001b[0m                         Traceback (most recent call last)",
      "\u001b[0;32m<ipython-input-15-76d29f7c9842>\u001b[0m in \u001b[0;36m<module>\u001b[0;34m\u001b[0m\n\u001b[0;32m----> 1\u001b[0;31m \u001b[0mhandle\u001b[0m \u001b[0;34m=\u001b[0m \u001b[0mopen\u001b[0m\u001b[0;34m(\u001b[0m\u001b[0;34m'something_data.txt'\u001b[0m\u001b[0;34m)\u001b[0m \u001b[0;31m#IOError 발생 (파일이 없는 경우)\u001b[0m\u001b[0;34m\u001b[0m\u001b[0m\n\u001b[0m\u001b[1;32m      2\u001b[0m \u001b[0;32mtry\u001b[0m\u001b[0;34m:\u001b[0m\u001b[0;34m\u001b[0m\u001b[0m\n\u001b[1;32m      3\u001b[0m     \u001b[0mdata\u001b[0m \u001b[0;34m=\u001b[0m \u001b[0mhandle\u001b[0m\u001b[0;34m.\u001b[0m\u001b[0mread\u001b[0m\u001b[0;34m(\u001b[0m\u001b[0;34m)\u001b[0m\u001b[0;34m\u001b[0m\u001b[0m\n\u001b[1;32m      4\u001b[0m \u001b[0;32mfinally\u001b[0m\u001b[0;34m:\u001b[0m\u001b[0;34m\u001b[0m\u001b[0m\n\u001b[1;32m      5\u001b[0m     \u001b[0mhandle\u001b[0m\u001b[0;34m.\u001b[0m\u001b[0mclose\u001b[0m\u001b[0;34m(\u001b[0m\u001b[0;34m)\u001b[0m\u001b[0;34m\u001b[0m\u001b[0m\n",
      "\u001b[0;31mFileNotFoundError\u001b[0m: [Errno 2] No such file or directory: 'something_data.txt'"
     ]
    }
   ],
   "source": [
    "handle = open('something_data.txt') #IOError 발생 (파일이 없는 경우)\n",
    "try:\n",
    "    data = handle.read()\n",
    "finally:\n",
    "    handle.close()"
   ]
  },
  {
   "cell_type": "code",
   "execution_count": 17,
   "metadata": {},
   "outputs": [],
   "source": [
    "'''\n",
    "[try]: read 메서드에서 발생한 예외는 항상 호출 코드까지 전달됨\n",
    "[finally]: close 메서드는 실행되는 것이 보장됨\n",
    "'''\n",
    "handle = open('text_data.txt') #IOError 발생 가능 (그러나 try 블록에서 캐치하지 않음)\n",
    "try:\n",
    "    data = handle.read() #UnicodeDecodeError 발생 가능\n",
    "finally:\n",
    "    handle.close() #try 블록 이후 항상 실행"
   ]
  },
  {
   "cell_type": "code",
   "execution_count": 18,
   "metadata": {},
   "outputs": [
    {
     "data": {
      "text/plain": [
       "True"
      ]
     },
     "execution_count": 18,
     "metadata": {},
     "output_type": "execute_result"
    }
   ],
   "source": [
    "handle.closed #return True if file is closed"
   ]
  },
  {
   "cell_type": "markdown",
   "metadata": {},
   "source": [
    "**else 블록**\n",
    "- 코드에서 어떤 예외를 처리하고 처리하고, 어떤 예외를 전달할지 명확하게 하고 싶을 때 사용\n",
    "- try 블록에서 예외가 발생하지 않으면, else 블록이 실행됨.\n",
    "- else 블록을 사용하면 try 블록의 코드를 최소로 줄이고 가독성을 높일 수 있음 (잡고 싶은 예외가 있는 코드만 작성하면 되니까.)"
   ]
  },
  {
   "cell_type": "code",
   "execution_count": 19,
   "metadata": {},
   "outputs": [],
   "source": [
    "import json\n",
    "\n",
    "def load_json_key(data, key):\n",
    "    try:\n",
    "        result_dict = json.loads(data) #ValueError가 일어날 수 있음\n",
    "    except ValueError as e:\n",
    "        raise KeyError from e\n",
    "    else:\n",
    "        return result_dict[key] #KeyError가 일어날 수 있음"
   ]
  },
  {
   "cell_type": "code",
   "execution_count": 20,
   "metadata": {},
   "outputs": [
    {
     "ename": "KeyError",
     "evalue": "",
     "output_type": "error",
     "traceback": [
      "\u001b[0;31m---------------------------------------------------------------------------\u001b[0m",
      "\u001b[0;31mJSONDecodeError\u001b[0m                           Traceback (most recent call last)",
      "\u001b[0;32m<ipython-input-19-7bb2537c0321>\u001b[0m in \u001b[0;36mload_json_key\u001b[0;34m(data, key)\u001b[0m\n\u001b[1;32m      4\u001b[0m     \u001b[0;32mtry\u001b[0m\u001b[0;34m:\u001b[0m\u001b[0;34m\u001b[0m\u001b[0m\n\u001b[0;32m----> 5\u001b[0;31m         \u001b[0mresult_dict\u001b[0m \u001b[0;34m=\u001b[0m \u001b[0mjson\u001b[0m\u001b[0;34m.\u001b[0m\u001b[0mloads\u001b[0m\u001b[0;34m(\u001b[0m\u001b[0mdata\u001b[0m\u001b[0;34m)\u001b[0m \u001b[0;31m#ValueError가 일어날 수 있음\u001b[0m\u001b[0;34m\u001b[0m\u001b[0m\n\u001b[0m\u001b[1;32m      6\u001b[0m     \u001b[0;32mexcept\u001b[0m \u001b[0mValueError\u001b[0m \u001b[0;32mas\u001b[0m \u001b[0me\u001b[0m\u001b[0;34m:\u001b[0m\u001b[0;34m\u001b[0m\u001b[0m\n",
      "\u001b[0;32m/usr/lib/python3.5/json/__init__.py\u001b[0m in \u001b[0;36mloads\u001b[0;34m(s, encoding, cls, object_hook, parse_float, parse_int, parse_constant, object_pairs_hook, **kw)\u001b[0m\n\u001b[1;32m    318\u001b[0m             parse_constant is None and object_pairs_hook is None and not kw):\n\u001b[0;32m--> 319\u001b[0;31m         \u001b[0;32mreturn\u001b[0m \u001b[0m_default_decoder\u001b[0m\u001b[0;34m.\u001b[0m\u001b[0mdecode\u001b[0m\u001b[0;34m(\u001b[0m\u001b[0ms\u001b[0m\u001b[0;34m)\u001b[0m\u001b[0;34m\u001b[0m\u001b[0m\n\u001b[0m\u001b[1;32m    320\u001b[0m     \u001b[0;32mif\u001b[0m \u001b[0mcls\u001b[0m \u001b[0;32mis\u001b[0m \u001b[0;32mNone\u001b[0m\u001b[0;34m:\u001b[0m\u001b[0;34m\u001b[0m\u001b[0m\n",
      "\u001b[0;32m/usr/lib/python3.5/json/decoder.py\u001b[0m in \u001b[0;36mdecode\u001b[0;34m(self, s, _w)\u001b[0m\n\u001b[1;32m    338\u001b[0m         \"\"\"\n\u001b[0;32m--> 339\u001b[0;31m         \u001b[0mobj\u001b[0m\u001b[0;34m,\u001b[0m \u001b[0mend\u001b[0m \u001b[0;34m=\u001b[0m \u001b[0mself\u001b[0m\u001b[0;34m.\u001b[0m\u001b[0mraw_decode\u001b[0m\u001b[0;34m(\u001b[0m\u001b[0ms\u001b[0m\u001b[0;34m,\u001b[0m \u001b[0midx\u001b[0m\u001b[0;34m=\u001b[0m\u001b[0m_w\u001b[0m\u001b[0;34m(\u001b[0m\u001b[0ms\u001b[0m\u001b[0;34m,\u001b[0m \u001b[0;36m0\u001b[0m\u001b[0;34m)\u001b[0m\u001b[0;34m.\u001b[0m\u001b[0mend\u001b[0m\u001b[0;34m(\u001b[0m\u001b[0;34m)\u001b[0m\u001b[0;34m)\u001b[0m\u001b[0;34m\u001b[0m\u001b[0m\n\u001b[0m\u001b[1;32m    340\u001b[0m         \u001b[0mend\u001b[0m \u001b[0;34m=\u001b[0m \u001b[0m_w\u001b[0m\u001b[0;34m(\u001b[0m\u001b[0ms\u001b[0m\u001b[0;34m,\u001b[0m \u001b[0mend\u001b[0m\u001b[0;34m)\u001b[0m\u001b[0;34m.\u001b[0m\u001b[0mend\u001b[0m\u001b[0;34m(\u001b[0m\u001b[0;34m)\u001b[0m\u001b[0;34m\u001b[0m\u001b[0m\n",
      "\u001b[0;32m/usr/lib/python3.5/json/decoder.py\u001b[0m in \u001b[0;36mraw_decode\u001b[0;34m(self, s, idx)\u001b[0m\n\u001b[1;32m    356\u001b[0m         \u001b[0;32mexcept\u001b[0m \u001b[0mStopIteration\u001b[0m \u001b[0;32mas\u001b[0m \u001b[0merr\u001b[0m\u001b[0;34m:\u001b[0m\u001b[0;34m\u001b[0m\u001b[0m\n\u001b[0;32m--> 357\u001b[0;31m             \u001b[0;32mraise\u001b[0m \u001b[0mJSONDecodeError\u001b[0m\u001b[0;34m(\u001b[0m\u001b[0;34m\"Expecting value\"\u001b[0m\u001b[0;34m,\u001b[0m \u001b[0ms\u001b[0m\u001b[0;34m,\u001b[0m \u001b[0merr\u001b[0m\u001b[0;34m.\u001b[0m\u001b[0mvalue\u001b[0m\u001b[0;34m)\u001b[0m \u001b[0;32mfrom\u001b[0m \u001b[0;32mNone\u001b[0m\u001b[0;34m\u001b[0m\u001b[0m\n\u001b[0m\u001b[1;32m    358\u001b[0m         \u001b[0;32mreturn\u001b[0m \u001b[0mobj\u001b[0m\u001b[0;34m,\u001b[0m \u001b[0mend\u001b[0m\u001b[0;34m\u001b[0m\u001b[0m\n",
      "\u001b[0;31mJSONDecodeError\u001b[0m: Expecting value: line 1 column 1 (char 0)",
      "\nThe above exception was the direct cause of the following exception:\n",
      "\u001b[0;31mKeyError\u001b[0m                                  Traceback (most recent call last)",
      "\u001b[0;32m<ipython-input-20-0f28c32c0c3a>\u001b[0m in \u001b[0;36m<module>\u001b[0;34m\u001b[0m\n\u001b[1;32m      4\u001b[0m \u001b[0;32mwith\u001b[0m \u001b[0mopen\u001b[0m\u001b[0;34m(\u001b[0m\u001b[0;34m'text_data.txt'\u001b[0m\u001b[0;34m,\u001b[0m\u001b[0;34m'r'\u001b[0m\u001b[0;34m)\u001b[0m \u001b[0;32mas\u001b[0m \u001b[0mfp\u001b[0m\u001b[0;34m:\u001b[0m\u001b[0;34m\u001b[0m\u001b[0m\n\u001b[1;32m      5\u001b[0m     \u001b[0mtext_data\u001b[0m \u001b[0;34m=\u001b[0m \u001b[0mfp\u001b[0m\u001b[0;34m.\u001b[0m\u001b[0mread\u001b[0m\u001b[0;34m(\u001b[0m\u001b[0;34m)\u001b[0m\u001b[0;34m\u001b[0m\u001b[0m\n\u001b[0;32m----> 6\u001b[0;31m \u001b[0mload_json_key\u001b[0m\u001b[0;34m(\u001b[0m\u001b[0mtext_data\u001b[0m\u001b[0;34m,\u001b[0m \u001b[0;34m'some_key'\u001b[0m\u001b[0;34m)\u001b[0m \u001b[0;31m#JSONDecodeError 발생하는 거 확인 가능\u001b[0m\u001b[0;34m\u001b[0m\u001b[0m\n\u001b[0m",
      "\u001b[0;32m<ipython-input-19-7bb2537c0321>\u001b[0m in \u001b[0;36mload_json_key\u001b[0;34m(data, key)\u001b[0m\n\u001b[1;32m      5\u001b[0m         \u001b[0mresult_dict\u001b[0m \u001b[0;34m=\u001b[0m \u001b[0mjson\u001b[0m\u001b[0;34m.\u001b[0m\u001b[0mloads\u001b[0m\u001b[0;34m(\u001b[0m\u001b[0mdata\u001b[0m\u001b[0;34m)\u001b[0m \u001b[0;31m#ValueError가 일어날 수 있음\u001b[0m\u001b[0;34m\u001b[0m\u001b[0m\n\u001b[1;32m      6\u001b[0m     \u001b[0;32mexcept\u001b[0m \u001b[0mValueError\u001b[0m \u001b[0;32mas\u001b[0m \u001b[0me\u001b[0m\u001b[0;34m:\u001b[0m\u001b[0;34m\u001b[0m\u001b[0m\n\u001b[0;32m----> 7\u001b[0;31m         \u001b[0;32mraise\u001b[0m \u001b[0mKeyError\u001b[0m \u001b[0;32mfrom\u001b[0m \u001b[0me\u001b[0m\u001b[0;34m\u001b[0m\u001b[0m\n\u001b[0m\u001b[1;32m      8\u001b[0m     \u001b[0;32melse\u001b[0m\u001b[0;34m:\u001b[0m\u001b[0;34m\u001b[0m\u001b[0m\n\u001b[1;32m      9\u001b[0m         \u001b[0;32mreturn\u001b[0m \u001b[0mresult_dict\u001b[0m\u001b[0;34m[\u001b[0m\u001b[0mkey\u001b[0m\u001b[0;34m]\u001b[0m \u001b[0;31m#KeyError가 일어날 수 있음\u001b[0m\u001b[0;34m\u001b[0m\u001b[0m\n",
      "\u001b[0;31mKeyError\u001b[0m: "
     ]
    }
   ],
   "source": [
    "'''\n",
    "올바른 JSON 파일이 아닌 경우 --> loads 함수에서 디코드할 때 ValueError 발생 가능\n",
    "'''\n",
    "with open('text_data.txt','r') as fp:\n",
    "    text_data = fp.read()\n",
    "load_json_key(text_data, 'some_key') #JSONDecodeError 발생하는 거 확인 가능"
   ]
  },
  {
   "cell_type": "code",
   "execution_count": 21,
   "metadata": {},
   "outputs": [
    {
     "ename": "KeyError",
     "evalue": "'key2'",
     "output_type": "error",
     "traceback": [
      "\u001b[0;31m---------------------------------------------------------------------------\u001b[0m",
      "\u001b[0;31mKeyError\u001b[0m                                  Traceback (most recent call last)",
      "\u001b[0;32m<ipython-input-21-2f5e788476b2>\u001b[0m in \u001b[0;36m<module>\u001b[0;34m\u001b[0m\n\u001b[1;32m      4\u001b[0m \u001b[0;32mwith\u001b[0m \u001b[0mopen\u001b[0m\u001b[0;34m(\u001b[0m\u001b[0;34m'json_data.json'\u001b[0m\u001b[0;34m,\u001b[0m\u001b[0;34m'r'\u001b[0m\u001b[0;34m)\u001b[0m \u001b[0;32mas\u001b[0m \u001b[0mfp\u001b[0m\u001b[0;34m:\u001b[0m\u001b[0;34m\u001b[0m\u001b[0m\n\u001b[1;32m      5\u001b[0m     \u001b[0mjson_data\u001b[0m \u001b[0;34m=\u001b[0m \u001b[0mfp\u001b[0m\u001b[0;34m.\u001b[0m\u001b[0mread\u001b[0m\u001b[0;34m(\u001b[0m\u001b[0;34m)\u001b[0m\u001b[0;34m\u001b[0m\u001b[0m\n\u001b[0;32m----> 6\u001b[0;31m \u001b[0mload_json_key\u001b[0m\u001b[0;34m(\u001b[0m\u001b[0mjson_data\u001b[0m\u001b[0;34m,\u001b[0m \u001b[0;34m'key2'\u001b[0m\u001b[0;34m)\u001b[0m\u001b[0;34m\u001b[0m\u001b[0m\n\u001b[0m",
      "\u001b[0;32m<ipython-input-19-7bb2537c0321>\u001b[0m in \u001b[0;36mload_json_key\u001b[0;34m(data, key)\u001b[0m\n\u001b[1;32m      7\u001b[0m         \u001b[0;32mraise\u001b[0m \u001b[0mKeyError\u001b[0m \u001b[0;32mfrom\u001b[0m \u001b[0me\u001b[0m\u001b[0;34m\u001b[0m\u001b[0m\n\u001b[1;32m      8\u001b[0m     \u001b[0;32melse\u001b[0m\u001b[0;34m:\u001b[0m\u001b[0;34m\u001b[0m\u001b[0m\n\u001b[0;32m----> 9\u001b[0;31m         \u001b[0;32mreturn\u001b[0m \u001b[0mresult_dict\u001b[0m\u001b[0;34m[\u001b[0m\u001b[0mkey\u001b[0m\u001b[0;34m]\u001b[0m \u001b[0;31m#KeyError가 일어날 수 있음\u001b[0m\u001b[0;34m\u001b[0m\u001b[0m\n\u001b[0m",
      "\u001b[0;31mKeyError\u001b[0m: 'key2'"
     ]
    }
   ],
   "source": [
    "'''\n",
    "올바른 JSON 파일이지만 key가 없는 경우 --> else 블록에서 keyerror 발생함\n",
    "'''\n",
    "with open('json_data.json','r') as fp:\n",
    "    json_data = fp.read()\n",
    "load_json_key(json_data, 'key2')"
   ]
  },
  {
   "cell_type": "code",
   "execution_count": 22,
   "metadata": {},
   "outputs": [
    {
     "data": {
      "text/plain": [
       "'value1'"
      ]
     },
     "execution_count": 22,
     "metadata": {},
     "output_type": "execute_result"
    }
   ],
   "source": [
    "'''\n",
    "올바른 JSON 파일이고 key가 있는 경우 --> 문제없이 else 블록 실행\n",
    "'''\n",
    "load_json_key(json_data, 'key1')"
   ]
  },
  {
   "cell_type": "markdown",
   "metadata": {},
   "source": [
    "**모두 함께 사용하기**\n",
    "- 복합문 하나로 모든 것을 처리하고 싶을 때, try/except/else/finally 사용"
   ]
  },
  {
   "cell_type": "code",
   "execution_count": 23,
   "metadata": {},
   "outputs": [],
   "source": [
    "'''\n",
    "[try]: 파일을 읽고 처리 (여기서는 분자/분모 계산)\n",
    "[except]: try 블록에서 발생하는 예외 처리 (여기서는 0이 분모가 되는 예외)\n",
    "[else]: 파일을 즉석에서 업데이트하고 (result 저장) 이와 관련한 예외가 전달되게 하는 데 사용\n",
    "[finally]: 파일 핸들을 정리하는 데 사용함. else 블록에서 예외가 발생하더라도 항상 실행되어 파일 핸들을 닫음\n",
    "'''\n",
    "\n",
    "UNDEFINED = object()\n",
    "\n",
    "def divide_json(path):\n",
    "    handle = open(path, 'r+') #IOError 발생 가능\n",
    "    try:\n",
    "        data = handle.read()\n",
    "        op = json.loads(data)\n",
    "        value = (\n",
    "            op['numerator'] / \n",
    "            op['denominator']\n",
    "        )\n",
    "    except ZeroDivisionError as e:\n",
    "        return UNDEFINED\n",
    "    else:\n",
    "        op['result'] = value\n",
    "        result = json.dumps(op)\n",
    "        handle.seek(0)\n",
    "        handle.write(result)\n",
    "        return value\n",
    "    finally:\n",
    "        handle.close()"
   ]
  },
  {
   "cell_type": "code",
   "execution_count": 28,
   "metadata": {},
   "outputs": [
    {
     "data": {
      "text/plain": [
       "{'denominator': 0, 'numerator': 3}"
      ]
     },
     "execution_count": 28,
     "metadata": {},
     "output_type": "execute_result"
    }
   ],
   "source": [
    "with open('zero_division_data.json','r') as fp:\n",
    "    json_data = json.load(fp)\n",
    "\n",
    "json_data #denominator == 0"
   ]
  },
  {
   "cell_type": "code",
   "execution_count": 29,
   "metadata": {},
   "outputs": [
    {
     "data": {
      "text/plain": [
       "<object at 0x7feb71b993d0>"
      ]
     },
     "execution_count": 29,
     "metadata": {},
     "output_type": "execute_result"
    }
   ],
   "source": [
    "UNDEFINED"
   ]
  },
  {
   "cell_type": "code",
   "execution_count": 30,
   "metadata": {},
   "outputs": [
    {
     "data": {
      "text/plain": [
       "<object at 0x7feb71b993d0>"
      ]
     },
     "execution_count": 30,
     "metadata": {},
     "output_type": "execute_result"
    }
   ],
   "source": [
    "divide_json('zero_division_data.json')"
   ]
  },
  {
   "cell_type": "code",
   "execution_count": 31,
   "metadata": {},
   "outputs": [
    {
     "data": {
      "text/plain": [
       "{'denominator': 6, 'numerator': 3}"
      ]
     },
     "execution_count": 31,
     "metadata": {},
     "output_type": "execute_result"
    }
   ],
   "source": [
    "with open('division_data.json','r') as fp:\n",
    "    json_data = json.load(fp)\n",
    "\n",
    "json_data"
   ]
  },
  {
   "cell_type": "code",
   "execution_count": 32,
   "metadata": {},
   "outputs": [
    {
     "data": {
      "text/plain": [
       "0.5"
      ]
     },
     "execution_count": 32,
     "metadata": {},
     "output_type": "execute_result"
    }
   ],
   "source": [
    "divide_json('division_data.json')"
   ]
  },
  {
   "cell_type": "code",
   "execution_count": 33,
   "metadata": {},
   "outputs": [
    {
     "data": {
      "text/plain": [
       "{'denominator': 6, 'numerator': 3, 'result': 0.5}"
      ]
     },
     "execution_count": 33,
     "metadata": {},
     "output_type": "execute_result"
    }
   ],
   "source": [
    "with open('division_data.json','r') as fp:\n",
    "    json_data = json.load(fp)\n",
    "\n",
    "json_data #result 항목이 updata 된 것 확인 가능"
   ]
  },
  {
   "cell_type": "markdown",
   "metadata": {},
   "source": [
    "핵심 정리\n",
    "- try/finally 문: try 블록에서 예외 발생 여부와 상관없이 정리 코드 실행 가능\n",
    "- else 블록: try 블록 코드 양을 최소로 줄이는 데 도움을 줌. try/except 블록과 성공한 경우 (즉 예외가 발생하지 않은 경우) 실행할 코드를 시각적으로 구분해줌\n",
    "- else 블록: try 블록이 성공적으로 실행된 후 finally 블록에서 공통 정리 코드를 실행하기 전에 추가 작업을 하는 데 사용할 수 있음"
   ]
  },
  {
   "cell_type": "code",
   "execution_count": null,
   "metadata": {},
   "outputs": [],
   "source": []
  },
  {
   "cell_type": "code",
   "execution_count": null,
   "metadata": {},
   "outputs": [],
   "source": []
  }
 ],
 "metadata": {
  "kernelspec": {
   "display_name": "Python 3",
   "language": "python",
   "name": "python3"
  },
  "language_info": {
   "codemirror_mode": {
    "name": "ipython",
    "version": 3
   },
   "file_extension": ".py",
   "mimetype": "text/x-python",
   "name": "python",
   "nbconvert_exporter": "python",
   "pygments_lexer": "ipython3",
   "version": "3.5.2"
  }
 },
 "nbformat": 4,
 "nbformat_minor": 2
}
