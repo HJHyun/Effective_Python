{
 "cells": [
  {
   "cell_type": "markdown",
   "metadata": {
    "colab_type": "text",
    "id": "yhXyZrM2fDm_"
   },
   "source": [
    "# Better Way 45 지역 시간은 time이 아닌 datetime으로 표현하자\n",
    "\n",
    "* https://github.com/KangJungHwa/Effective-Python/blob/master/item_45.py\n",
    "* https://github.com/shoark7/Effective-Python/blob/master/files/BetterWay45_UseDatetimeForLocalTime.md\n",
    "\n",
    "\n",
    "* 협정 세계시(UTC, Coordinated Universal Time)는 시간대에 의존하지 않는 표준 시간 표현. \n",
    "* UTC는 유닉스 기원 이후로 지나간 초로 시간을 표현하는 컴퓨터에서 잘 작동.\n",
    "\n",
    "\n",
    "* 사람이 사용하는 시간은 현재 자신이 있는 위치를 기준으로 함.\n",
    "* 프로그램에서 시간을 처리해야 한다면 사람이 이해하기 쉽게 UTC와 지역 시간 사이에서 변환이 필요.\n",
    "\n",
    "* 파이썬은 두 가지 시간대 변환 방법을 제공.\n",
    "    * 내장 모듈 time을 사용하는 방법은 치명적인 오류가 일어날 가능성이 큼\n",
    "    * 내장 모듈 datetime을 사용하는 방법은 커뮤니티에서 만든 pytz 패키지의 도움을 받아 훌륭하게 동작.\n",
    "\n",
    "* datetime이 최선의 선택이고, time을 사용하지 말아야 하는 이유를 완전히 이해하는 것이 이번 장의 내용이다.\n",
    "<hr>\n",
    "\n",
    "## time 모듈\n",
    "### 1. UTC 시간에서 지역시간으로 변환하는 경우\n",
    "* 내장 모듈 time의 **localtime 함수**는 유닉스 타임스탬프(UTC에서 유닉스 기원, epoch 이후 지난 초)를 호스트 컴퓨터의 시간대(코랩 시간대는 그냥 UTC 인가부다)와 일치하는 지역 시간으로 변환"
   ]
  },
  {
   "cell_type": "code",
   "execution_count": 0,
   "metadata": {
    "colab": {},
    "colab_type": "code",
    "id": "Zh2yxY1sdVPG"
   },
   "outputs": [],
   "source": [
    "import logging"
   ]
  },
  {
   "cell_type": "code",
   "execution_count": 0,
   "metadata": {
    "colab": {
     "base_uri": "https://localhost:8080/",
     "height": 52
    },
    "colab_type": "code",
    "id": "DTgm12PWer-a",
    "outputId": "0bf34b81-23d6-492a-813a-667d2e502a89"
   },
   "outputs": [
    {
     "name": "stdout",
     "output_type": "stream",
     "text": [
      "now is 1570892479.4142067\n",
      "2019-10-12 15:01:19\n"
     ]
    }
   ],
   "source": [
    "# localtime: UTC 타임스탬프 => 지역시간\n",
    "\n",
    "from time import localtime, strftime, time\n",
    "\n",
    "# now = 1407694710\n",
    "now = time()\n",
    "print('now is', now)\n",
    "\n",
    "local_tuple = localtime(now)\n",
    "time_format = '%Y-%m-%d %H:%M:%S'\n",
    "time_str = strftime(time_format, local_tuple)\n",
    "print(time_str)"
   ]
  },
  {
   "cell_type": "code",
   "execution_count": 0,
   "metadata": {
    "colab": {
     "base_uri": "https://localhost:8080/",
     "height": 35
    },
    "colab_type": "code",
    "id": "_pIlJLb8XN6U",
    "outputId": "5a6ab02d-3ea8-4305-f4e2-8bd511557040"
   },
   "outputs": [
    {
     "name": "stdout",
     "output_type": "stream",
     "text": [
      "Sat Oct 12 15:01:42 UTC 2019\n"
     ]
    }
   ],
   "source": [
    "! date # 한국 시간대로 설정이 되어 있으면, UTC 대신 KST(KOREA STANDARD TIME) 라고 나옴"
   ]
  },
  {
   "cell_type": "code",
   "execution_count": 0,
   "metadata": {
    "colab": {
     "base_uri": "https://localhost:8080/",
     "height": 35
    },
    "colab_type": "code",
    "id": "MZr5p132fzx1",
    "outputId": "7cfdcb48-7cd3-4b67-9d41-44f003833761"
   },
   "outputs": [
    {
     "name": "stdout",
     "output_type": "stream",
     "text": [
      "Etc/UTC\n"
     ]
    }
   ],
   "source": [
    "! more /etc/timezone"
   ]
  },
  {
   "cell_type": "code",
   "execution_count": 0,
   "metadata": {
    "colab": {
     "base_uri": "https://localhost:8080/",
     "height": 959
    },
    "colab_type": "code",
    "id": "TMHCl_L-jNZB",
    "outputId": "c7a460be-398e-4014-ff9a-635d5ec2ecdd"
   },
   "outputs": [
    {
     "name": "stdout",
     "output_type": "stream",
     "text": [
      "Please identify a location so that time zone rules can be set correctly.\n",
      "Please select a continent, ocean, \"coord\", or \"TZ\".\n",
      " 1) Africa\n",
      " 2) Americas\n",
      " 3) Antarctica\n",
      " 4) Asia\n",
      " 5) Atlantic Ocean\n",
      " 6) Australia\n",
      " 7) Europe\n",
      " 8) Indian Ocean\n",
      " 9) Pacific Ocean\n",
      "10) coord - I want to use geographical coordinates.\n",
      "11) TZ - I want to specify the time zone using the Posix TZ format.\n",
      "#? 4\n",
      "Please select a country whose clocks agree with yours.\n",
      " 1) Afghanistan\t\t  18) Israel\t\t    35) Palestine\n",
      " 2) Armenia\t\t  19) Japan\t\t    36) Philippines\n",
      " 3) Azerbaijan\t\t  20) Jordan\t\t    37) Qatar\n",
      " 4) Bahrain\t\t  21) Kazakhstan\t    38) Russia\n",
      " 5) Bangladesh\t\t  22) Korea (North)\t    39) Saudi Arabia\n",
      " 6) Bhutan\t\t  23) Korea (South)\t    40) Singapore\n",
      " 7) Brunei\t\t  24) Kuwait\t\t    41) Sri Lanka\n",
      " 8) Cambodia\t\t  25) Kyrgyzstan\t    42) Syria\n",
      " 9) China\t\t  26) Laos\t\t    43) Taiwan\n",
      "10) Cyprus\t\t  27) Lebanon\t\t    44) Tajikistan\n",
      "11) East Timor\t\t  28) Macau\t\t    45) Thailand\n",
      "12) Georgia\t\t  29) Malaysia\t\t    46) Turkmenistan\n",
      "13) Hong Kong\t\t  30) Mongolia\t\t    47) United Arab Emirates\n",
      "14) India\t\t  31) Myanmar (Burma)\t    48) Uzbekistan\n",
      "15) Indonesia\t\t  32) Nepal\t\t    49) Vietnam\n",
      "16) Iran\t\t  33) Oman\t\t    50) Yemen\n",
      "17) Iraq\t\t  34) Pakistan\n",
      "#? 23\n",
      "\n",
      "The following information has been given:\n",
      "\n",
      "\tKorea (South)\n",
      "\n",
      "Therefore TZ='Asia/Seoul' will be used.\n",
      "Selected time is now:\tSun Oct 13 00:18:38 KST 2019.\n",
      "Universal Time is now:\tSat Oct 12 15:18:38 UTC 2019.\n",
      "Is the above information OK?\n",
      "1) Yes\n",
      "2) No\n",
      "#? 1\n",
      "\n",
      "You can make this change permanent for yourself by appending the line\n",
      "\tTZ='Asia/Seoul'; export TZ\n",
      "to the file '.profile' in your home directory; then log out and log in again.\n",
      "\n",
      "Here is that TZ value again, this time on standard output so that you\n",
      "can use the /usr/bin/tzselect command in shell scripts:\n",
      "Asia/Seoul\n"
     ]
    }
   ],
   "source": [
    "!tzselect"
   ]
  },
  {
   "cell_type": "code",
   "execution_count": 0,
   "metadata": {
    "colab": {
     "base_uri": "https://localhost:8080/",
     "height": 52
    },
    "colab_type": "code",
    "id": "byKV1ClzjZ30",
    "outputId": "c9a1db2b-f9ea-42d2-c106-a33bfd07a809"
   },
   "outputs": [
    {
     "name": "stdout",
     "output_type": "stream",
     "text": [
      "\n",
      "Sat Oct 12 15:22:39 UTC 2019\n"
     ]
    }
   ],
   "source": [
    "! export TZ='Asia/Seoul'\n",
    "! echo $TZ\n",
    "! date"
   ]
  },
  {
   "cell_type": "code",
   "execution_count": 0,
   "metadata": {
    "colab": {
     "base_uri": "https://localhost:8080/",
     "height": 35
    },
    "colab_type": "code",
    "id": "Lp4MvorjkVCA",
    "outputId": "c66fd2b0-c709-49a7-f81e-4efe26069352"
   },
   "outputs": [
    {
     "name": "stdout",
     "output_type": "stream",
     "text": [
      "\n"
     ]
    }
   ],
   "source": [
    "! echo $env"
   ]
  },
  {
   "cell_type": "markdown",
   "metadata": {
    "colab_type": "text",
    "id": "gHpIGlUFrP1l"
   },
   "source": [
    "### 2. 지역 시간으로 사용자 입력을 받아서 UTC 시간으로 변환 하는 경우\n",
    "* **strptime 함수**로 시간 문자열을 파싱한 후에 **mktime 함수**로 지역 시간을 유닉스 타임스탬프로 변환."
   ]
  },
  {
   "cell_type": "code",
   "execution_count": 0,
   "metadata": {
    "colab": {
     "base_uri": "https://localhost:8080/",
     "height": 70
    },
    "colab_type": "code",
    "id": "DHg9eVPopzH4",
    "outputId": "ccfca5a0-d7a9-4c38-85a5-97496eb8666f"
   },
   "outputs": [
    {
     "name": "stdout",
     "output_type": "stream",
     "text": [
      "time_str 2019-10-12 15:01:19\n",
      "time_format %Y-%m-%d %H:%M:%S\n",
      "utc_now 1570892479.0\n"
     ]
    }
   ],
   "source": [
    "from time import mktime, strptime\n",
    "\n",
    "print('time_str', time_str)\n",
    "print('time_format', time_format)\n",
    "time_tuple = strptime(time_str, time_format)\n",
    "utc_now = mktime(time_tuple)\n",
    "print('utc_now', utc_now)"
   ]
  },
  {
   "cell_type": "code",
   "execution_count": 0,
   "metadata": {
    "colab": {
     "base_uri": "https://localhost:8080/",
     "height": 35
    },
    "colab_type": "code",
    "id": "ygZYRBTBgpeM",
    "outputId": "efbb6574-8b8d-4311-d760-8dcae6774d5c"
   },
   "outputs": [
    {
     "data": {
      "text/plain": [
       "time.struct_time(tm_year=2019, tm_mon=10, tm_mday=12, tm_hour=15, tm_min=1, tm_sec=19, tm_wday=5, tm_yday=285, tm_isdst=-1)"
      ]
     },
     "execution_count": 34,
     "metadata": {
      "tags": []
     },
     "output_type": "execute_result"
    }
   ],
   "source": [
    "time_tuple"
   ]
  },
  {
   "cell_type": "markdown",
   "metadata": {
    "colab_type": "text",
    "id": "JVhYA5Xpr9L_"
   },
   "source": [
    "### 3. PDT로 파싱하는 코드(=> time 모듈을 사용하면 안되는 케이스)\n",
    "* PST - 태평양 연안 표준시\n",
    "* PDT - 태평양 연안 표준시 - 썸머타임\n",
    "* EST - 동부 표준시\n",
    "* EDT - 동부 표준시 - 썸머타임"
   ]
  },
  {
   "cell_type": "code",
   "execution_count": 0,
   "metadata": {
    "colab": {
     "base_uri": "https://localhost:8080/",
     "height": 389
    },
    "colab_type": "code",
    "id": "dvRU-TP9qBQy",
    "outputId": "00ee36df-051b-4037-c50e-9a399819ab33"
   },
   "outputs": [
    {
     "ename": "ValueError",
     "evalue": "ignored",
     "output_type": "error",
     "traceback": [
      "\u001b[0;31m---------------------------------------------------------------------------\u001b[0m",
      "\u001b[0;31mValueError\u001b[0m                                Traceback (most recent call last)",
      "\u001b[0;32m<ipython-input-33-170fba9880ef>\u001b[0m in \u001b[0;36m<module>\u001b[0;34m()\u001b[0m\n\u001b[1;32m      1\u001b[0m \u001b[0mparse_format\u001b[0m \u001b[0;34m=\u001b[0m \u001b[0;34m'%Y-%m-%d %H:%M:%S %Z'\u001b[0m \u001b[0;31m# %Z가 매칭이 안됨...\u001b[0m\u001b[0;34m\u001b[0m\u001b[0;34m\u001b[0m\u001b[0m\n\u001b[1;32m      2\u001b[0m \u001b[0mdepart_sfo\u001b[0m \u001b[0;34m=\u001b[0m \u001b[0;34m'2014-05-01 15:45:16 PDT'\u001b[0m\u001b[0;34m\u001b[0m\u001b[0;34m\u001b[0m\u001b[0m\n\u001b[0;32m----> 3\u001b[0;31m \u001b[0mtime_tuple\u001b[0m \u001b[0;34m=\u001b[0m \u001b[0mstrptime\u001b[0m\u001b[0;34m(\u001b[0m\u001b[0mdepart_sfo\u001b[0m\u001b[0;34m,\u001b[0m \u001b[0mparse_format\u001b[0m\u001b[0;34m)\u001b[0m\u001b[0;34m\u001b[0m\u001b[0;34m\u001b[0m\u001b[0m\n\u001b[0m\u001b[1;32m      4\u001b[0m \u001b[0mtime_str\u001b[0m \u001b[0;34m=\u001b[0m \u001b[0mstrftime\u001b[0m\u001b[0;34m(\u001b[0m\u001b[0mtime_format\u001b[0m\u001b[0;34m,\u001b[0m \u001b[0mtime_tuple\u001b[0m\u001b[0;34m)\u001b[0m\u001b[0;34m\u001b[0m\u001b[0;34m\u001b[0m\u001b[0m\n\u001b[1;32m      5\u001b[0m \u001b[0mprint\u001b[0m\u001b[0;34m(\u001b[0m\u001b[0mtime_str\u001b[0m\u001b[0;34m)\u001b[0m\u001b[0;34m\u001b[0m\u001b[0;34m\u001b[0m\u001b[0m\n",
      "\u001b[0;32m/usr/lib/python3.6/_strptime.py\u001b[0m in \u001b[0;36m_strptime_time\u001b[0;34m(data_string, format)\u001b[0m\n\u001b[1;32m    557\u001b[0m     \"\"\"Return a time struct based on the input string and the\n\u001b[1;32m    558\u001b[0m     format string.\"\"\"\n\u001b[0;32m--> 559\u001b[0;31m     \u001b[0mtt\u001b[0m \u001b[0;34m=\u001b[0m \u001b[0m_strptime\u001b[0m\u001b[0;34m(\u001b[0m\u001b[0mdata_string\u001b[0m\u001b[0;34m,\u001b[0m \u001b[0mformat\u001b[0m\u001b[0;34m)\u001b[0m\u001b[0;34m[\u001b[0m\u001b[0;36m0\u001b[0m\u001b[0;34m]\u001b[0m\u001b[0;34m\u001b[0m\u001b[0;34m\u001b[0m\u001b[0m\n\u001b[0m\u001b[1;32m    560\u001b[0m     \u001b[0;32mreturn\u001b[0m \u001b[0mtime\u001b[0m\u001b[0;34m.\u001b[0m\u001b[0mstruct_time\u001b[0m\u001b[0;34m(\u001b[0m\u001b[0mtt\u001b[0m\u001b[0;34m[\u001b[0m\u001b[0;34m:\u001b[0m\u001b[0mtime\u001b[0m\u001b[0;34m.\u001b[0m\u001b[0m_STRUCT_TM_ITEMS\u001b[0m\u001b[0;34m]\u001b[0m\u001b[0;34m)\u001b[0m\u001b[0;34m\u001b[0m\u001b[0;34m\u001b[0m\u001b[0m\n\u001b[1;32m    561\u001b[0m \u001b[0;34m\u001b[0m\u001b[0m\n",
      "\u001b[0;32m/usr/lib/python3.6/_strptime.py\u001b[0m in \u001b[0;36m_strptime\u001b[0;34m(data_string, format)\u001b[0m\n\u001b[1;32m    360\u001b[0m     \u001b[0;32mif\u001b[0m \u001b[0;32mnot\u001b[0m \u001b[0mfound\u001b[0m\u001b[0;34m:\u001b[0m\u001b[0;34m\u001b[0m\u001b[0;34m\u001b[0m\u001b[0m\n\u001b[1;32m    361\u001b[0m         raise ValueError(\"time data %r does not match format %r\" %\n\u001b[0;32m--> 362\u001b[0;31m                          (data_string, format))\n\u001b[0m\u001b[1;32m    363\u001b[0m     \u001b[0;32mif\u001b[0m \u001b[0mlen\u001b[0m\u001b[0;34m(\u001b[0m\u001b[0mdata_string\u001b[0m\u001b[0;34m)\u001b[0m \u001b[0;34m!=\u001b[0m \u001b[0mfound\u001b[0m\u001b[0;34m.\u001b[0m\u001b[0mend\u001b[0m\u001b[0;34m(\u001b[0m\u001b[0;34m)\u001b[0m\u001b[0;34m:\u001b[0m\u001b[0;34m\u001b[0m\u001b[0;34m\u001b[0m\u001b[0m\n\u001b[1;32m    364\u001b[0m         raise ValueError(\"unconverted data remains: %s\" %\n",
      "\u001b[0;31mValueError\u001b[0m: time data '2014-05-01 15:45:16 PDT' does not match format '%Y-%m-%d %H:%M:%S %Z'"
     ]
    }
   ],
   "source": [
    "parse_format = '%Y-%m-%d %H:%M:%S %Z' # %Z가 매칭이 안됨...\n",
    "depart_sfo = '2014-05-01 15:45:16 PDT'\n",
    "time_tuple = strptime(depart_sfo, parse_format)\n",
    "time_str = strftime(time_format, time_tuple)\n",
    "print(time_str)"
   ]
  },
  {
   "cell_type": "code",
   "execution_count": 0,
   "metadata": {
    "colab": {
     "base_uri": "https://localhost:8080/",
     "height": 35
    },
    "colab_type": "code",
    "id": "MbXssWDycObS",
    "outputId": "6bc9ff06-1985-4de9-a0ce-719262932276"
   },
   "outputs": [
    {
     "name": "stdout",
     "output_type": "stream",
     "text": [
      "2014-05-01 15:45:16\n"
     ]
    }
   ],
   "source": [
    "parse_format = '%Y-%m-%d %H:%M:%S'\n",
    "depart_sfo = '2014-05-01 15:45:16'\n",
    "time_tuple = strptime(depart_sfo, parse_format)\n",
    "time_str = strftime(time_format, time_tuple)\n",
    "print(time_str)"
   ]
  },
  {
   "cell_type": "markdown",
   "metadata": {
    "colab_type": "text",
    "id": "yiSx6damzmpG"
   },
   "source": [
    "### 4. EDT로 파싱하는 코드(=> time 모듈을 사용하면 안되는 케이스)"
   ]
  },
  {
   "cell_type": "code",
   "execution_count": 0,
   "metadata": {
    "colab": {
     "base_uri": "https://localhost:8080/",
     "height": 177
    },
    "colab_type": "code",
    "id": "x2gVT8NTwlWv",
    "outputId": "fc1b3b12-4e6b-45b4-9ecf-fbeb6f660300"
   },
   "outputs": [
    {
     "name": "stderr",
     "output_type": "stream",
     "text": [
      "ERROR:root:Expected\n",
      "Traceback (most recent call last):\n",
      "  File \"<ipython-input-16-2a32494428f3>\", line 3, in <module>\n",
      "    time_tuple = strptime(arrival_nyc, time_format)\n",
      "  File \"/usr/lib/python3.6/_strptime.py\", line 559, in _strptime_time\n",
      "    tt = _strptime(data_string, format)[0]\n",
      "  File \"/usr/lib/python3.6/_strptime.py\", line 365, in _strptime\n",
      "    data_string[found.end():])\n",
      "ValueError: unconverted data remains:  EDT\n"
     ]
    }
   ],
   "source": [
    "try:\n",
    "    arrival_nyc = '2014-05-01 23:33:24 EDT'\n",
    "    time_tuple = strptime(arrival_nyc, time_format)\n",
    "except:\n",
    "    logging.exception('Expected')\n",
    "else:\n",
    "    assert False"
   ]
  },
  {
   "cell_type": "markdown",
   "metadata": {
    "colab_type": "text",
    "id": "J5snTcbi3t0a"
   },
   "source": [
    "* 문제는 플랫폼에 의존적인 time 모듈의 특성이다. \n",
    "* 실제 동작은 내부의 C 함수가 호스트 운영체제와 어떻게 동작하느냐에 따라 결정된다. \n",
    "* 이와 같은 동작 때문에 파이썬의 time 모듈의 기능을 신뢰하기 어렵다.\n",
    "\n",
    "* 따라서 이런 목적으로는 time 모듈을 사용하지 말아야 한다. \n",
    "* time을 사용해야 한다면 UTC와 호스트 컴퓨터의 지역 시간을 변환하는 목적으로만 사용해야 한다. \n",
    "* 다른 형태의 변환에는 datetime 모듈을 사용해야 한다.\n",
    "\n",
    "##  datetime과 pytz 모듈\n",
    "* 파이썬에서 시간을 표현하는 두 번째 방법은 내장 모듈 datetime의 datetime 클래스를 사용하는 것. \n",
    "* time 모듈과 마찬가지로 datetime은 UTC에서의 현재 시각을 지역 시간으로 변경하는 데 사용할 수 있다.\n",
    "\n",
    "### 1. 현재 시각을 UTC로 얻어와서 호스트의 지역시간(코랩에서는 변화 없음...)으로 변경하는 경우"
   ]
  },
  {
   "cell_type": "code",
   "execution_count": 0,
   "metadata": {
    "colab": {
     "base_uri": "https://localhost:8080/",
     "height": 35
    },
    "colab_type": "code",
    "id": "ynQXdjjy_0DW",
    "outputId": "bddec1d0-0bbc-4eba-ba18-8f5b6194f32f"
   },
   "outputs": [
    {
     "name": "stdout",
     "output_type": "stream",
     "text": [
      "2014-08-10 18:18:30+00:00\n"
     ]
    }
   ],
   "source": [
    "from datetime import datetime, timezone\n",
    "\n",
    "now = datetime(2014, 8, 10, 18, 18, 30)\n",
    "# now = datetime.now()\n",
    "\n",
    "now_utc = now.replace(tzinfo=timezone.utc)\n",
    "now_local = now_utc.astimezone()\n",
    "print(now_local)"
   ]
  },
  {
   "cell_type": "markdown",
   "metadata": {
    "colab_type": "text",
    "id": "Emi_qJxRk-4v"
   },
   "source": [
    "### 2. 지역 시간을 UTC로 변경하는 경우"
   ]
  },
  {
   "cell_type": "code",
   "execution_count": 0,
   "metadata": {
    "colab": {
     "base_uri": "https://localhost:8080/",
     "height": 35
    },
    "colab_type": "code",
    "id": "UsJz6305DVNg",
    "outputId": "c3f7e911-b396-4ec9-b5b8-4533bafb64af"
   },
   "outputs": [
    {
     "name": "stdout",
     "output_type": "stream",
     "text": [
      "1407669510.0\n"
     ]
    }
   ],
   "source": [
    "time_str = '2014-08-10 11:18:30'\n",
    "now = datetime.strptime(time_str, time_format)\n",
    "time_tuple = now.timetuple()\n",
    "utc_now = mktime(time_tuple)\n",
    "print(utc_now)"
   ]
  },
  {
   "cell_type": "code",
   "execution_count": 0,
   "metadata": {
    "colab": {
     "base_uri": "https://localhost:8080/",
     "height": 568
    },
    "colab_type": "code",
    "id": "nH0GGashlwh0",
    "outputId": "dc826f69-be27-402c-c4ea-f51960fcf895"
   },
   "outputs": [
    {
     "data": {
      "text/plain": [
       "['__class__',\n",
       " '__delattr__',\n",
       " '__dir__',\n",
       " '__doc__',\n",
       " '__eq__',\n",
       " '__format__',\n",
       " '__ge__',\n",
       " '__getattribute__',\n",
       " '__getinitargs__',\n",
       " '__gt__',\n",
       " '__hash__',\n",
       " '__init__',\n",
       " '__init_subclass__',\n",
       " '__le__',\n",
       " '__lt__',\n",
       " '__ne__',\n",
       " '__new__',\n",
       " '__reduce__',\n",
       " '__reduce_ex__',\n",
       " '__repr__',\n",
       " '__setattr__',\n",
       " '__sizeof__',\n",
       " '__str__',\n",
       " '__subclasshook__',\n",
       " 'dst',\n",
       " 'fromutc',\n",
       " 'max',\n",
       " 'min',\n",
       " 'tzname',\n",
       " 'utc',\n",
       " 'utcoffset']"
      ]
     },
     "execution_count": 46,
     "metadata": {
      "tags": []
     },
     "output_type": "execute_result"
    }
   ],
   "source": [
    "dir(timezone)"
   ]
  },
  {
   "cell_type": "markdown",
   "metadata": {
    "colab_type": "text",
    "id": "cdrdCOFblgLY"
   },
   "source": [
    "* datetime 모듈은 time 모듈과 달리 한 지역 시간을 다른 지역 시간으로 신뢰성 있게 변경\n",
    "* 하지만 tzinfo 클래스와 관련 메소드를 이용한 시간대 변환 기능만 제공한다. \n",
    "* 빠진 부분은 UTC 이외의 시간대 정의다(dir(timezone) 찍어보면 utc 밖에 없음).\n",
    "\n",
    "* 다행히도 파이썬 커뮤니티에서는 이 허점을 pypi에서 다운로드할 수 있는 pytz 모듈로 해결하고 있다. \n",
    "* pytz는 필요한 모든 시간대에 대한 정의를 담은 전체 데이터베이스를 포함한다.\n",
    "\n",
    "* pytz를 효과적으로 사용하려면 항상 지역 시간을 UTC로 먼저 변경해야 한다. \n",
    "* 그러고 나서 UTC 값에 필요한 datetime 연산(오프셋 지정 등)을 수행한다. \n",
    "* 그런 다음 마지막 단계로 지역 시간으로 변환한다.\n",
    "### 3. pytz 모듈을 사용하여 서로다른 시간대 사이 변환하기\n",
    "* A시간 => UTC 시간 => B시간 이런 식으로 변환해야 함."
   ]
  },
  {
   "cell_type": "code",
   "execution_count": 0,
   "metadata": {
    "colab": {
     "base_uri": "https://localhost:8080/",
     "height": 35
    },
    "colab_type": "code",
    "id": "ObWATVWce8AW",
    "outputId": "e14dfb55-a40f-4bef-d2fc-35baa491dd4e"
   },
   "outputs": [
    {
     "name": "stdout",
     "output_type": "stream",
     "text": [
      "2014-05-02 03:33:24+00:00\n"
     ]
    }
   ],
   "source": [
    "# 미국 동부 시간 => UTC\n",
    "import pytz\n",
    "\n",
    "arrival_nyc = '2014-05-01 23:33:24'  # 뉴욕 도착 시간\n",
    "nyc_dt_naive = datetime.strptime(arrival_nyc, time_format)\n",
    "eastern = pytz.timezone('US/Eastern')\n",
    "nyc_dt = eastern.localize(nyc_dt_naive)\n",
    "utc_dt = pytz.utc.normalize(nyc_dt.astimezone(pytz.utc))\n",
    "print(utc_dt)"
   ]
  },
  {
   "cell_type": "code",
   "execution_count": 0,
   "metadata": {
    "colab": {
     "base_uri": "https://localhost:8080/",
     "height": 35
    },
    "colab_type": "code",
    "id": "G7KchFcSe9nS",
    "outputId": "688ef409-93db-4d9e-b21c-e5f9c0a754bf"
   },
   "outputs": [
    {
     "name": "stdout",
     "output_type": "stream",
     "text": [
      "2014-05-01 20:33:24-07:00\n"
     ]
    }
   ],
   "source": [
    "# UTC => 미국 서부 시간\n",
    "pacific = pytz.timezone('US/Pacific')\n",
    "sf_dt = pacific.normalize(utc_dt.astimezone(pacific))\n",
    "print(sf_dt)"
   ]
  },
  {
   "cell_type": "code",
   "execution_count": 0,
   "metadata": {
    "colab": {
     "base_uri": "https://localhost:8080/",
     "height": 35
    },
    "colab_type": "code",
    "id": "yT3uoo98fANC",
    "outputId": "e3fe99ec-86f3-49f0-97a7-5933982ba527"
   },
   "outputs": [
    {
     "name": "stdout",
     "output_type": "stream",
     "text": [
      "2014-05-02 09:18:24+05:45\n"
     ]
    }
   ],
   "source": [
    "# UTC => 네팔 카트만두\n",
    "nepal = pytz.timezone('Asia/Katmandu')\n",
    "nepal_dt = nepal.normalize(utc_dt.astimezone(nepal))\n",
    "print(nepal_dt)"
   ]
  },
  {
   "cell_type": "code",
   "execution_count": 0,
   "metadata": {
    "colab": {
     "base_uri": "https://localhost:8080/",
     "height": 35
    },
    "colab_type": "code",
    "id": "A3zr7KOdfCQ8",
    "outputId": "be13b6e9-1835-48d1-d8f2-9609a5775171"
   },
   "outputs": [
    {
     "name": "stdout",
     "output_type": "stream",
     "text": [
      "2014-05-02 12:33:24+09:00\n"
     ]
    }
   ],
   "source": [
    "# UTC => 한국 서울 시간\n",
    "seoul = pytz.timezone('Asia/Seoul')\n",
    "seoul_dt = seoul.normalize(utc_dt.astimezone(seoul))\n",
    "print(seoul_dt)"
   ]
  },
  {
   "cell_type": "markdown",
   "metadata": {
    "colab_type": "text",
    "id": "o8rhMLgrnil1"
   },
   "source": [
    "# 핵심 정리\n",
    "* 서로 다른 시간대를 변환하는 데는 time 모듈을 사용하지 말자.\n",
    "* pytz 모듈과 내장 모듈 datetime으로 서로 다른 시간대 사이에서 시간을 신뢰성 있게 변환하자.\n",
    "* 항상 UTC로 시간을 표현하고, 시간을 표시하기 전에 마지막 단계로 UTC 시간을 지역 시간으로 변환하자"
   ]
  }
 ],
 "metadata": {
  "colab": {
   "collapsed_sections": [],
   "name": "BetterWay_45_dwLeem.ipynb",
   "provenance": []
  },
  "kernelspec": {
   "display_name": "Python 3",
   "language": "python",
   "name": "python3"
  },
  "language_info": {
   "codemirror_mode": {
    "name": "ipython",
    "version": 3
   },
   "file_extension": ".py",
   "mimetype": "text/x-python",
   "name": "python",
   "nbconvert_exporter": "python",
   "pygments_lexer": "ipython3",
   "version": "3.6.8"
  }
 },
 "nbformat": 4,
 "nbformat_minor": 1
}
