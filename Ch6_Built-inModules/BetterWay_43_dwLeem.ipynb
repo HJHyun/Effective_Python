{
  "nbformat": 4,
  "nbformat_minor": 0,
  "metadata": {
    "colab": {
      "name": "BetterWay_43_dwLeem.ipynb",
      "provenance": [],
      "collapsed_sections": []
    },
    "kernelspec": {
      "name": "python3",
      "display_name": "Python 3"
    }
  },
  "cells": [
    {
      "cell_type": "markdown",
      "metadata": {
        "id": "yhXyZrM2fDm_",
        "colab_type": "text"
      },
      "source": [
        "# Better Way 43 재사용 가능한 try/finally 동작을 만들려면 contextlib와 with문을 고려하자\n",
        "\n",
        "* https://github.com/KangJungHwa/Effective-Python/blob/master/item_43.py\n",
        "* https://github.com/shoark7/Effective-Python/blob/master/files/BetterWay43_UseContextlib.md\n",
        "\n"
      ]
    },
    {
      "cell_type": "code",
      "metadata": {
        "id": "DTgm12PWer-a",
        "colab_type": "code",
        "colab": {}
      },
      "source": [
        "import logging\n",
        "from pprint import pprint\n",
        "from sys import stdout as STDOUT\n",
        "from threading import Lock"
      ],
      "execution_count": 0,
      "outputs": []
    },
    {
      "cell_type": "markdown",
      "metadata": {
        "id": "gHpIGlUFrP1l",
        "colab_type": "text"
      },
      "source": [
        "* 파이썬의 with 문은 코드를 특별한 컨텍스트에서 실행함을 나타내는데 사용한다.\n",
        "* 아래 두 개 코드는 동일한 역할을 한다."
      ]
    },
    {
      "cell_type": "code",
      "metadata": {
        "id": "DHg9eVPopzH4",
        "colab_type": "code",
        "colab": {
          "base_uri": "https://localhost:8080/",
          "height": 35
        },
        "outputId": "036f63fc-62c8-46bf-b416-b71daa61ad0e"
      },
      "source": [
        "# 잠금이 설정되어 있는 동안만 들여쓴 코드 실행 V1\n",
        "lock = Lock()\n",
        "with lock:\n",
        "    print('Lock is held')"
      ],
      "execution_count": 2,
      "outputs": [
        {
          "output_type": "stream",
          "text": [
            "Lock is held\n"
          ],
          "name": "stdout"
        }
      ]
    },
    {
      "cell_type": "code",
      "metadata": {
        "id": "qVziFHBCp8Rc",
        "colab_type": "code",
        "colab": {
          "base_uri": "https://localhost:8080/",
          "height": 35
        },
        "outputId": "4b6c50c6-3f05-4ef3-dfa2-5b09b066d0af"
      },
      "source": [
        "# 잠금이 설정되어 있는 동안만 들여쓴 코드 실행 V2\n",
        "lock.acquire()\n",
        "try:\n",
        "    print('Lock is held')\n",
        "finally:\n",
        "    lock.release()"
      ],
      "execution_count": 3,
      "outputs": [
        {
          "output_type": "stream",
          "text": [
            "Lock is held\n"
          ],
          "name": "stdout"
        }
      ]
    },
    {
      "cell_type": "markdown",
      "metadata": {
        "id": "JVhYA5Xpr9L_",
        "colab_type": "text"
      },
      "source": [
        "## contextmanager\n",
        "\n",
        "* 내장 모듈 contextlib를 사용하면, 객체와 함수를 with문에 사용할 수 있게 만들기 쉽다.\n",
        "* contextlib 모듈은 간단한 함수를 with 문에 사용할 수 있게 해주는 contextmanager 데코레이터를 포함한다. \n",
        "* contextmanager 데코레이터를 이용하는 방법이 `__enter__, __exit__`라는 특별한 메소드를 담은 새 클래스를 정의하는 표준 방법보다 훨씬 쉽다.\n",
        "<hr/>\n",
        "\n",
        "예제:\n",
        "*  로그는 상황에 따라 다양한 수준의 로그를 남기는데 가끔씩은 코드의 특정 영역에 더 많은 디버깅 로그를 넣고 싶다고 해보자. \n",
        "* 여기서는 로깅 심각성 수준(severity level) 두 개로 로그를 남기는 함수를 정의한다."
      ]
    },
    {
      "cell_type": "code",
      "metadata": {
        "id": "dvRU-TP9qBQy",
        "colab_type": "code",
        "colab": {
          "base_uri": "https://localhost:8080/",
          "height": 35
        },
        "outputId": "b5214220-6d56-44e1-b498-a6dced8db85b"
      },
      "source": [
        "def my_function():\n",
        "    logging.debug(\"Some bug happended\")\n",
        "    # logging.warning(\"w\")\n",
        "    logging.error(\"Something very bad;\")\n",
        "    logging.debug(\"Another small bug got caught!\")\n",
        "\n",
        "my_function()    "
      ],
      "execution_count": 22,
      "outputs": [
        {
          "output_type": "stream",
          "text": [
            "ERROR:root:Something very bad;\n"
          ],
          "name": "stderr"
        }
      ]
    },
    {
      "cell_type": "markdown",
      "metadata": {
        "id": "yiSx6damzmpG",
        "colab_type": "text"
      },
      "source": [
        "* 이 'contextmanager' 데코레이터에서는 yield 지점이 'with' 블록의 내용이 실행되는 지점이다.\n",
        "* with 블록에서 일어나는 모든 예외를 yield 표현식이 다시 일으키므로 헬퍼 함수로 처리할 수 있다(BW40 참조)."
      ]
    },
    {
      "cell_type": "code",
      "metadata": {
        "id": "x2gVT8NTwlWv",
        "colab_type": "code",
        "colab": {}
      },
      "source": [
        "from contextlib import contextmanager\n",
        "\n",
        "@contextmanager\n",
        "def debug_logging(level):\n",
        "    logger = logging.getLogger()\n",
        "    old_level = logger.getEffectiveLevel()\n",
        "    logger.setLevel(level)\n",
        "    try:\n",
        "        yield # with 블록이 실행되는 지점\n",
        "    finally:\n",
        "        logger.setLevel(old_level)\n"
      ],
      "execution_count": 0,
      "outputs": []
    },
    {
      "cell_type": "code",
      "metadata": {
        "id": "fZySTnT_wGqd",
        "colab_type": "code",
        "colab": {
          "base_uri": "https://localhost:8080/",
          "height": 124
        },
        "outputId": "ac660e63-4dcd-455e-956d-d6d59051ef3d"
      },
      "source": [
        "# with 문 안에서는 debug 로그까지 찍힘\n",
        "with debug_logging(logging.DEBUG):\n",
        "    print('Inside:')\n",
        "    my_function()\n",
        "\n",
        "print('After:')\n",
        "my_function()"
      ],
      "execution_count": 16,
      "outputs": [
        {
          "output_type": "stream",
          "text": [
            "DEBUG:root:Some bug happended\n",
            "ERROR:root:Something very bad;\n",
            "DEBUG:root:Another small bug got caught!\n",
            "ERROR:root:Something very bad;\n"
          ],
          "name": "stderr"
        },
        {
          "output_type": "stream",
          "text": [
            "Inside:\n",
            "After:\n"
          ],
          "name": "stdout"
        }
      ]
    },
    {
      "cell_type": "markdown",
      "metadata": {
        "id": "J5snTcbi3t0a",
        "colab_type": "text"
      },
      "source": [
        "## with 타깃 사용하기(as)\n",
        "* with 문에 전달되는 컨텍스트 매니저에서 객체를 반환할 수도 있다.\n",
        "* 이 객체는 복합문의 as 부분에 있는 지역 변수에 할당된다.\n",
        "* 이 기능을 이용하면, with 블록 안에 있는 코드에서 직접 컨텍스트와 상호작용이 가능하다.\n",
        "* 아래와 같은 파일 핸들링 할 때가 가장 자주 접하는 예시."
      ]
    },
    {
      "cell_type": "code",
      "metadata": {
        "id": "ynQXdjjy_0DW",
        "colab_type": "code",
        "colab": {}
      },
      "source": [
        "with open(\"somefile.txt\", 'w') as f:\n",
        "  # f.write('test')\n",
        "  pass"
      ],
      "execution_count": 0,
      "outputs": []
    },
    {
      "cell_type": "markdown",
      "metadata": {
        "id": "4NoYLF7NBnZr",
        "colab_type": "text"
      },
      "source": [
        "* 아까 로깅예시를 발전시켜 보면 아래처럼.\n",
        "* 함수에서 as 타겟에 값을 제공하려면, 컨텍스트 매니저에서 yield를 사용하여 값을 넘겨주면 된다."
      ]
    },
    {
      "cell_type": "code",
      "metadata": {
        "id": "zRYeK1LGxiKL",
        "colab_type": "code",
        "colab": {}
      },
      "source": [
        "@contextmanager\n",
        "def log_level(level, name):\n",
        "    logger = logging.getLogger(name)\n",
        "    old_level = logger.getEffectiveLevel()\n",
        "    logger.setLevel(level)\n",
        "    try:\n",
        "        yield logger\n",
        "    finally:\n",
        "        logger.setLevel(old_level)"
      ],
      "execution_count": 0,
      "outputs": []
    },
    {
      "cell_type": "code",
      "metadata": {
        "id": "gjKyyGw45jph",
        "colab_type": "code",
        "colab": {
          "base_uri": "https://localhost:8080/",
          "height": 35
        },
        "outputId": "6305791b-2b62-4c27-d530-bec12568c460"
      },
      "source": [
        "# 'my-log'라는 로거의 로깅 레벨을 디버그로 변경한 logger \n",
        "with log_level(logging.DEBUG, 'my-log') as logger:\n",
        "    logger.debug(\"This is my debug message!\")\n",
        "    logging.debug(\"This will not be printed\")"
      ],
      "execution_count": 18,
      "outputs": [
        {
          "output_type": "stream",
          "text": [
            "DEBUG:my-log:This is my debug message!\n"
          ],
          "name": "stderr"
        }
      ]
    },
    {
      "cell_type": "code",
      "metadata": {
        "id": "VSCI07y751ES",
        "colab_type": "code",
        "colab": {
          "base_uri": "https://localhost:8080/",
          "height": 35
        },
        "outputId": "21fde6fb-f964-480c-8d32-cf183bcf1886"
      },
      "source": [
        "logger = logging.getLogger('my-log')\n",
        "logger.debug('Debug will not print')\n",
        "logger.error('Error will print')"
      ],
      "execution_count": 19,
      "outputs": [
        {
          "output_type": "stream",
          "text": [
            "ERROR:my-log:Error will print\n"
          ],
          "name": "stderr"
        }
      ]
    },
    {
      "cell_type": "markdown",
      "metadata": {
        "id": "FD59y7AFDCg0",
        "colab_type": "text"
      },
      "source": [
        "# 핵심 정리\n",
        "* with 문을 이용하면 try / finally 블록의 로직을 재사용할 수 있고, 코드를 깔끔하게 만들 수 있다.\n",
        "* 내장 모듈 contextlib의 contextmanager 데코레이터를 이용하면 직접 작성한 함수를 with 문에서 쉽게 사용할 수 있다.\n",
        "* 컨텍스트 매니저에서 넘겨준 값은 with 문의 as 부분에 할당된다. 컨텍스트 매니저에서 값을 반환하는 방법은 코드에서 특별한 컨텍스트에 직접 접근하려는 경우에 유용하다."
      ]
    },
    {
      "cell_type": "code",
      "metadata": {
        "id": "UsJz6305DVNg",
        "colab_type": "code",
        "colab": {}
      },
      "source": [
        ""
      ],
      "execution_count": 0,
      "outputs": []
    }
  ]
}