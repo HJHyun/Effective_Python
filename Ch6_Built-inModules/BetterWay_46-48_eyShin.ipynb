{
 "cells": [
  {
   "cell_type": "markdown",
   "metadata": {},
   "source": [
    "# Better Way 46. 내장 알고리즘과 자료구조를 사용하자"
   ]
  },
  {
   "cell_type": "markdown",
   "metadata": {},
   "source": [
    "* 많은 데이터를 처리하는 파이썬 프로그램을 구현하다 보면 코드의 알고리즘 복잡도 때문에 속도가 떨어지는 현상을 보게 된다..\n",
    "  * 파이썬이 느리다기 보다는,\n",
    "  * 최적의 알고리즘과 자료구조를 사용하지 않아서 일어났을 가능성이 크다.\n",
    "\n",
    "* 파이썬 표준 라이브러리를 사용하자!"
   ]
  },
  {
   "cell_type": "markdown",
   "metadata": {},
   "source": [
    "### 더블 엔디드 큐\n",
    "* `collections` 모듈의 `deque` 클래스\n",
    "  * double-ended queue\n",
    "  * 큐의 처음과 끝에서 아이템을 삽입하거나 삭제할 때 항상 일정한 시칸이 걸리는 연산을 제공\n",
    "  * FIFO, First-In-First-Out 큐를 만들 때 이상적"
   ]
  },
  {
   "cell_type": "code",
   "execution_count": 1,
   "metadata": {},
   "outputs": [],
   "source": [
    "from collections import deque\n",
    "\n",
    "fifo = deque()\n",
    "fifo.append(1) # 생산자\n",
    "x = fifo.popleft() # 소비자"
   ]
  },
  {
   "cell_type": "markdown",
   "metadata": {},
   "source": [
    "* 내장 타입 `list` 도 큐와 마찬가지로 순서가 있는 아이템 시퀀스를 담는다.\n",
    "  * 일정한 시간 내에 리스트의 끝에서 아이템을 삽입하거나 삭제할 수 있다.\n",
    "  * 하지만 리스트의 시작 부분에서 삽입하거나 삭제하는 연산에는 선형적 시간 linear time 이 걸리므로 deque 의 일정한 시간보다 훨씬 느리다."
   ]
  },
  {
   "cell_type": "markdown",
   "metadata": {},
   "source": [
    "### 정렬된 딕셔너리\n",
    "* 표준 딕셔너리는 정렬되어 있지 않다\n",
    "  * 같은 키와 값을 담은 `dict` 를 순회 해도 다른 순서가 나올 수 있음\n",
    "  * 이는 딕셔너리의 빠른 해시 테이블을 구현하는 방식이 만들어 낸 뜻밖의 부작용"
   ]
  },
  {
   "cell_type": "code",
   "execution_count": 2,
   "metadata": {},
   "outputs": [],
   "source": [
    "a = {}\n",
    "a['foo'] = 1\n",
    "a['bar'] = 2"
   ]
  },
  {
   "cell_type": "code",
   "execution_count": 3,
   "metadata": {},
   "outputs": [
    {
     "name": "stdout",
     "output_type": "stream",
     "text": [
      "{'foo': 1, 'bar': 2}\n",
      "{'foo': 1, 'bar': 2}\n",
      "Equal? True\n"
     ]
    }
   ],
   "source": [
    "from random import randint\n",
    "\n",
    "# ? while True 로 했더니 무한루프에 빠짐.\n",
    "for _ in range(100000):\n",
    "    z = randint(99, 1013)\n",
    "    b = {}\n",
    "    \n",
    "    b['foo'] = 1\n",
    "    \n",
    "    for i in range(z):\n",
    "        b[i] = i\n",
    "    \n",
    "    b['bar'] = 2\n",
    "    \n",
    "    for i in range(z):\n",
    "        del b[i]\n",
    "        \n",
    "    if str(b) != str(a):\n",
    "        break\n",
    "        \n",
    "print(a)\n",
    "print(b)\n",
    "print('Equal?', a==b)"
   ]
  },
  {
   "cell_type": "markdown",
   "metadata": {},
   "source": [
    "* `collections` 모듈의 `OrderedDict` 클래스는 키가 삽입된 순서를 유지하는 특별한 딕셔너리"
   ]
  },
  {
   "cell_type": "code",
   "execution_count": 4,
   "metadata": {},
   "outputs": [
    {
     "name": "stdout",
     "output_type": "stream",
     "text": [
      "1 red\n",
      "2 blue\n"
     ]
    }
   ],
   "source": [
    "from collections import OrderedDict\n",
    "\n",
    "a = OrderedDict()\n",
    "a['foo'] = 1\n",
    "a['bar'] = 2\n",
    "\n",
    "b = OrderedDict()\n",
    "b['foo'] = 'red'\n",
    "b['bar'] = 'blue'\n",
    "\n",
    "for value1, value2 in zip(a.values(), b.values()):\n",
    "    print(value1, value2)"
   ]
  },
  {
   "cell_type": "markdown",
   "metadata": {},
   "source": [
    "### 기본 딕셔너리 (defaultdict)\n",
    "\n",
    "* 딕셔너리는 통계를 관리하고 추적하는 작업에 유용\n",
    "  * 하지만, 어떤 키가 이미 존재한다고 가정할 수 없음\n",
    "  * 간단한 작업도 까다로워지는 이유"
   ]
  },
  {
   "cell_type": "code",
   "execution_count": 5,
   "metadata": {},
   "outputs": [],
   "source": [
    "stats = {}\n",
    "key = 'my_counter'\n",
    "\n",
    "if key not in stats:\n",
    "    stats[key] = 0\n",
    "\n",
    "stats[key] += 1"
   ]
  },
  {
   "cell_type": "markdown",
   "metadata": {},
   "source": [
    "* `collections` 모듈의 `defaultdict` 클래스\n",
    "  * 키가 존재하지 않으면 자동으로 기본값을 저장도록 하여 작업을 간소화시킨다\n",
    "  * 키가 없을 때마다 기본값을 반환할 함수를 제공하기만 하면 됨"
   ]
  },
  {
   "cell_type": "code",
   "execution_count": 6,
   "metadata": {},
   "outputs": [],
   "source": [
    "from collections import defaultdict\n",
    "\n",
    "stats = defaultdict(int) # int = 0을 반환하는 내장함수 - BetterWay 23 참고\n",
    "stats['my_counter'] += 1"
   ]
  },
  {
   "cell_type": "markdown",
   "metadata": {},
   "source": [
    "### 힙큐\n",
    "* 힙 heap 은 우선순위 큐 priority queue 를 유지하는 유용한 자료구조\n",
    "  * `heapq` 모듈은 표준 `list` 타입으로 힙을 생성하는 `heappush`, `heappop`, `nsmallest` 같은 함수를 제공한다.\n",
    "  * 임의의 우선순위를 가지는 아이템은 어떤 순서로도 힙에 삽입할 수 있다"
   ]
  },
  {
   "cell_type": "code",
   "execution_count": 7,
   "metadata": {},
   "outputs": [
    {
     "name": "stdout",
     "output_type": "stream",
     "text": [
      "[3, 4, 7, 5]\n"
     ]
    }
   ],
   "source": [
    "from heapq import heappush, heappop, nsmallest\n",
    "\n",
    "a = []\n",
    "\n",
    "heappush(a, 5)\n",
    "heappush(a, 3)\n",
    "heappush(a, 7)\n",
    "heappush(a, 4)\n",
    "\n",
    "print(a)"
   ]
  },
  {
   "cell_type": "markdown",
   "metadata": {},
   "source": [
    "* 아이템은 가장 우선순위가 높은 것 (가장 낮은 수) 부터 제거된다"
   ]
  },
  {
   "cell_type": "code",
   "execution_count": 8,
   "metadata": {},
   "outputs": [
    {
     "name": "stdout",
     "output_type": "stream",
     "text": [
      "3 4 5 7\n"
     ]
    }
   ],
   "source": [
    "print(heappop(a), heappop(a), heappop(a), heappop(a))"
   ]
  },
  {
   "cell_type": "markdown",
   "metadata": {},
   "source": [
    "* 결과로 만들어지는 `list` (코드에서는 `a`) 를 `heapq` 외부에서도 쉽게 사용할 수 있다.\n",
    "  * 힙의 0 인덱스에 접근하면 항상 가장 작은 아이템이 반환된다."
   ]
  },
  {
   "cell_type": "code",
   "execution_count": 9,
   "metadata": {},
   "outputs": [],
   "source": [
    "a = []\n",
    "\n",
    "heappush(a, 5)\n",
    "heappush(a, 3)\n",
    "heappush(a, 7)\n",
    "heappush(a, 4)\n",
    "\n",
    "assert a[0] == nsmallest(1, a)[0] == 3"
   ]
  },
  {
   "cell_type": "markdown",
   "metadata": {},
   "source": [
    "* `list` 의 `sort` 메서드를 호출하더라도 힙의 불변성이 유지된다."
   ]
  },
  {
   "cell_type": "code",
   "execution_count": 10,
   "metadata": {},
   "outputs": [
    {
     "name": "stdout",
     "output_type": "stream",
     "text": [
      "Before:  [3, 4, 7, 5]\n",
      "After:   [3, 4, 5, 7]\n"
     ]
    }
   ],
   "source": [
    "print('Before: ', a)\n",
    "a.sort()\n",
    "print('After:  ', a)"
   ]
  },
  {
   "cell_type": "markdown",
   "metadata": {},
   "source": [
    "* 이러한 각 `heapq` 연산에 걸리는 시간은 리스트의 길이에 비례하여 로그 형태로 증가한다.\n",
    "  * `list` 로 같은 동작을 수행하면 선형적으로 증가한다."
   ]
  },
  {
   "cell_type": "markdown",
   "metadata": {},
   "source": [
    "### 바이섹션\n",
    "* `list` 에서 아이템을 검색하는 작업은 `index` 메서드를 호출할 때 리스트의 길이에 비례한 선형적 시간이 걸린다."
   ]
  },
  {
   "cell_type": "code",
   "execution_count": 11,
   "metadata": {},
   "outputs": [
    {
     "name": "stdout",
     "output_type": "stream",
     "text": [
      "991234\n"
     ]
    }
   ],
   "source": [
    "x = list(range(10**6))\n",
    "i = x.index(991234)\n",
    "print(i)"
   ]
  },
  {
   "cell_type": "code",
   "execution_count": 12,
   "metadata": {},
   "outputs": [
    {
     "name": "stdout",
     "output_type": "stream",
     "text": [
      "1.48 ms ± 76.2 µs per loop (mean ± std. dev. of 7 runs, 1000 loops each)\n"
     ]
    }
   ],
   "source": [
    "# test 1\n",
    "x = list(range(100000))\n",
    "\n",
    "%timeit i = x.index(91234)"
   ]
  },
  {
   "cell_type": "code",
   "execution_count": 13,
   "metadata": {},
   "outputs": [
    {
     "name": "stdout",
     "output_type": "stream",
     "text": [
      "3.19 ms ± 49.7 µs per loop (mean ± std. dev. of 7 runs, 100 loops each)\n"
     ]
    }
   ],
   "source": [
    "# test 2\n",
    "x = list(range(200000))\n",
    "\n",
    "%timeit i = x.index(191234)"
   ]
  },
  {
   "cell_type": "code",
   "execution_count": 14,
   "metadata": {},
   "outputs": [
    {
     "name": "stdout",
     "output_type": "stream",
     "text": [
      "4.89 ms ± 57.1 µs per loop (mean ± std. dev. of 7 runs, 100 loops each)\n"
     ]
    }
   ],
   "source": [
    "# test 3\n",
    "x = list(range(300000))\n",
    "\n",
    "%timeit i = x.index(291234)"
   ]
  },
  {
   "cell_type": "markdown",
   "metadata": {},
   "source": [
    "* `bisect_left` 같은 `bisect` 모듈의 함수는 **정렬된 아이템 시퀀스**를 대상으로 한 효율적인 바이너리 검색을 제공한다.\n",
    "  * `bisect_left` 가 반환하는 인덱스는 시퀀스에 들어간 값의 삽입 지점이다"
   ]
  },
  {
   "cell_type": "code",
   "execution_count": 15,
   "metadata": {},
   "outputs": [
    {
     "name": "stdout",
     "output_type": "stream",
     "text": [
      "300000\n"
     ]
    }
   ],
   "source": [
    "from bisect import bisect_left\n",
    "\n",
    "i = bisect_left(x, 991234)\n",
    "print(i)"
   ]
  },
  {
   "cell_type": "code",
   "execution_count": 16,
   "metadata": {},
   "outputs": [
    {
     "name": "stdout",
     "output_type": "stream",
     "text": [
      "579 ns ± 9.05 ns per loop (mean ± std. dev. of 7 runs, 1000000 loops each)\n"
     ]
    }
   ],
   "source": [
    "# test 1\n",
    "x = list(range(100000))\n",
    "\n",
    "%timeit i = bisect_left(x, 91234)"
   ]
  },
  {
   "cell_type": "code",
   "execution_count": 17,
   "metadata": {},
   "outputs": [
    {
     "name": "stdout",
     "output_type": "stream",
     "text": [
      "662 ns ± 37.9 ns per loop (mean ± std. dev. of 7 runs, 1000000 loops each)\n"
     ]
    }
   ],
   "source": [
    "# test 2\n",
    "x = list(range(200000))\n",
    "\n",
    "%timeit i = bisect_left(x, 191234)"
   ]
  },
  {
   "cell_type": "code",
   "execution_count": 18,
   "metadata": {},
   "outputs": [
    {
     "name": "stdout",
     "output_type": "stream",
     "text": [
      "621 ns ± 2.32 ns per loop (mean ± std. dev. of 7 runs, 1000000 loops each)\n"
     ]
    }
   ],
   "source": [
    "# test 3\n",
    "x = list(range(300000))\n",
    "\n",
    "%timeit i = bisect_left(x, 291234)"
   ]
  },
  {
   "cell_type": "markdown",
   "metadata": {},
   "source": [
    "* 바이너리 검색의 복잡도는 로그 형태로 증가\n",
    "  * 아이템 백만개를 담은 리스트를 `bisect` 로 검색할 때 걸리는 시간과 아이템 14개를 담은 리스트를 `index` 로 순차 검색할 때 걸리는 시간이 거의 같음"
   ]
  },
  {
   "cell_type": "markdown",
   "metadata": {},
   "source": [
    "### 이터레이터 도구\n",
    "* 내장 모듈 `itertools` 는 이터레이터를 구성하거나 이터레이터와 상호작용 하는데 유용한 함수를 다수 포함한다\n",
    "  * 이터레이터는 BetterWay 16, 17 참조\n",
    "* 파이썬 2에서는 이런 기능을 모두 이용하진 못하지만, 모듈 문서에 있는 예제를 참고하면 간단하게 만들 수 있다"
   ]
  },
  {
   "cell_type": "code",
   "execution_count": 19,
   "metadata": {},
   "outputs": [
    {
     "name": "stdout",
     "output_type": "stream",
     "text": [
      "Help on built-in module itertools:\n",
      "\n",
      "NAME\n",
      "    itertools - Functional tools for creating and using iterators.\n",
      "\n",
      "DESCRIPTION\n",
      "    Infinite iterators:\n",
      "    count(start=0, step=1) --> start, start+step, start+2*step, ...\n",
      "    cycle(p) --> p0, p1, ... plast, p0, p1, ...\n",
      "    repeat(elem [,n]) --> elem, elem, elem, ... endlessly or up to n times\n",
      "    \n",
      "    Iterators terminating on the shortest input sequence:\n",
      "    accumulate(p[, func]) --> p0, p0+p1, p0+p1+p2\n",
      "    chain(p, q, ...) --> p0, p1, ... plast, q0, q1, ... \n",
      "    chain.from_iterable([p, q, ...]) --> p0, p1, ... plast, q0, q1, ... \n",
      "    compress(data, selectors) --> (d[0] if s[0]), (d[1] if s[1]), ...\n",
      "    dropwhile(pred, seq) --> seq[n], seq[n+1], starting when pred fails\n",
      "    groupby(iterable[, keyfunc]) --> sub-iterators grouped by value of keyfunc(v)\n",
      "    filterfalse(pred, seq) --> elements of seq where pred(elem) is False\n",
      "    islice(seq, [start,] stop [, step]) --> elements from\n",
      "           seq[start:stop:step]\n",
      "    starmap(fun, seq) --> fun(*seq[0]), fun(*seq[1]), ...\n",
      "    tee(it, n=2) --> (it1, it2 , ... itn) splits one iterator into n\n",
      "    takewhile(pred, seq) --> seq[0], seq[1], until pred fails\n",
      "    zip_longest(p, q, ...) --> (p[0], q[0]), (p[1], q[1]), ... \n",
      "    \n",
      "    Combinatoric generators:\n",
      "    product(p, q, ... [repeat=1]) --> cartesian product\n",
      "    permutations(p[, r])\n",
      "    combinations(p, r)\n",
      "    combinations_with_replacement(p, r)\n",
      "\n",
      "CLASSES\n",
      "    builtins.object\n",
      "        accumulate\n",
      "        chain\n",
      "        combinations\n",
      "        combinations_with_replacement\n",
      "        compress\n",
      "        count\n",
      "        cycle\n",
      "        dropwhile\n",
      "        filterfalse\n",
      "        groupby\n",
      "        islice\n",
      "        permutations\n",
      "        product\n",
      "        repeat\n",
      "        starmap\n",
      "        takewhile\n",
      "        zip_longest\n",
      "    \n",
      "    class accumulate(builtins.object)\n",
      "     |  accumulate(iterable[, func]) --> accumulate object\n",
      "     |  \n",
      "     |  Return series of accumulated sums (or other binary function results).\n",
      "     |  \n",
      "     |  Methods defined here:\n",
      "     |  \n",
      "     |  __getattribute__(self, name, /)\n",
      "     |      Return getattr(self, name).\n",
      "     |  \n",
      "     |  __iter__(self, /)\n",
      "     |      Implement iter(self).\n",
      "     |  \n",
      "     |  __next__(self, /)\n",
      "     |      Implement next(self).\n",
      "     |  \n",
      "     |  __reduce__(...)\n",
      "     |      Return state information for pickling.\n",
      "     |  \n",
      "     |  __setstate__(...)\n",
      "     |      Set state information for unpickling.\n",
      "     |  \n",
      "     |  ----------------------------------------------------------------------\n",
      "     |  Static methods defined here:\n",
      "     |  \n",
      "     |  __new__(*args, **kwargs) from builtins.type\n",
      "     |      Create and return a new object.  See help(type) for accurate signature.\n",
      "    \n",
      "    class chain(builtins.object)\n",
      "     |  chain(*iterables) --> chain object\n",
      "     |  \n",
      "     |  Return a chain object whose .__next__() method returns elements from the\n",
      "     |  first iterable until it is exhausted, then elements from the next\n",
      "     |  iterable, until all of the iterables are exhausted.\n",
      "     |  \n",
      "     |  Methods defined here:\n",
      "     |  \n",
      "     |  __getattribute__(self, name, /)\n",
      "     |      Return getattr(self, name).\n",
      "     |  \n",
      "     |  __iter__(self, /)\n",
      "     |      Implement iter(self).\n",
      "     |  \n",
      "     |  __next__(self, /)\n",
      "     |      Implement next(self).\n",
      "     |  \n",
      "     |  __reduce__(...)\n",
      "     |      Return state information for pickling.\n",
      "     |  \n",
      "     |  __setstate__(...)\n",
      "     |      Set state information for unpickling.\n",
      "     |  \n",
      "     |  ----------------------------------------------------------------------\n",
      "     |  Class methods defined here:\n",
      "     |  \n",
      "     |  from_iterable(...) from builtins.type\n",
      "     |      chain.from_iterable(iterable) --> chain object\n",
      "     |      \n",
      "     |      Alternate chain() constructor taking a single iterable argument\n",
      "     |      that evaluates lazily.\n",
      "     |  \n",
      "     |  ----------------------------------------------------------------------\n",
      "     |  Static methods defined here:\n",
      "     |  \n",
      "     |  __new__(*args, **kwargs) from builtins.type\n",
      "     |      Create and return a new object.  See help(type) for accurate signature.\n",
      "    \n",
      "    class combinations(builtins.object)\n",
      "     |  combinations(iterable, r) --> combinations object\n",
      "     |  \n",
      "     |  Return successive r-length combinations of elements in the iterable.\n",
      "     |  \n",
      "     |  combinations(range(4), 3) --> (0,1,2), (0,1,3), (0,2,3), (1,2,3)\n",
      "     |  \n",
      "     |  Methods defined here:\n",
      "     |  \n",
      "     |  __getattribute__(self, name, /)\n",
      "     |      Return getattr(self, name).\n",
      "     |  \n",
      "     |  __iter__(self, /)\n",
      "     |      Implement iter(self).\n",
      "     |  \n",
      "     |  __next__(self, /)\n",
      "     |      Implement next(self).\n",
      "     |  \n",
      "     |  __reduce__(...)\n",
      "     |      Return state information for pickling.\n",
      "     |  \n",
      "     |  __setstate__(...)\n",
      "     |      Set state information for unpickling.\n",
      "     |  \n",
      "     |  __sizeof__(...)\n",
      "     |      Returns size in memory, in bytes.\n",
      "     |  \n",
      "     |  ----------------------------------------------------------------------\n",
      "     |  Static methods defined here:\n",
      "     |  \n",
      "     |  __new__(*args, **kwargs) from builtins.type\n",
      "     |      Create and return a new object.  See help(type) for accurate signature.\n",
      "    \n",
      "    class combinations_with_replacement(builtins.object)\n",
      "     |  combinations_with_replacement(iterable, r) --> combinations_with_replacement object\n",
      "     |  \n",
      "     |  Return successive r-length combinations of elements in the iterable\n",
      "     |  allowing individual elements to have successive repeats.\n",
      "     |  combinations_with_replacement('ABC', 2) --> AA AB AC BB BC CC\n",
      "     |  \n",
      "     |  Methods defined here:\n",
      "     |  \n",
      "     |  __getattribute__(self, name, /)\n",
      "     |      Return getattr(self, name).\n",
      "     |  \n",
      "     |  __iter__(self, /)\n",
      "     |      Implement iter(self).\n",
      "     |  \n",
      "     |  __next__(self, /)\n",
      "     |      Implement next(self).\n",
      "     |  \n",
      "     |  __reduce__(...)\n",
      "     |      Return state information for pickling.\n",
      "     |  \n",
      "     |  __setstate__(...)\n",
      "     |      Set state information for unpickling.\n",
      "     |  \n",
      "     |  __sizeof__(...)\n",
      "     |      Returns size in memory, in bytes.\n",
      "     |  \n",
      "     |  ----------------------------------------------------------------------\n",
      "     |  Static methods defined here:\n",
      "     |  \n",
      "     |  __new__(*args, **kwargs) from builtins.type\n",
      "     |      Create and return a new object.  See help(type) for accurate signature.\n",
      "    \n",
      "    class compress(builtins.object)\n",
      "     |  compress(data, selectors) --> iterator over selected data\n",
      "     |  \n",
      "     |  Return data elements corresponding to true selector elements.\n",
      "     |  Forms a shorter iterator from selected data elements using the\n",
      "     |  selectors to choose the data elements.\n",
      "     |  \n",
      "     |  Methods defined here:\n",
      "     |  \n",
      "     |  __getattribute__(self, name, /)\n",
      "     |      Return getattr(self, name).\n",
      "     |  \n",
      "     |  __iter__(self, /)\n",
      "     |      Implement iter(self).\n",
      "     |  \n",
      "     |  __next__(self, /)\n",
      "     |      Implement next(self).\n",
      "     |  \n",
      "     |  __reduce__(...)\n",
      "     |      Return state information for pickling.\n",
      "     |  \n",
      "     |  ----------------------------------------------------------------------\n",
      "     |  Static methods defined here:\n",
      "     |  \n",
      "     |  __new__(*args, **kwargs) from builtins.type\n",
      "     |      Create and return a new object.  See help(type) for accurate signature.\n",
      "    \n",
      "    class count(builtins.object)\n",
      "     |  count(start=0, step=1) --> count object\n",
      "     |  \n",
      "     |  Return a count object whose .__next__() method returns consecutive values.\n",
      "     |  Equivalent to:\n",
      "     |  \n",
      "     |      def count(firstval=0, step=1):\n",
      "     |          x = firstval\n",
      "     |          while 1:\n",
      "     |              yield x\n",
      "     |              x += step\n",
      "     |  \n",
      "     |  Methods defined here:\n",
      "     |  \n",
      "     |  __getattribute__(self, name, /)\n",
      "     |      Return getattr(self, name).\n",
      "     |  \n",
      "     |  __iter__(self, /)\n",
      "     |      Implement iter(self).\n",
      "     |  \n",
      "     |  __next__(self, /)\n",
      "     |      Implement next(self).\n",
      "     |  \n",
      "     |  __reduce__(...)\n",
      "     |      Return state information for pickling.\n",
      "     |  \n",
      "     |  __repr__(self, /)\n",
      "     |      Return repr(self).\n",
      "     |  \n",
      "     |  ----------------------------------------------------------------------\n",
      "     |  Static methods defined here:\n",
      "     |  \n",
      "     |  __new__(*args, **kwargs) from builtins.type\n",
      "     |      Create and return a new object.  See help(type) for accurate signature.\n",
      "    \n",
      "    class cycle(builtins.object)\n",
      "     |  cycle(iterable) --> cycle object\n",
      "     |  \n",
      "     |  Return elements from the iterable until it is exhausted.\n",
      "     |  Then repeat the sequence indefinitely.\n",
      "     |  \n",
      "     |  Methods defined here:\n",
      "     |  \n",
      "     |  __getattribute__(self, name, /)\n",
      "     |      Return getattr(self, name).\n",
      "     |  \n",
      "     |  __iter__(self, /)\n",
      "     |      Implement iter(self).\n",
      "     |  \n",
      "     |  __next__(self, /)\n",
      "     |      Implement next(self).\n",
      "     |  \n",
      "     |  __reduce__(...)\n",
      "     |      Return state information for pickling.\n",
      "     |  \n",
      "     |  __setstate__(...)\n",
      "     |      Set state information for unpickling.\n",
      "     |  \n",
      "     |  ----------------------------------------------------------------------\n",
      "     |  Static methods defined here:\n",
      "     |  \n",
      "     |  __new__(*args, **kwargs) from builtins.type\n",
      "     |      Create and return a new object.  See help(type) for accurate signature.\n",
      "    \n",
      "    class dropwhile(builtins.object)\n",
      "     |  dropwhile(predicate, iterable) --> dropwhile object\n",
      "     |  \n",
      "     |  Drop items from the iterable while predicate(item) is true.\n",
      "     |  Afterwards, return every element until the iterable is exhausted.\n",
      "     |  \n",
      "     |  Methods defined here:\n",
      "     |  \n",
      "     |  __getattribute__(self, name, /)\n",
      "     |      Return getattr(self, name).\n",
      "     |  \n",
      "     |  __iter__(self, /)\n",
      "     |      Implement iter(self).\n",
      "     |  \n",
      "     |  __next__(self, /)\n",
      "     |      Implement next(self).\n",
      "     |  \n",
      "     |  __reduce__(...)\n",
      "     |      Return state information for pickling.\n",
      "     |  \n",
      "     |  __setstate__(...)\n",
      "     |      Set state information for unpickling.\n",
      "     |  \n",
      "     |  ----------------------------------------------------------------------\n",
      "     |  Static methods defined here:\n",
      "     |  \n",
      "     |  __new__(*args, **kwargs) from builtins.type\n",
      "     |      Create and return a new object.  See help(type) for accurate signature.\n",
      "    \n",
      "    class filterfalse(builtins.object)\n",
      "     |  filterfalse(function or None, sequence) --> filterfalse object\n",
      "     |  \n",
      "     |  Return those items of sequence for which function(item) is false.\n",
      "     |  If function is None, return the items that are false.\n",
      "     |  \n",
      "     |  Methods defined here:\n",
      "     |  \n",
      "     |  __getattribute__(self, name, /)\n",
      "     |      Return getattr(self, name).\n",
      "     |  \n",
      "     |  __iter__(self, /)\n",
      "     |      Implement iter(self).\n",
      "     |  \n",
      "     |  __next__(self, /)\n",
      "     |      Implement next(self).\n",
      "     |  \n",
      "     |  __reduce__(...)\n",
      "     |      Return state information for pickling.\n",
      "     |  \n",
      "     |  ----------------------------------------------------------------------\n",
      "     |  Static methods defined here:\n",
      "     |  \n",
      "     |  __new__(*args, **kwargs) from builtins.type\n",
      "     |      Create and return a new object.  See help(type) for accurate signature.\n",
      "    \n",
      "    class groupby(builtins.object)\n",
      "     |  groupby(iterable, key=None) -> make an iterator that returns consecutive\n",
      "     |  keys and groups from the iterable.  If the key function is not specified or\n",
      "     |  is None, the element itself is used for grouping.\n",
      "     |  \n",
      "     |  Methods defined here:\n",
      "     |  \n",
      "     |  __getattribute__(self, name, /)\n",
      "     |      Return getattr(self, name).\n",
      "     |  \n",
      "     |  __iter__(self, /)\n",
      "     |      Implement iter(self).\n",
      "     |  \n",
      "     |  __next__(self, /)\n",
      "     |      Implement next(self).\n",
      "     |  \n",
      "     |  __reduce__(...)\n",
      "     |      Return state information for pickling.\n",
      "     |  \n",
      "     |  __setstate__(...)\n",
      "     |      Set state information for unpickling.\n",
      "     |  \n",
      "     |  ----------------------------------------------------------------------\n",
      "     |  Static methods defined here:\n",
      "     |  \n",
      "     |  __new__(*args, **kwargs) from builtins.type\n",
      "     |      Create and return a new object.  See help(type) for accurate signature.\n",
      "    \n",
      "    class islice(builtins.object)\n",
      "     |  islice(iterable, stop) --> islice object\n",
      "     |  islice(iterable, start, stop[, step]) --> islice object\n",
      "     |  \n",
      "     |  Return an iterator whose next() method returns selected values from an\n",
      "     |  iterable.  If start is specified, will skip all preceding elements;\n",
      "     |  otherwise, start defaults to zero.  Step defaults to one.  If\n",
      "     |  specified as another value, step determines how many values are \n",
      "     |  skipped between successive calls.  Works like a slice() on a list\n",
      "     |  but returns an iterator.\n",
      "     |  \n",
      "     |  Methods defined here:\n",
      "     |  \n",
      "     |  __getattribute__(self, name, /)\n",
      "     |      Return getattr(self, name).\n",
      "     |  \n",
      "     |  __iter__(self, /)\n",
      "     |      Implement iter(self).\n",
      "     |  \n",
      "     |  __next__(self, /)\n",
      "     |      Implement next(self).\n",
      "     |  \n",
      "     |  __reduce__(...)\n",
      "     |      Return state information for pickling.\n",
      "     |  \n",
      "     |  __setstate__(...)\n",
      "     |      Set state information for unpickling.\n",
      "     |  \n",
      "     |  ----------------------------------------------------------------------\n",
      "     |  Static methods defined here:\n",
      "     |  \n",
      "     |  __new__(*args, **kwargs) from builtins.type\n",
      "     |      Create and return a new object.  See help(type) for accurate signature.\n",
      "    \n",
      "    class permutations(builtins.object)\n",
      "     |  permutations(iterable[, r]) --> permutations object\n",
      "     |  \n",
      "     |  Return successive r-length permutations of elements in the iterable.\n",
      "     |  \n",
      "     |  permutations(range(3), 2) --> (0,1), (0,2), (1,0), (1,2), (2,0), (2,1)\n",
      "     |  \n",
      "     |  Methods defined here:\n",
      "     |  \n",
      "     |  __getattribute__(self, name, /)\n",
      "     |      Return getattr(self, name).\n",
      "     |  \n",
      "     |  __iter__(self, /)\n",
      "     |      Implement iter(self).\n",
      "     |  \n",
      "     |  __next__(self, /)\n",
      "     |      Implement next(self).\n",
      "     |  \n",
      "     |  __reduce__(...)\n",
      "     |      Return state information for pickling.\n",
      "     |  \n",
      "     |  __setstate__(...)\n",
      "     |      Set state information for unpickling.\n",
      "     |  \n",
      "     |  __sizeof__(...)\n",
      "     |      Returns size in memory, in bytes.\n",
      "     |  \n",
      "     |  ----------------------------------------------------------------------\n",
      "     |  Static methods defined here:\n",
      "     |  \n",
      "     |  __new__(*args, **kwargs) from builtins.type\n",
      "     |      Create and return a new object.  See help(type) for accurate signature.\n",
      "    \n",
      "    class product(builtins.object)\n",
      "     |  product(*iterables, repeat=1) --> product object\n",
      "     |  \n",
      "     |  Cartesian product of input iterables.  Equivalent to nested for-loops.\n",
      "     |  \n",
      "     |  For example, product(A, B) returns the same as:  ((x,y) for x in A for y in B).\n",
      "     |  The leftmost iterators are in the outermost for-loop, so the output tuples\n",
      "     |  cycle in a manner similar to an odometer (with the rightmost element changing\n",
      "     |  on every iteration).\n",
      "     |  \n",
      "     |  To compute the product of an iterable with itself, specify the number\n",
      "     |  of repetitions with the optional repeat keyword argument. For example,\n",
      "     |  product(A, repeat=4) means the same as product(A, A, A, A).\n",
      "     |  \n",
      "     |  product('ab', range(3)) --> ('a',0) ('a',1) ('a',2) ('b',0) ('b',1) ('b',2)\n",
      "     |  product((0,1), (0,1), (0,1)) --> (0,0,0) (0,0,1) (0,1,0) (0,1,1) (1,0,0) ...\n",
      "     |  \n",
      "     |  Methods defined here:\n",
      "     |  \n",
      "     |  __getattribute__(self, name, /)\n",
      "     |      Return getattr(self, name).\n",
      "     |  \n",
      "     |  __iter__(self, /)\n",
      "     |      Implement iter(self).\n",
      "     |  \n",
      "     |  __next__(self, /)\n",
      "     |      Implement next(self).\n",
      "     |  \n",
      "     |  __reduce__(...)\n",
      "     |      Return state information for pickling.\n",
      "     |  \n",
      "     |  __setstate__(...)\n",
      "     |      Set state information for unpickling.\n",
      "     |  \n",
      "     |  __sizeof__(...)\n",
      "     |      Returns size in memory, in bytes.\n",
      "     |  \n",
      "     |  ----------------------------------------------------------------------\n",
      "     |  Static methods defined here:\n",
      "     |  \n",
      "     |  __new__(*args, **kwargs) from builtins.type\n",
      "     |      Create and return a new object.  See help(type) for accurate signature.\n",
      "    \n",
      "    class repeat(builtins.object)\n",
      "     |  repeat(object [,times]) -> create an iterator which returns the object\n",
      "     |  for the specified number of times.  If not specified, returns the object\n",
      "     |  endlessly.\n",
      "     |  \n",
      "     |  Methods defined here:\n",
      "     |  \n",
      "     |  __getattribute__(self, name, /)\n",
      "     |      Return getattr(self, name).\n",
      "     |  \n",
      "     |  __iter__(self, /)\n",
      "     |      Implement iter(self).\n",
      "     |  \n",
      "     |  __length_hint__(...)\n",
      "     |      Private method returning an estimate of len(list(it)).\n",
      "     |  \n",
      "     |  __next__(self, /)\n",
      "     |      Implement next(self).\n",
      "     |  \n",
      "     |  __reduce__(...)\n",
      "     |      Return state information for pickling.\n",
      "     |  \n",
      "     |  __repr__(self, /)\n",
      "     |      Return repr(self).\n",
      "     |  \n",
      "     |  ----------------------------------------------------------------------\n",
      "     |  Static methods defined here:\n",
      "     |  \n",
      "     |  __new__(*args, **kwargs) from builtins.type\n",
      "     |      Create and return a new object.  See help(type) for accurate signature.\n",
      "    \n",
      "    class starmap(builtins.object)\n",
      "     |  starmap(function, sequence) --> starmap object\n",
      "     |  \n",
      "     |  Return an iterator whose values are returned from the function evaluated\n",
      "     |  with an argument tuple taken from the given sequence.\n",
      "     |  \n",
      "     |  Methods defined here:\n",
      "     |  \n",
      "     |  __getattribute__(self, name, /)\n",
      "     |      Return getattr(self, name).\n",
      "     |  \n",
      "     |  __iter__(self, /)\n",
      "     |      Implement iter(self).\n",
      "     |  \n",
      "     |  __next__(self, /)\n",
      "     |      Implement next(self).\n",
      "     |  \n",
      "     |  __reduce__(...)\n",
      "     |      Return state information for pickling.\n",
      "     |  \n",
      "     |  ----------------------------------------------------------------------\n",
      "     |  Static methods defined here:\n",
      "     |  \n",
      "     |  __new__(*args, **kwargs) from builtins.type\n",
      "     |      Create and return a new object.  See help(type) for accurate signature.\n",
      "    \n",
      "    class takewhile(builtins.object)\n",
      "     |  takewhile(predicate, iterable) --> takewhile object\n",
      "     |  \n",
      "     |  Return successive entries from an iterable as long as the \n",
      "     |  predicate evaluates to true for each entry.\n",
      "     |  \n",
      "     |  Methods defined here:\n",
      "     |  \n",
      "     |  __getattribute__(self, name, /)\n",
      "     |      Return getattr(self, name).\n",
      "     |  \n",
      "     |  __iter__(self, /)\n",
      "     |      Implement iter(self).\n",
      "     |  \n",
      "     |  __next__(self, /)\n",
      "     |      Implement next(self).\n",
      "     |  \n",
      "     |  __reduce__(...)\n",
      "     |      Return state information for pickling.\n",
      "     |  \n",
      "     |  __setstate__(...)\n",
      "     |      Set state information for unpickling.\n",
      "     |  \n",
      "     |  ----------------------------------------------------------------------\n",
      "     |  Static methods defined here:\n",
      "     |  \n",
      "     |  __new__(*args, **kwargs) from builtins.type\n",
      "     |      Create and return a new object.  See help(type) for accurate signature.\n",
      "    \n",
      "    class zip_longest(builtins.object)\n",
      "     |  zip_longest(iter1 [,iter2 [...]], [fillvalue=None]) --> zip_longest object\n",
      "     |  \n",
      "     |  Return a zip_longest object whose .__next__() method returns a tuple where\n",
      "     |  the i-th element comes from the i-th iterable argument.  The .__next__()\n",
      "     |  method continues until the longest iterable in the argument sequence\n",
      "     |  is exhausted and then it raises StopIteration.  When the shorter iterables\n",
      "     |  are exhausted, the fillvalue is substituted in their place.  The fillvalue\n",
      "     |  defaults to None or can be specified by a keyword argument.\n",
      "     |  \n",
      "     |  Methods defined here:\n",
      "     |  \n",
      "     |  __getattribute__(self, name, /)\n",
      "     |      Return getattr(self, name).\n",
      "     |  \n",
      "     |  __iter__(self, /)\n",
      "     |      Implement iter(self).\n",
      "     |  \n",
      "     |  __next__(self, /)\n",
      "     |      Implement next(self).\n",
      "     |  \n",
      "     |  __reduce__(...)\n",
      "     |      Return state information for pickling.\n",
      "     |  \n",
      "     |  __setstate__(...)\n",
      "     |      Set state information for unpickling.\n",
      "     |  \n",
      "     |  ----------------------------------------------------------------------\n",
      "     |  Static methods defined here:\n",
      "     |  \n",
      "     |  __new__(*args, **kwargs) from builtins.type\n",
      "     |      Create and return a new object.  See help(type) for accurate signature.\n",
      "\n",
      "FUNCTIONS\n",
      "    tee(...)\n",
      "        tee(iterable, n=2) --> tuple of n independent iterators.\n",
      "\n",
      "FILE\n",
      "    (built-in)\n",
      "\n",
      "\n"
     ]
    }
   ],
   "source": [
    "import itertools\n",
    "\n",
    "help(itertools)"
   ]
  },
  {
   "cell_type": "markdown",
   "metadata": {},
   "source": [
    "* `itertools` 에 있는 함수는 크게 세 가지 카테고리\n",
    "  * 이터레이터 연결\n",
    "    * `chain`: 여러 이터레이터를 순차적인 이터레이터 하나로 결합한다.\n",
    "    * `cycle`: 이터레이터의 아이템을 영원히 반복한다.\n",
    "    * `tee`: 이터레이터 하나를 병렬 이터레이터 여러 개로 나눈다.\n",
    "    * `zip_longest`: 길이가 서로 다른 이터레이터들에도 잘 동작하는 내장 함수 `zip` 의 변형\n",
    "  * 이터레이터에서 아이템 필터링\n",
    "    * `isslice`: 복사 없이 이터레이터를 숫자로 된 인덱스로 슬라이스한다.\n",
    "    * `takewhile`: predicate function 이 `True`를 반환하는 동안 이터레이터의 아이템을 반환한다.\n",
    "    * `dropwhile`: predicate function 이 처음으로 `False` 를 반환하고 나면 이터레이터의 아이템을 반환한다.\n",
    "    * `filterfalse`: predicate function 이 `False` 를 반환하는 이터레이터의 모든 아이템을 반환한다. 내장함수 `filter` 의 반대 기능을 한다.\n",
    "  * 이터레이터에 있는 아이템들의 조합\n",
    "    * `product`: 이터레이터에 있는 아이템들의 카테시안 곱을 반환한다. 깊게 중첩된 list comprehension 에 대한 훌륭한 대안.\n",
    "    * `permutations`:  이터레이터에 있는 아이템을 담은 길이 N 의 순서 있는 순열을 반환한다.\n",
    "    * `combinations`: 이터레이터에 있는 아이템을 중복되지 않게 담은 길이 N 의 순서 없는 조합을 반환한다."
   ]
  },
  {
   "cell_type": "markdown",
   "metadata": {},
   "source": [
    "* 설명하지 않은 `itertools` 모듈의 기능과 사용방법도 많음\n",
    "  * 까다로운 이터레이션 코드를 다루는 상황이라면 `itertools` 문서를 다시 살펴보고 쓸만한 기능이 있는지 찾아볼 가치가 있다."
   ]
  },
  {
   "cell_type": "markdown",
   "metadata": {},
   "source": [
    "### 핵심 정리\n",
    "* 알고리즘과 자료 구조를 표현하는 파이썬의 내장 모듈을 사용하자\n",
    "* 이 기능들을 직접 재구현하지는 말자. 올바르게 만들기가 어렵기 때문이다"
   ]
  },
  {
   "cell_type": "markdown",
   "metadata": {},
   "source": [
    "# Better Way 47. 정밀도가 중요할 때는 decimal 을 사용하자"
   ]
  },
  {
   "cell_type": "markdown",
   "metadata": {},
   "source": [
    "* 파이썬은 숫자 데이터를 다루는 코드를 작성하기에 아주 뛰어난 ^^ 언어\n",
    "  * 정수 타입: 현실적인 크기의 값을 모두 표현할 수 있다\n",
    "  * 배정밀도 부동 소수점: IEEE 754 표준을 따른다\n",
    "  * 허수 값을 표현하는 표준 복소수 타입도 제공한다\n",
    "* 그러나 이것만으로는 모든 상황을 충족하지는 못한다!"
   ]
  },
  {
   "cell_type": "markdown",
   "metadata": {},
   "source": [
    "* 예시) 고객에게 부과할 국제 전화 요금을 계산\n",
    "  * 고객이 몇 분간, 몇 초간 통화했는지 알고 있음 (3분 42초)\n",
    "  * 미국에서 남극 대륙을 건너 통화했을 때의 요금도 정해져있음 (분당 1.45 달러)"
   ]
  },
  {
   "cell_type": "code",
   "execution_count": 20,
   "metadata": {},
   "outputs": [
    {
     "name": "stdout",
     "output_type": "stream",
     "text": [
      "5.364999999999999\n"
     ]
    }
   ],
   "source": [
    "rate = 1.45\n",
    "seconds = 3 * 60 + 42\n",
    "cost = rate * seconds / 60\n",
    "print(cost)"
   ]
  },
  {
   "cell_type": "markdown",
   "metadata": {},
   "source": [
    "* 센트 단위에 맞춰 반올림한다고 하자.\n",
    "  * 근데 이 경우, 값을 버림!"
   ]
  },
  {
   "cell_type": "code",
   "execution_count": 21,
   "metadata": {},
   "outputs": [
    {
     "name": "stdout",
     "output_type": "stream",
     "text": [
      "5.36\n"
     ]
    }
   ],
   "source": [
    "print(round(cost, 2))"
   ]
  },
  {
   "cell_type": "markdown",
   "metadata": {},
   "source": [
    "* 연결 비용이 훨씬 저렴한 곳에서 일어나는 아주 짧은 통화도 지원해야 한다고 해보자.\n",
    "  * 분당 0.05달러, 5초 동안 일어난 통화"
   ]
  },
  {
   "cell_type": "code",
   "execution_count": 22,
   "metadata": {},
   "outputs": [
    {
     "name": "stdout",
     "output_type": "stream",
     "text": [
      "0.004166666666666667\n"
     ]
    }
   ],
   "source": [
    "rate = 0.05\n",
    "seconds = 5\n",
    "cost = rate * seconds / 60\n",
    "print(cost)"
   ]
  },
  {
   "cell_type": "markdown",
   "metadata": {},
   "source": [
    "* 결과가 너무 작아서 반올림하면 0이 된다."
   ]
  },
  {
   "cell_type": "code",
   "execution_count": 23,
   "metadata": {},
   "outputs": [
    {
     "name": "stdout",
     "output_type": "stream",
     "text": [
      "0.0\n"
     ]
    }
   ],
   "source": [
    "print(round(cost, 2))"
   ]
  },
  {
   "cell_type": "markdown",
   "metadata": {},
   "source": [
    "* 내장 모듈 `decimal` 의 `Decimal` 클래스를 사용하자\n",
    "  * 기본적으로 소수점이 28자리인 고정 소수점 연산을 제공한다\n",
    "  * 필요하면 자릿수를 더 늘릴 수 있다\n",
    "  * IEEE 754 부동 소수점 수의 정확도 문제도 피해갈 수 있다\n",
    "  * 반올림 연산을 더 세밀하게 제어할 수 있다"
   ]
  },
  {
   "cell_type": "code",
   "execution_count": 24,
   "metadata": {},
   "outputs": [
    {
     "name": "stdout",
     "output_type": "stream",
     "text": [
      "5.365\n"
     ]
    }
   ],
   "source": [
    "from decimal import Decimal, ROUND_UP\n",
    "\n",
    "rate = Decimal('1.45')\n",
    "seconds = Decimal('222') # 3 * 60 + 42\n",
    "cost = rate * seconds / Decimal('60')\n",
    "print(cost)"
   ]
  },
  {
   "cell_type": "markdown",
   "metadata": {},
   "source": [
    "* `Decimal` 클래스에는 원하는 반올림 동작에 따라 필요한 소수점 위치로 정확하게 반올림하는 내장 함수가 있다\n",
    "  * 참고: 코드에서는 올림하고 있음. 반올림을 사용하려면 `ROUND_HALF_UP` 사용."
   ]
  },
  {
   "cell_type": "code",
   "execution_count": 25,
   "metadata": {},
   "outputs": [
    {
     "name": "stdout",
     "output_type": "stream",
     "text": [
      "5.37\n"
     ]
    }
   ],
   "source": [
    "rounded = cost.quantize(Decimal('0.01'), rounding=ROUND_UP)\n",
    "print(rounded)"
   ]
  },
  {
   "cell_type": "markdown",
   "metadata": {},
   "source": [
    "* 이 방식으로 `quantize` 메서드를 사용하면 짧고 저렴한 통화에 해당하는 적은 통화료도 적절하게 처리할 수 있다"
   ]
  },
  {
   "cell_type": "code",
   "execution_count": 26,
   "metadata": {},
   "outputs": [
    {
     "name": "stdout",
     "output_type": "stream",
     "text": [
      "0.004166666666666666666666666667\n"
     ]
    }
   ],
   "source": [
    "rate = Decimal('0.05')\n",
    "seconds = Decimal('5')\n",
    "cost = rate * seconds / Decimal('60')\n",
    "print(cost)"
   ]
  },
  {
   "cell_type": "code",
   "execution_count": 27,
   "metadata": {},
   "outputs": [
    {
     "name": "stdout",
     "output_type": "stream",
     "text": [
      "0.01\n"
     ]
    }
   ],
   "source": [
    "rounded = cost.quantize(Decimal('0.01'), rounding=ROUND_UP)\n",
    "print(rounded)"
   ]
  },
  {
   "cell_type": "markdown",
   "metadata": {},
   "source": [
    "* `Decimal` 이 고정 소수점 수에도 잘 동작하지만 아직도 정확도 면에서는 제약이 있다.\n",
    "  * 1 / 3 은 근삿값으로 계산됨 = `Decimal('0.3333333333333333333333333333')`\n",
    "  * 정확도에 제한이 없는 유리수를 표현하려면 `fractions` 의 `Fraction` 클래스를 사용해야 한다."
   ]
  },
  {
   "cell_type": "markdown",
   "metadata": {},
   "source": [
    "### 핵심 정리\n",
    "* 파이썬은 현실적으로 모든 유형의 숫자 값을 표현할 수 있는 내장 타입과 클래스를 모듈로 제공한다.\n",
    "* `Decimal` 클래스는 화폐 연산처럼 정밀도가 높고 정확한 반올림이 필요한 상황에 안성 맞춤이다."
   ]
  },
  {
   "cell_type": "markdown",
   "metadata": {},
   "source": [
    "# Better Way 48. 커뮤니티에서 만든 모듈을 어디서 찾아야 하는지 알아두자"
   ]
  },
  {
   "cell_type": "markdown",
   "metadata": {},
   "source": [
    "* 파이썬 모듈들의 중앙 저장소 https://pypi.python.org\n",
    "  * 여러 파이썬 커뮤니티 (혹은 개인?) 에서 모듈을 만들고 관리한다\n",
    "  * 이러한 커뮤니티에 익숙하지 않다면 파이썬 패키지 인덱스 PyPI 가 원하는 목적에 맞는 코드를 찾을 수 있는 좋은 방법"
   ]
  },
  {
   "cell_type": "markdown",
   "metadata": {},
   "source": [
    "* 패키지 인덱스를 사용하려면 `pip` 을 사용\n",
    "  * 파이썬 3.4 와 이후 버전에는 기본으로 설치되어 있음\n",
    "  * 이전 버전은 https://packaging.python.org 에서 `pip` 설치 명령서를 찾아보면 된다\n",
    "* 예시) `pip` 로 새 모듈 설치하기"
   ]
  },
  {
   "cell_type": "code",
   "execution_count": 28,
   "metadata": {},
   "outputs": [
    {
     "name": "stdout",
     "output_type": "stream",
     "text": [
      "Collecting pytz\n",
      "  Using cached https://files.pythonhosted.org/packages/e7/f9/f0b53f88060247251bf481fa6ea62cd0d25bf1b11a87888e53ce5b7c8ad2/pytz-2019.3-py2.py3-none-any.whl\n",
      "Installing collected packages: pytz\n",
      "Successfully installed pytz-2019.3\n"
     ]
    }
   ],
   "source": [
    "! pip3 install pytz"
   ]
  },
  {
   "cell_type": "markdown",
   "metadata": {},
   "source": [
    "* 파이썬 3 패키지 설치할 땐 `pip3`, 파이썬 2 패키지 설치할 땐 `pip`\n",
    "* `pip` 를 `pyenv` 와 함께 사용하면 프로젝트에 설치할  패키지 집합을 추적할 수 있다\n",
    "  * Better Way 53. 의존성을 분리하고 재현하려면 가상환경을 사용하자"
   ]
  },
  {
   "cell_type": "markdown",
   "metadata": {},
   "source": [
    "* PyPI 의 각 모듈에는 자체의 소프트웨어 라이선스가 있다.\n",
    "  * 대부분의 패키지는 무료 또는 오픈소스\n",
    "  * 대부분의 경우 이런 라이선스는 프로그램에 모듈의 복사본을 포함하는 것을 허용한다\n",
    "    * 의심이 들면 변호사와 상의하자"
   ]
  },
  {
   "cell_type": "markdown",
   "metadata": {},
   "source": [
    "### 핵심 정리\n",
    "* 파이썬 패키지 인덱스 PyPI 는 파이썬 커뮤니티에서 만들고 유지하는 풍부한 공통 패키지를 포함하고 있다\n",
    "* `pip` 는 PyPI 에서 패키지를 설치하는 데 사용하는 명령줄 도구이다\n",
    "* `pip` 는 파이썬 3.4 와 그 이후 버전에는 기본으로 설치되어 있다. 이전 버전에서는 직접 설치해야 한다.\n",
    "* PyPI 모듈의 대부분은 무료이자 오픈 소스 소프트웨어이다."
   ]
  }
 ],
 "metadata": {
  "kernelspec": {
   "display_name": "Python 3",
   "language": "python",
   "name": "python3"
  },
  "language_info": {
   "codemirror_mode": {
    "name": "ipython",
    "version": 3
   },
   "file_extension": ".py",
   "mimetype": "text/x-python",
   "name": "python",
   "nbconvert_exporter": "python",
   "pygments_lexer": "ipython3",
   "version": "3.7.0"
  }
 },
 "nbformat": 4,
 "nbformat_minor": 2
}
