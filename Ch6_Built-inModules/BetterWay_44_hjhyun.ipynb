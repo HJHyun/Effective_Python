{
 "cells": [
  {
   "cell_type": "markdown",
   "metadata": {},
   "source": [
    "# Better Way 44. copyreg로 pickle을 신뢰할 수 있게 만들자"
   ]
  },
  {
   "cell_type": "markdown",
   "metadata": {},
   "source": [
    "**pickle: 파이썬 객체를 바이트 스트림으로 직렬화/바이트 스트림에서 역직렬화하는 데 사용**\n",
    "- 그러나 신뢰할 수 없는 부분과 통신하는 데 사용하면 안되며,\n",
    "- pickle의 목적은 바이너리 채널을 통해 **프로그램 간에 파이썬 객체를 넘겨주는** 데 있음."
   ]
  },
  {
   "cell_type": "markdown",
   "metadata": {},
   "source": [
    "**Note: pickle 모듈과 json 모듈의 차이점과 사용**\n",
    "- pickle 모듈로 직렬화한 데이터는 원래의 파이썬 객체를 재구성하는 데 필요한 프로그램을 담으므로, 설계 관점에서 안전하지 않음.\n",
    "- 한편 json 모듈은 객체 계층에 대한 간단한 설명을 포함하므로, 역직렬화한다고 해서 파이썬 프로그램이 추가적인 위협에 노출되지는 않음."
   ]
  },
  {
   "cell_type": "code",
   "execution_count": 1,
   "metadata": {},
   "outputs": [],
   "source": [
    "class GameState(object):\n",
    "    def __init__(self):\n",
    "        self.level = 0\n",
    "        self.lives = 4"
   ]
  },
  {
   "cell_type": "code",
   "execution_count": 2,
   "metadata": {},
   "outputs": [],
   "source": [
    "# 프로그램은 게임이 실행 중일 때, 다음과 같이 레벨/생명 수 등 변화에 따라 객체를 수정함.\n",
    "state = GameState()\n",
    "state.level += 1\n",
    "state.lives -= 1"
   ]
  },
  {
   "cell_type": "code",
   "execution_count": 3,
   "metadata": {},
   "outputs": [],
   "source": [
    "# 게임이 끝나면 상태 객체를 pickle 모듈 사용하여 파일에 덤프 뜨는 게 가능함.\n",
    "import pickle\n",
    "\n",
    "state_path = '/tmp/game_state.bin'\n",
    "with open(state_path, 'wb') as fp:\n",
    "    pickle.dump(state, fp)"
   ]
  },
  {
   "cell_type": "code",
   "execution_count": 4,
   "metadata": {},
   "outputs": [
    {
     "name": "stdout",
     "output_type": "stream",
     "text": [
      "{'level': 1, 'lives': 3}\n"
     ]
    }
   ],
   "source": [
    "# 게임 다시 시작하면 파일을 로드하여 GameState 객체를 복원하는 것이 가능함.\n",
    "with open(state_path, 'rb') as fp:\n",
    "    state_after = pickle.load(fp)\n",
    "print(state_after.__dict__)"
   ]
  },
  {
   "cell_type": "code",
   "execution_count": 5,
   "metadata": {},
   "outputs": [],
   "source": [
    "class GameState(object):\n",
    "    def __init__(self):\n",
    "        self.level = 0\n",
    "        self.lives = 4\n",
    "        self.points = 0 # 새로운 필드 추가: 플레이어의 포인트 "
   ]
  },
  {
   "cell_type": "code",
   "execution_count": 6,
   "metadata": {},
   "outputs": [
    {
     "name": "stdout",
     "output_type": "stream",
     "text": [
      "{'level': 0, 'lives': 4, 'points': 0}\n"
     ]
    }
   ],
   "source": [
    "state = GameState()\n",
    "serialized = pickle.dumps(state) # 문자열로 직렬화\n",
    "state_after = pickle.loads(serialized)\n",
    "print(state_after.__dict__)"
   ]
  },
  {
   "cell_type": "code",
   "execution_count": 7,
   "metadata": {},
   "outputs": [
    {
     "name": "stdout",
     "output_type": "stream",
     "text": [
      "{'level': 1, 'lives': 3}\n"
     ]
    }
   ],
   "source": [
    "with open(state_path, 'rb') as fp:\n",
    "    state_after = pickle.load(fp)\n",
    "print(state_after.__dict__)"
   ]
  },
  {
   "cell_type": "code",
   "execution_count": 8,
   "metadata": {},
   "outputs": [],
   "source": [
    "assert isinstance(state_after, GameState) # old GameState 객체의 데이터임에도 불구하고, new GameState 객체라고 통과함!"
   ]
  },
  {
   "cell_type": "markdown",
   "metadata": {},
   "source": [
    "위와 같은 pickle 문제는 **내장 모듈 copyreg**을 사용하면 간단하게 해결 가능함.\n",
    "- copyreg 모듈로 파이썬 객체를 직렬화할 함수를 등록하여 pickle의 동작을 제어할 수 있음.\n",
    "- 이에 따라 pickle을 더 신뢰할 수 있게 함."
   ]
  },
  {
   "cell_type": "markdown",
   "metadata": {},
   "source": [
    "## 기본 속성 값\n",
    "\n",
    "GameState 객체가 언피클링 후에 항상 모든 속성을 담음을 보장하는 가장 간단한 방법은 기본 생성자를 사용하는 것이다."
   ]
  },
  {
   "cell_type": "code",
   "execution_count": 9,
   "metadata": {},
   "outputs": [],
   "source": [
    "class GameState(object):\n",
    "    def __init__(self, level=0, lives=4, points=0):\n",
    "        self.level = level\n",
    "        self.lives = lives\n",
    "        self.points = points"
   ]
  },
  {
   "cell_type": "code",
   "execution_count": 10,
   "metadata": {},
   "outputs": [],
   "source": [
    "def pickle_game_state(game_state):\n",
    "    kwargs = game_state.__dict__\n",
    "    return unpickle_game_state, (kwargs,)\n",
    "\n",
    "def unpickle_game_state(kwargs):\n",
    "    return GameState(**kwargs)"
   ]
  },
  {
   "cell_type": "code",
   "execution_count": 11,
   "metadata": {},
   "outputs": [],
   "source": [
    "import copyreg\n",
    "\n",
    "copyreg.pickle(GameState, pickle_game_state)"
   ]
  },
  {
   "cell_type": "code",
   "execution_count": 12,
   "metadata": {},
   "outputs": [
    {
     "name": "stdout",
     "output_type": "stream",
     "text": [
      "{'level': 0, 'lives': 4, 'points': 1000}\n"
     ]
    }
   ],
   "source": [
    "state = GameState()\n",
    "state.points += 1000\n",
    "serialized = pickle.dumps(state)\n",
    "state_after = pickle.loads(serialized)\n",
    "print(state_after.__dict__)"
   ]
  },
  {
   "cell_type": "code",
   "execution_count": 13,
   "metadata": {},
   "outputs": [],
   "source": [
    "class GameState(object):\n",
    "    def __init__(self, level=0, lives=4, points=0, magic=5):\n",
    "        self.level = level\n",
    "        self.lives = lives\n",
    "        self.points = points\n",
    "        self.magic = magic # 새로운 필드 추가"
   ]
  },
  {
   "cell_type": "code",
   "execution_count": 14,
   "metadata": {},
   "outputs": [
    {
     "name": "stdout",
     "output_type": "stream",
     "text": [
      "{'level': 0, 'lives': 4, 'points': 1000, 'magic': 5}\n"
     ]
    }
   ],
   "source": [
    "state_after = pickle.loads(serialized)\n",
    "print(state_after.__dict__) # unpickle 함수가 GameState 생성자를 직접 호출하므로 새로운 필드도 기본값으로 추가됨"
   ]
  },
  {
   "cell_type": "markdown",
   "metadata": {},
   "source": [
    "## 클래스 버전 관리\n",
    "\n",
    "필드를 제거하여 파이썬 객체가 하위 호환성을 유지하지 않게 해야 할 때도 있다. 이 경우 기본 인수를 사용한 직렬화가 동작하지 않는다."
   ]
  },
  {
   "cell_type": "code",
   "execution_count": 15,
   "metadata": {},
   "outputs": [],
   "source": [
    "class GameState(object):\n",
    "    def __init__(self, level=0, points=0, magic=5):\n",
    "        self.level = level\n",
    "#        self.lives = lives\n",
    "        self.points = points\n",
    "        self.magic = magic"
   ]
  },
  {
   "cell_type": "code",
   "execution_count": 16,
   "metadata": {},
   "outputs": [
    {
     "ename": "TypeError",
     "evalue": "__init__() got an unexpected keyword argument 'lives'",
     "output_type": "error",
     "traceback": [
      "\u001b[0;31m---------------------------------------------------------------------------\u001b[0m",
      "\u001b[0;31mTypeError\u001b[0m                                 Traceback (most recent call last)",
      "\u001b[0;32m<ipython-input-16-26365b518a04>\u001b[0m in \u001b[0;36m<module>\u001b[0;34m\u001b[0m\n\u001b[0;32m----> 1\u001b[0;31m \u001b[0mpickle\u001b[0m\u001b[0;34m.\u001b[0m\u001b[0mloads\u001b[0m\u001b[0;34m(\u001b[0m\u001b[0mserialized\u001b[0m\u001b[0;34m)\u001b[0m\u001b[0;34m\u001b[0m\u001b[0;34m\u001b[0m\u001b[0m\n\u001b[0m",
      "\u001b[0;32m<ipython-input-10-c860be62fb7a>\u001b[0m in \u001b[0;36munpickle_game_state\u001b[0;34m(kwargs)\u001b[0m\n\u001b[1;32m      4\u001b[0m \u001b[0;34m\u001b[0m\u001b[0m\n\u001b[1;32m      5\u001b[0m \u001b[0;32mdef\u001b[0m \u001b[0munpickle_game_state\u001b[0m\u001b[0;34m(\u001b[0m\u001b[0mkwargs\u001b[0m\u001b[0;34m)\u001b[0m\u001b[0;34m:\u001b[0m\u001b[0;34m\u001b[0m\u001b[0;34m\u001b[0m\u001b[0m\n\u001b[0;32m----> 6\u001b[0;31m     \u001b[0;32mreturn\u001b[0m \u001b[0mGameState\u001b[0m\u001b[0;34m(\u001b[0m\u001b[0;34m**\u001b[0m\u001b[0mkwargs\u001b[0m\u001b[0;34m)\u001b[0m\u001b[0;34m\u001b[0m\u001b[0;34m\u001b[0m\u001b[0m\n\u001b[0m",
      "\u001b[0;31mTypeError\u001b[0m: __init__() got an unexpected keyword argument 'lives'"
     ]
    }
   ],
   "source": [
    "pickle.loads(serialized)"
   ]
  },
  {
   "cell_type": "code",
   "execution_count": 17,
   "metadata": {},
   "outputs": [],
   "source": [
    "def pickle_game_state(game_state):\n",
    "    kwargs = game_state.__dict__\n",
    "    kwargs['version'] = 2 # 버전 파라미터를 추가\n",
    "    return unpickle_game_state, (kwargs,)\n",
    "\n",
    "def unpickle_game_state(kwargs):\n",
    "    version = kwargs.pop('version', 1)\n",
    "    if version == 1: # 이전 버전에는 인수가 없으므로 이에 맞춰서 GameState 생성자에 넘길 인수를 조작\n",
    "        kwargs.pop('lives')\n",
    "    return GameState(**kwargs)"
   ]
  },
  {
   "cell_type": "code",
   "execution_count": 18,
   "metadata": {},
   "outputs": [
    {
     "name": "stdout",
     "output_type": "stream",
     "text": [
      "{'level': 0, 'points': 1000, 'magic': 5}\n"
     ]
    }
   ],
   "source": [
    "copyreg.pickle(GameState, pickle_game_state)\n",
    "state_after = pickle.loads(serialized)\n",
    "print(state_after.__dict__)"
   ]
  },
  {
   "cell_type": "markdown",
   "metadata": {},
   "source": [
    "## 안정적인 임포트 경로\n",
    "\n",
    "클래스의 이름을 변경하면 pickle 모듈이 제대로 동작하지 않을 수 있다."
   ]
  },
  {
   "cell_type": "code",
   "execution_count": 21,
   "metadata": {},
   "outputs": [],
   "source": [
    "copyreg.dispatch_table.clear() \n",
    "state = GameState()\n",
    "serialized = pickle.dumps(state)\n",
    "del GameState\n",
    "\n",
    "class BetterGameState(object):\n",
    "    def __init__(self, level=0, points=0, magic=5):\n",
    "        self.level = level\n",
    "        self.points = points\n",
    "        self.magic = magic"
   ]
  },
  {
   "cell_type": "code",
   "execution_count": 23,
   "metadata": {},
   "outputs": [
    {
     "ename": "AttributeError",
     "evalue": "Can't get attribute 'GameState' on <module '__main__'>",
     "output_type": "error",
     "traceback": [
      "\u001b[0;31m---------------------------------------------------------------------------\u001b[0m",
      "\u001b[0;31mAttributeError\u001b[0m                            Traceback (most recent call last)",
      "\u001b[0;32m<ipython-input-23-26365b518a04>\u001b[0m in \u001b[0;36m<module>\u001b[0;34m\u001b[0m\n\u001b[0;32m----> 1\u001b[0;31m \u001b[0mpickle\u001b[0m\u001b[0;34m.\u001b[0m\u001b[0mloads\u001b[0m\u001b[0;34m(\u001b[0m\u001b[0mserialized\u001b[0m\u001b[0;34m)\u001b[0m\u001b[0;34m\u001b[0m\u001b[0;34m\u001b[0m\u001b[0m\n\u001b[0m",
      "\u001b[0;31mAttributeError\u001b[0m: Can't get attribute 'GameState' on <module '__main__'>"
     ]
    }
   ],
   "source": [
    "pickle.loads(serialized)"
   ]
  },
  {
   "cell_type": "code",
   "execution_count": 24,
   "metadata": {},
   "outputs": [
    {
     "name": "stdout",
     "output_type": "stream",
     "text": [
      "b'\\x80\\x03c__main__\\nGameState\\nq\\x00)'\n"
     ]
    }
   ],
   "source": [
    "print(serialized[:25]) # 직렬화한 객체의 클래스를 임포트할 경로가 피클 데이터에 인코드되어 있음."
   ]
  },
  {
   "cell_type": "code",
   "execution_count": 26,
   "metadata": {},
   "outputs": [],
   "source": [
    "copyreg.pickle(BetterGameState, pickle_game_state) # 다시 copyreg 사용, 언피클하는 데 사용할 함수의 안정적인 식별자를 설정\n",
    "state = BetterGameState()\n",
    "serialized = pickle.dumps(state)"
   ]
  },
  {
   "cell_type": "code",
   "execution_count": 28,
   "metadata": {},
   "outputs": [
    {
     "name": "stdout",
     "output_type": "stream",
     "text": [
      "b'\\x80\\x03c__main__\\nunpickle_game_state\\nq\\x00}'\n"
     ]
    }
   ],
   "source": [
    "print(serialized[:35]) # pickle_game_state의 임포트 경로가 인코드되어 있음."
   ]
  },
  {
   "cell_type": "markdown",
   "metadata": {},
   "source": [
    "문제점: unpickle_game_state 함수가 존재하는 모듈의 경로를 변경할 수 없음. \n",
    "- 어떤 함수로 데이터를 직렬화한 후에는 나중에 역직렬화 할 때 사용할 수 있도록 해당 임포트 경로에 함수를 남겨둬야 함."
   ]
  },
  {
   "cell_type": "markdown",
   "metadata": {},
   "source": [
    "**핵심 정리**\n",
    "- 내장 모듈 pickle은 신뢰할 수 있는 프로그램 간에 객체를 직렬화/역직렬화하는 용도로만 사용할 수 있다.\n",
    "- pickle 모듈은 간단한 사용 사례를 벗어나는 용도로 사용하면 제대로 동작하지 않을 수도 있다.\n",
    "- 빠뜨린 속성 값을 추가하거나 클래스에 버전 관리 기능을 제공하거나 안정적인 임포트 경로를 제공하려면 pickel과 함께 내장 모듈 copyreg을 사용해야 한다."
   ]
  },
  {
   "cell_type": "code",
   "execution_count": null,
   "metadata": {},
   "outputs": [],
   "source": []
  }
 ],
 "metadata": {
  "kernelspec": {
   "display_name": "Python 3",
   "language": "python",
   "name": "python3"
  },
  "language_info": {
   "codemirror_mode": {
    "name": "ipython",
    "version": 3
   },
   "file_extension": ".py",
   "mimetype": "text/x-python",
   "name": "python",
   "nbconvert_exporter": "python",
   "pygments_lexer": "ipython3",
   "version": "3.7.4"
  }
 },
 "nbformat": 4,
 "nbformat_minor": 2
}
