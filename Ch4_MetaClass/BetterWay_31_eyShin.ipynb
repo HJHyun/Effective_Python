{
 "cells": [
  {
   "cell_type": "markdown",
   "metadata": {},
   "source": [
    "# Better Way 31. 재사용 가능한 @property 메서드에는 Descriptor를 사용하자"
   ]
  },
  {
   "cell_type": "markdown",
   "metadata": {},
   "source": [
    "* `@property`의 문제점: 재사용성\n",
    "  * Better Way 29.\n",
    "  * `@property`로 데코레이트 하는 메서드를 같은 클래스에 속한 여러 속성에 사용하지 못하고,\n",
    "  * 관련 없는 클래스에서도 재사용 할 수 없다."
   ]
  },
  {
   "cell_type": "code",
   "execution_count": 1,
   "metadata": {},
   "outputs": [],
   "source": [
    "class Homework(object):\n",
    "    def __init__(self):\n",
    "        self._grade = 0\n",
    "        \n",
    "    @property\n",
    "    def grade(self):\n",
    "        return self._grade\n",
    "    \n",
    "    @grade.setter\n",
    "    def grade(self, value):\n",
    "        if not (0 <= value <= 100):\n",
    "            raise ValueError('Grade must be between 0 and 100')\n",
    "        self._grade = value"
   ]
  },
  {
   "cell_type": "code",
   "execution_count": 2,
   "metadata": {},
   "outputs": [],
   "source": [
    "galileo = Homework()\n",
    "galileo.grade = 95"
   ]
  },
  {
   "cell_type": "markdown",
   "metadata": {},
   "source": [
    "* 학생들의 시험 성적을 매기는 예제\n",
    "  * 시험은 여러 과목으로 구성되어 있음\n",
    "  * 과목 별로 점수가 있음"
   ]
  },
  {
   "cell_type": "code",
   "execution_count": 3,
   "metadata": {},
   "outputs": [],
   "source": [
    "class Exam(object):\n",
    "    def __init__(self):\n",
    "        self._writing_grade = 0\n",
    "        self._math_grade = 0\n",
    "        \n",
    "    @staticmethod\n",
    "    def _check_grade(value):\n",
    "        if not (0 <= value <= 100):\n",
    "            raise ValueError('Grade must be between 0 and 100')\n",
    "            \n",
    "    @property\n",
    "    def writing_grade(self):\n",
    "        return self._writing_grade\n",
    "    \n",
    "    @writing_grade.setter\n",
    "    def writing_grade(self, value):\n",
    "        self._check_grade(value)\n",
    "        self._writing_value = value\n",
    "        \n",
    "    @property\n",
    "    def math_grade(self):\n",
    "        return self._math_grade\n",
    "    \n",
    "    @math_grade.setter\n",
    "    def math_grade(self, value):\n",
    "        self._check_grade(value)\n",
    "        self._math_value = value"
   ]
  },
  {
   "cell_type": "markdown",
   "metadata": {},
   "source": [
    "* 코드가 장황해진다\n",
    "  * 시험 영역마다 `@property`와 `_check_grade` 검증이 필요\n",
    "  * 과제와 시험 이외의 항복에도 재사용하고 싶을때에도 마찬가지"
   ]
  },
  {
   "cell_type": "markdown",
   "metadata": {},
   "source": [
    "### Descriptor\n",
    "* Descriptor protocol: 속성에 대한 접근을 언어에서 해석할 방법을 정의한다.\n",
    "* Descriptor class: 반복 코드 없이도 성적 검증 동작을 재사용할 수 있게 해주는 `__get__` `__set__` 메서드를 제공해준다\n",
    "* 이런 목적으로는 Mixin 보다 좋은 방법\n",
    "  * 한 클래스의 서로 다른 많은 속성에 같은 로직을 재사용할 수 있음"
   ]
  },
  {
   "cell_type": "code",
   "execution_count": 4,
   "metadata": {},
   "outputs": [],
   "source": [
    "class Grade(object):\n",
    "    def __get__(*args, **kwargs):\n",
    "        # ...\n",
    "        return 'spam'\n",
    "    \n",
    "    def __set__(*args, **kwargs):\n",
    "        # ...\n",
    "        pass\n",
    "    \n",
    "class Exam(object):\n",
    "    # 클래스 속성\n",
    "    math_grade = Grade()\n",
    "    writing_grade = Grade()\n",
    "    science_grade = Grade()"
   ]
  },
  {
   "cell_type": "markdown",
   "metadata": {},
   "source": [
    "* 아직 제대로 구현되지 않은 코드\n",
    "* 다음과 같이 프로퍼티를 할당한다고 하자."
   ]
  },
  {
   "cell_type": "code",
   "execution_count": 5,
   "metadata": {},
   "outputs": [],
   "source": [
    "exam = Exam()\n",
    "exam.writing_grade = 40"
   ]
  },
  {
   "cell_type": "markdown",
   "metadata": {},
   "source": [
    "* 위 코드는 다음과 같이 해석된다."
   ]
  },
  {
   "cell_type": "code",
   "execution_count": 6,
   "metadata": {},
   "outputs": [],
   "source": [
    "Exam.__dict__['writing_grade'].__set__(exam, 40)"
   ]
  },
  {
   "cell_type": "markdown",
   "metadata": {},
   "source": [
    "* 프로퍼티를 얻어온다고 하자."
   ]
  },
  {
   "cell_type": "code",
   "execution_count": 7,
   "metadata": {},
   "outputs": [
    {
     "name": "stdout",
     "output_type": "stream",
     "text": [
      "spam\n"
     ]
    }
   ],
   "source": [
    "print(exam.writing_grade)"
   ]
  },
  {
   "cell_type": "markdown",
   "metadata": {},
   "source": [
    "* 위 코드는 다음과 같이 해석된다."
   ]
  },
  {
   "cell_type": "code",
   "execution_count": 8,
   "metadata": {},
   "outputs": [
    {
     "name": "stdout",
     "output_type": "stream",
     "text": [
      "spam\n"
     ]
    }
   ],
   "source": [
    "print(Exam.__dict__['writing_grade'].__get__(exam, Exam))"
   ]
  },
  {
   "cell_type": "code",
   "execution_count": 9,
   "metadata": {},
   "outputs": [
    {
     "data": {
      "text/plain": [
       "dict_keys(['__module__', 'spam', '__init__', '__dict__', '__weakref__', '__doc__'])"
      ]
     },
     "execution_count": 9,
     "metadata": {},
     "output_type": "execute_result"
    }
   ],
   "source": [
    "# 추가 설명: Exam.__dict__ 안에는 클래스 속성이 포함된다.\n",
    "\n",
    "class Test:\n",
    "    spam = 10\n",
    "    \n",
    "    def __init__(self):\n",
    "        egg = 15\n",
    "        \n",
    "Test.__dict__.keys()"
   ]
  },
  {
   "cell_type": "markdown",
   "metadata": {},
   "source": [
    "* 동작 메커니즘\n",
    "  * object 의 `__getattribute__` 메서드\n",
    "    * Better Way 32\n",
    "  * Exam 인스턴스에 writing_grade 속성이 없으면 대신 Exam 클래스의 속성을 따른다. \n",
    "    * '`__get__`, `__set__` 메서드를 갖추고 있는가? 그렇다면 디스크립터 프로토콜을 따르고 있군.'"
   ]
  },
  {
   "cell_type": "markdown",
   "metadata": {},
   "source": [
    "* 다시한번 그럴듯하게 구현해보자."
   ]
  },
  {
   "cell_type": "code",
   "execution_count": 10,
   "metadata": {},
   "outputs": [],
   "source": [
    "class Grade(object):\n",
    "    def __init__(self):\n",
    "        self._value = 0\n",
    "    \n",
    "    def __get__(self, instance, instance_type):\n",
    "        return self._value\n",
    "    \n",
    "    def __set__(self, instance, value):\n",
    "        if not (0 <= value <= 100):\n",
    "            raise ValueError('Grade must be between 0 and 100')\n",
    "        self._value = value\n",
    "        \n",
    "class Exam(object):\n",
    "    math_grade = Grade()\n",
    "    writing_grade = Grade()\n",
    "    science_grade = Grade()"
   ]
  },
  {
   "cell_type": "markdown",
   "metadata": {},
   "source": [
    "* **불행히도**, 위의 코드는 잘못 구현되어 있어서 제대로 동작하지 않음\n",
    "  * 한 Exam 인스턴스에 있는 여러 속성에 접근하는 것은 잘 동작하지만\n",
    "  * 여러 Exam 인스턴스의 경우 기대하지 않은 동작을 한다."
   ]
  },
  {
   "cell_type": "code",
   "execution_count": 11,
   "metadata": {},
   "outputs": [
    {
     "name": "stdout",
     "output_type": "stream",
     "text": [
      "Writing 82\n",
      "Science 99\n"
     ]
    }
   ],
   "source": [
    "# 하나의 Exam 인스턴스는 OK\n",
    "first_exam = Exam()\n",
    "first_exam.writing_grade = 82\n",
    "first_exam.science_grade= 99\n",
    "\n",
    "print('Writing', first_exam.writing_grade)\n",
    "print('Science', first_exam.science_grade)"
   ]
  },
  {
   "cell_type": "code",
   "execution_count": 12,
   "metadata": {},
   "outputs": [
    {
     "ename": "ValueError",
     "evalue": "Grade must be between 0 and 100",
     "output_type": "error",
     "traceback": [
      "\u001b[0;31m---------------------------------------------------------------------------\u001b[0m",
      "\u001b[0;31mValueError\u001b[0m                                Traceback (most recent call last)",
      "\u001b[0;32m<ipython-input-12-354fc2a883f3>\u001b[0m in \u001b[0;36m<module>\u001b[0;34m\u001b[0m\n\u001b[1;32m      1\u001b[0m \u001b[0;31m# 테스트: 검증도 원하는대로 동작함\u001b[0m\u001b[0;34m\u001b[0m\u001b[0;34m\u001b[0m\u001b[0m\n\u001b[0;32m----> 2\u001b[0;31m \u001b[0mfirst_exam\u001b[0m\u001b[0;34m.\u001b[0m\u001b[0mmath_grade\u001b[0m \u001b[0;34m=\u001b[0m \u001b[0;36m101\u001b[0m\u001b[0;34m\u001b[0m\u001b[0m\n\u001b[0m",
      "\u001b[0;32m<ipython-input-10-3cecbaa19531>\u001b[0m in \u001b[0;36m__set__\u001b[0;34m(self, instance, value)\u001b[0m\n\u001b[1;32m      8\u001b[0m     \u001b[0;32mdef\u001b[0m \u001b[0m__set__\u001b[0m\u001b[0;34m(\u001b[0m\u001b[0mself\u001b[0m\u001b[0;34m,\u001b[0m \u001b[0minstance\u001b[0m\u001b[0;34m,\u001b[0m \u001b[0mvalue\u001b[0m\u001b[0;34m)\u001b[0m\u001b[0;34m:\u001b[0m\u001b[0;34m\u001b[0m\u001b[0m\n\u001b[1;32m      9\u001b[0m         \u001b[0;32mif\u001b[0m \u001b[0;32mnot\u001b[0m \u001b[0;34m(\u001b[0m\u001b[0;36m0\u001b[0m \u001b[0;34m<=\u001b[0m \u001b[0mvalue\u001b[0m \u001b[0;34m<=\u001b[0m \u001b[0;36m100\u001b[0m\u001b[0;34m)\u001b[0m\u001b[0;34m:\u001b[0m\u001b[0;34m\u001b[0m\u001b[0m\n\u001b[0;32m---> 10\u001b[0;31m             \u001b[0;32mraise\u001b[0m \u001b[0mValueError\u001b[0m\u001b[0;34m(\u001b[0m\u001b[0;34m'Grade must be between 0 and 100'\u001b[0m\u001b[0;34m)\u001b[0m\u001b[0;34m\u001b[0m\u001b[0m\n\u001b[0m\u001b[1;32m     11\u001b[0m         \u001b[0mself\u001b[0m\u001b[0;34m.\u001b[0m\u001b[0m_value\u001b[0m \u001b[0;34m=\u001b[0m \u001b[0mvalue\u001b[0m\u001b[0;34m\u001b[0m\u001b[0m\n\u001b[1;32m     12\u001b[0m \u001b[0;34m\u001b[0m\u001b[0m\n",
      "\u001b[0;31mValueError\u001b[0m: Grade must be between 0 and 100"
     ]
    }
   ],
   "source": [
    "# 테스트: 검증도 원하는대로 동작함\n",
    "first_exam.math_grade = 101"
   ]
  },
  {
   "cell_type": "code",
   "execution_count": 13,
   "metadata": {},
   "outputs": [
    {
     "name": "stdout",
     "output_type": "stream",
     "text": [
      "Second 75 is right\n",
      "First  75 is wrong\n"
     ]
    }
   ],
   "source": [
    "# 두번째 Exam 인스턴스를 만들었더니 아니 글쎄!\n",
    "second_exam = Exam()\n",
    "second_exam.writing_grade = 75\n",
    "\n",
    "print('Second', second_exam.writing_grade, 'is right')\n",
    "print('First ', first_exam.writing_grade, 'is wrong')"
   ]
  },
  {
   "cell_type": "markdown",
   "metadata": {},
   "source": [
    "* 한 Grade 인스턴스가 모든 Exam 인스턴스의 writing_grade 클래스 속성으로 공유되어 버린다.\n",
    "  * `    writing_grade = Grade()` 이 부분\n",
    "  * Exam 인스턴스를 생성할때마다 생성되는 게 아니라 Exam 클래스를 처음 정의할 때 한 번만 생성된다.\n",
    "  * 이 문제를 해결하려면 각 Exam 인스턴스 별로 값을 추적하는 Grade 클래스가 필요하다."
   ]
  },
  {
   "cell_type": "code",
   "execution_count": 14,
   "metadata": {},
   "outputs": [],
   "source": [
    "class Grade(object):\n",
    "    def __init__(self):\n",
    "        self._values = {}\n",
    "        \n",
    "    def __get__(self, instance, instance_type):\n",
    "        if instance is None:\n",
    "            return self\n",
    "        \n",
    "        return self._value.get(instance, 0)\n",
    "    \n",
    "    def __set(self, instance, value):\n",
    "        if not (0 <= value <= 100):\n",
    "            raise ValueError('Grade must be between 0 and 100')\n",
    "        \n",
    "        self._values[instance] = value"
   ]
  },
  {
   "cell_type": "markdown",
   "metadata": {},
   "source": [
    "* 하지만 이 코드는 **메모리 누수**가 발생할 수 있음\n",
    "  * 프로그램 수명 동안 `__set__`에 전달된 모든 Exam 인스턴스의 참조를 저장함\n",
    "  * 가비지 컬렉터가 정리하지 못하게 됨"
   ]
  },
  {
   "cell_type": "markdown",
   "metadata": {},
   "source": [
    "* 파이썬 내장 모듈인 `weakref`를 사용하면 해결할 수 있다.\n",
    "  * `_value` 딕셔너리 대신 `WeakKeyDictionary` 라는 클래스를 사용"
   ]
  },
  {
   "cell_type": "markdown",
   "metadata": {},
   "source": [
    "* `WeakKeyDictionary`\n",
    "  * 런타임 중에 자신이 마지막으로 남은 인스턴스의 참조를 가지고 있다는 사실을 알면 키 집합에서 해당 인스턴스를 제거한다.\n",
    "  * 모든 인스턴스가 더는 사용되지 않으면 딕셔너리가 비어 있게 될 것이다."
   ]
  },
  {
   "cell_type": "code",
   "execution_count": 15,
   "metadata": {},
   "outputs": [],
   "source": [
    "from weakref import WeakKeyDictionary\n",
    "\n",
    "class Grade(object):\n",
    "    def __init__(self):\n",
    "        self._values = WeakKeyDictionary()\n",
    "        \n",
    "    def __get__(self, instance, instance_type):\n",
    "        if instance is None:\n",
    "            return self\n",
    "        \n",
    "        return self._value.get(instance, 0)\n",
    "    \n",
    "    def __set(self, instance, value):\n",
    "        if not (0 <= value <= 100):\n",
    "            raise ValueError('Grade must be between 0 and 100')\n",
    "        \n",
    "        self._values[instance] = value"
   ]
  },
  {
   "cell_type": "code",
   "execution_count": 16,
   "metadata": {},
   "outputs": [],
   "source": [
    "class Exam(object):\n",
    "    math_grade = Grade()\n",
    "    writing_grade = Grade()\n",
    "    science_grade = Grade()"
   ]
  },
  {
   "cell_type": "code",
   "execution_count": 17,
   "metadata": {},
   "outputs": [
    {
     "name": "stdout",
     "output_type": "stream",
     "text": [
      "First  82 is right\n",
      "Second 75 is right\n"
     ]
    }
   ],
   "source": [
    "first_exam = Exam()\n",
    "first_exam.writing_grade = 82\n",
    "second_exam = Exam()\n",
    "second_exam.writing_grade = 75\n",
    "\n",
    "print('First ', first_exam.writing_grade, 'is right')\n",
    "print('Second', second_exam.writing_grade, 'is right')"
   ]
  },
  {
   "cell_type": "markdown",
   "metadata": {},
   "source": [
    "### 핵심 정리\n",
    "* 직접 디스크립터 클래스를 정의하여 `@property` 메서드의 동작과 검증을 재사용하자\n",
    "* `WeakKeyDictionary` 를 사용하여 디스크립터 클래스가 메모리 누수를 일으키지 않게 하자\n",
    "* `__getattribute__` 가 디스크립터 프로토콜을 사용하여 속성을 얻어오고 설정하는 원리를 정확히 이해하려는 함정에 빠지지 말자 (???? Better Way 32 참조?)"
   ]
  }
 ],
 "metadata": {
  "kernelspec": {
   "display_name": "Python 3",
   "language": "python",
   "name": "python3"
  },
  "language_info": {
   "codemirror_mode": {
    "name": "ipython",
    "version": 3
   },
   "file_extension": ".py",
   "mimetype": "text/x-python",
   "name": "python",
   "nbconvert_exporter": "python",
   "pygments_lexer": "ipython3",
   "version": "3.7.0"
  }
 },
 "nbformat": 4,
 "nbformat_minor": 2
}
