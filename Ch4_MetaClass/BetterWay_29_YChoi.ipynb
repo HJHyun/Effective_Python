{
 "cells": [
  {
   "cell_type": "markdown",
   "metadata": {},
   "source": [
    "# 4. 메타클래스와 속성"
   ]
  },
  {
   "cell_type": "markdown",
   "metadata": {},
   "source": [
    "* 메타클래스를 이용하면 파이썬의 class 문을 가로채 클래스가 정의될 때마다 특별한 동작을 제공 가능.\n",
    "* 강력한 기능이므로 주의해야 함.\n",
    "    - 동적 속성은 객체들을 오버라이드하다 예상치 못한 부작용을 일으키게 할 수 있음.\n",
    "    - 메타클래스는 쉽게 이해하기 어려운 극도로 이상한 동작을 만들어내기도 함.\n",
    "    - 최소 놀람 규칙(rule of least surprise)을 따르고 제대로 이해하고 있는 이디엄 구현시에만 이용할 것."
   ]
  },
  {
   "cell_type": "markdown",
   "metadata": {},
   "source": [
    "## Better Way 29. 게터와 세터 메서드 대신에 일반 속성을 사용하자"
   ]
  },
  {
   "cell_type": "markdown",
   "metadata": {},
   "source": [
    "* **[비추천] 클래스에 게터(getter) 및 세터(setter) 메서드를 명시적으로 구현하는 경우.**"
   ]
  },
  {
   "cell_type": "code",
   "execution_count": 1,
   "metadata": {},
   "outputs": [],
   "source": [
    "class OldResistor(object):\n",
    "    def __init__(self, ohms):\n",
    "        self._ohms = ohms\n",
    "        \n",
    "    def get_ohms(self):\n",
    "        return self._ohms\n",
    "    \n",
    "    def set_ohms(self, ohms):\n",
    "        self._ohms = ohms"
   ]
  },
  {
   "cell_type": "markdown",
   "metadata": {},
   "source": [
    "* 사용법은 간단하지만 파이썬답지 않음."
   ]
  },
  {
   "cell_type": "code",
   "execution_count": 2,
   "metadata": {},
   "outputs": [
    {
     "name": "stdout",
     "output_type": "stream",
     "text": [
      "Before: 50000.0\n",
      "After: 10000.0\n"
     ]
    }
   ],
   "source": [
    "r0 = OldResistor(50e3)\n",
    "print('Before: %5r' % r0.get_ohms())\n",
    "r0.set_ohms(10e3)\n",
    "print('After: %5r' % r0.get_ohms())"
   ]
  },
  {
   "cell_type": "markdown",
   "metadata": {},
   "source": [
    "* 즉석에서 증가시키기 같은 연산에는 사용하기 불편."
   ]
  },
  {
   "cell_type": "code",
   "execution_count": 4,
   "metadata": {},
   "outputs": [],
   "source": [
    "r0.set_ohms(r0.get_ohms() + 5e3)"
   ]
  },
  {
   "cell_type": "markdown",
   "metadata": {},
   "source": [
    "* **파이썬에서는 명시적으로 게터와 세터를 구현할 일이 거의 없음.**\n",
    "* **항상 간단한 공개 속성부터 구현할 것.**"
   ]
  },
  {
   "cell_type": "code",
   "execution_count": 5,
   "metadata": {},
   "outputs": [],
   "source": [
    "class Resistor(object):\n",
    "    def __init__(self, ohms):\n",
    "        self.ohms = ohms\n",
    "        self.voltage = 0\n",
    "        self.current = 0"
   ]
  },
  {
   "cell_type": "code",
   "execution_count": 6,
   "metadata": {},
   "outputs": [],
   "source": [
    "r1 = Resistor(50e3)\n",
    "r1.ohms = 10e3"
   ]
  },
  {
   "cell_type": "markdown",
   "metadata": {},
   "source": [
    "* 즉석에서 증가시키기 같은 연산이 자연스럽고 명확해짐"
   ]
  },
  {
   "cell_type": "code",
   "execution_count": 7,
   "metadata": {},
   "outputs": [],
   "source": [
    "r1.ohms += 5e3"
   ]
  },
  {
   "cell_type": "markdown",
   "metadata": {},
   "source": [
    "* **나중에 속성을 설정할 때 특별한 동작이 필요한 경우 @property 데코레이터(decorator)와 이에 대응하는 setter 속성을 사용하는 방법으로 변경 가능.**\n",
    "    - [예시] Resistor의 새 서브클래스를 정의해 voltage 프로퍼티(property)를 할당하면 current 값이 변경되게 함.\n",
    "        + 제대로 동작하려면 세터 및 게터 메서드의 이름이 의도한 프로퍼티 이름과 일치해야 함."
   ]
  },
  {
   "cell_type": "code",
   "execution_count": 8,
   "metadata": {},
   "outputs": [],
   "source": [
    "class VoltageResistance(Resistor):\n",
    "    def __init__(self, ohms):\n",
    "        super().__init__(ohms)\n",
    "        self._voltage = 0\n",
    "        \n",
    "    @property\n",
    "    def voltage(self):\n",
    "        return self._voltage\n",
    "    \n",
    "    @voltage.setter\n",
    "    def voltage(self, voltage):\n",
    "        self._voltage = voltage\n",
    "        self.current = self._voltage / self.ohms"
   ]
  },
  {
   "cell_type": "markdown",
   "metadata": {},
   "source": [
    "* voltage 프로퍼티에 할당하면 voltage 세터 메서드가 실행되어 voltage에 맞게 객체의 current 프로퍼티를 업데이트함."
   ]
  },
  {
   "cell_type": "code",
   "execution_count": 9,
   "metadata": {},
   "outputs": [
    {
     "name": "stdout",
     "output_type": "stream",
     "text": [
      "Before:     0 amps\n",
      "After:  0.01 amps\n"
     ]
    }
   ],
   "source": [
    "r2 = VoltageResistance(1e3)\n",
    "print('Before: %5r amps' % r2.current)\n",
    "r2.voltage = 10\n",
    "print('After: %5r amps' % r2.current)"
   ]
  },
  {
   "cell_type": "markdown",
   "metadata": {},
   "source": [
    "* **프로퍼티에 setter를 설정하면 클래스에 전달된 값들의 타입을 체크하고 값을 검증할 수도 있음.**\n",
    "    - [예시] 모든 저항값이 0옴보다 큼을 보장하는 클래스 정의."
   ]
  },
  {
   "cell_type": "code",
   "execution_count": 13,
   "metadata": {},
   "outputs": [],
   "source": [
    "class BoundedResistance(Resistor):\n",
    "    def __init__(self, ohms):\n",
    "        super().__init__(ohms)\n",
    "        \n",
    "    @property\n",
    "    def ohms(self):\n",
    "        return self._ohms\n",
    "    \n",
    "    @ohms.setter\n",
    "    def ohms(self, ohms):\n",
    "        if ohms <= 0:\n",
    "            raise ValueError('%f ohms must be > 0' % ohms)\n",
    "        self._ohms = ohms"
   ]
  },
  {
   "cell_type": "markdown",
   "metadata": {},
   "source": [
    "+ 속성에 올바르지 않은 저항값을 할당하면 예외 발생."
   ]
  },
  {
   "cell_type": "code",
   "execution_count": 14,
   "metadata": {},
   "outputs": [
    {
     "ename": "ValueError",
     "evalue": "0.000000 ohms must be > 0",
     "output_type": "error",
     "traceback": [
      "\u001b[1;31m---------------------------------------------------------------------------\u001b[0m",
      "\u001b[1;31mValueError\u001b[0m                                Traceback (most recent call last)",
      "\u001b[1;32m<ipython-input-14-4faf6805d103>\u001b[0m in \u001b[0;36m<module>\u001b[1;34m\u001b[0m\n\u001b[0;32m      1\u001b[0m \u001b[0mr3\u001b[0m \u001b[1;33m=\u001b[0m \u001b[0mBoundedResistance\u001b[0m\u001b[1;33m(\u001b[0m\u001b[1;36m1e3\u001b[0m\u001b[1;33m)\u001b[0m\u001b[1;33m\u001b[0m\u001b[1;33m\u001b[0m\u001b[0m\n\u001b[1;32m----> 2\u001b[1;33m \u001b[0mr3\u001b[0m\u001b[1;33m.\u001b[0m\u001b[0mohms\u001b[0m \u001b[1;33m=\u001b[0m \u001b[1;36m0\u001b[0m\u001b[1;33m\u001b[0m\u001b[1;33m\u001b[0m\u001b[0m\n\u001b[0m",
      "\u001b[1;32m<ipython-input-13-d63ccd9685e5>\u001b[0m in \u001b[0;36mohms\u001b[1;34m(self, ohms)\u001b[0m\n\u001b[0;32m     10\u001b[0m     \u001b[1;32mdef\u001b[0m \u001b[0mohms\u001b[0m\u001b[1;33m(\u001b[0m\u001b[0mself\u001b[0m\u001b[1;33m,\u001b[0m \u001b[0mohms\u001b[0m\u001b[1;33m)\u001b[0m\u001b[1;33m:\u001b[0m\u001b[1;33m\u001b[0m\u001b[1;33m\u001b[0m\u001b[0m\n\u001b[0;32m     11\u001b[0m         \u001b[1;32mif\u001b[0m \u001b[0mohms\u001b[0m \u001b[1;33m<=\u001b[0m \u001b[1;36m0\u001b[0m\u001b[1;33m:\u001b[0m\u001b[1;33m\u001b[0m\u001b[1;33m\u001b[0m\u001b[0m\n\u001b[1;32m---> 12\u001b[1;33m             \u001b[1;32mraise\u001b[0m \u001b[0mValueError\u001b[0m\u001b[1;33m(\u001b[0m\u001b[1;34m'%f ohms must be > 0'\u001b[0m \u001b[1;33m%\u001b[0m \u001b[0mohms\u001b[0m\u001b[1;33m)\u001b[0m\u001b[1;33m\u001b[0m\u001b[1;33m\u001b[0m\u001b[0m\n\u001b[0m\u001b[0;32m     13\u001b[0m         \u001b[0mself\u001b[0m\u001b[1;33m.\u001b[0m\u001b[0m_ohms\u001b[0m \u001b[1;33m=\u001b[0m \u001b[0mohms\u001b[0m\u001b[1;33m\u001b[0m\u001b[1;33m\u001b[0m\u001b[0m\n",
      "\u001b[1;31mValueError\u001b[0m: 0.000000 ohms must be > 0"
     ]
    }
   ],
   "source": [
    "r3 = BoundedResistance(1e3)\n",
    "r3.ohms = 0"
   ]
  },
  {
   "cell_type": "markdown",
   "metadata": {},
   "source": [
    "* 생성자에 올바르지 않은 값을 넘겨도 예외 발생.\n",
    "    - [예시] BoundedResistance.__init__가 self.ohms = -5를 할당하는 Resistor.__init__를 호출하기 때문에 예외 발생. 이 할당문으로 BoundedResistance의 @ohms.setter 메서드가 호출되어 객체 생성이 완료되기도 전에 곧장 검증 코드가 실행됨."
   ]
  },
  {
   "cell_type": "code",
   "execution_count": 15,
   "metadata": {},
   "outputs": [
    {
     "ename": "ValueError",
     "evalue": "-5.000000 ohms must be > 0",
     "output_type": "error",
     "traceback": [
      "\u001b[1;31m---------------------------------------------------------------------------\u001b[0m",
      "\u001b[1;31mValueError\u001b[0m                                Traceback (most recent call last)",
      "\u001b[1;32m<ipython-input-15-9fc5cf3426e1>\u001b[0m in \u001b[0;36m<module>\u001b[1;34m\u001b[0m\n\u001b[1;32m----> 1\u001b[1;33m \u001b[0mBoundedResistance\u001b[0m\u001b[1;33m(\u001b[0m\u001b[1;33m-\u001b[0m\u001b[1;36m5\u001b[0m\u001b[1;33m)\u001b[0m\u001b[1;33m\u001b[0m\u001b[1;33m\u001b[0m\u001b[0m\n\u001b[0m",
      "\u001b[1;32m<ipython-input-13-d63ccd9685e5>\u001b[0m in \u001b[0;36m__init__\u001b[1;34m(self, ohms)\u001b[0m\n\u001b[0;32m      1\u001b[0m \u001b[1;32mclass\u001b[0m \u001b[0mBoundedResistance\u001b[0m\u001b[1;33m(\u001b[0m\u001b[0mResistor\u001b[0m\u001b[1;33m)\u001b[0m\u001b[1;33m:\u001b[0m\u001b[1;33m\u001b[0m\u001b[1;33m\u001b[0m\u001b[0m\n\u001b[0;32m      2\u001b[0m     \u001b[1;32mdef\u001b[0m \u001b[0m__init__\u001b[0m\u001b[1;33m(\u001b[0m\u001b[0mself\u001b[0m\u001b[1;33m,\u001b[0m \u001b[0mohms\u001b[0m\u001b[1;33m)\u001b[0m\u001b[1;33m:\u001b[0m\u001b[1;33m\u001b[0m\u001b[1;33m\u001b[0m\u001b[0m\n\u001b[1;32m----> 3\u001b[1;33m         \u001b[0msuper\u001b[0m\u001b[1;33m(\u001b[0m\u001b[1;33m)\u001b[0m\u001b[1;33m.\u001b[0m\u001b[0m__init__\u001b[0m\u001b[1;33m(\u001b[0m\u001b[0mohms\u001b[0m\u001b[1;33m)\u001b[0m\u001b[1;33m\u001b[0m\u001b[1;33m\u001b[0m\u001b[0m\n\u001b[0m\u001b[0;32m      4\u001b[0m \u001b[1;33m\u001b[0m\u001b[0m\n\u001b[0;32m      5\u001b[0m     \u001b[1;33m@\u001b[0m\u001b[0mproperty\u001b[0m\u001b[1;33m\u001b[0m\u001b[1;33m\u001b[0m\u001b[0m\n",
      "\u001b[1;32m<ipython-input-5-f2740f70eecf>\u001b[0m in \u001b[0;36m__init__\u001b[1;34m(self, ohms)\u001b[0m\n\u001b[0;32m      1\u001b[0m \u001b[1;32mclass\u001b[0m \u001b[0mResistor\u001b[0m\u001b[1;33m(\u001b[0m\u001b[0mobject\u001b[0m\u001b[1;33m)\u001b[0m\u001b[1;33m:\u001b[0m\u001b[1;33m\u001b[0m\u001b[1;33m\u001b[0m\u001b[0m\n\u001b[0;32m      2\u001b[0m     \u001b[1;32mdef\u001b[0m \u001b[0m__init__\u001b[0m\u001b[1;33m(\u001b[0m\u001b[0mself\u001b[0m\u001b[1;33m,\u001b[0m \u001b[0mohms\u001b[0m\u001b[1;33m)\u001b[0m\u001b[1;33m:\u001b[0m\u001b[1;33m\u001b[0m\u001b[1;33m\u001b[0m\u001b[0m\n\u001b[1;32m----> 3\u001b[1;33m         \u001b[0mself\u001b[0m\u001b[1;33m.\u001b[0m\u001b[0mohms\u001b[0m \u001b[1;33m=\u001b[0m \u001b[0mohms\u001b[0m\u001b[1;33m\u001b[0m\u001b[1;33m\u001b[0m\u001b[0m\n\u001b[0m\u001b[0;32m      4\u001b[0m         \u001b[0mself\u001b[0m\u001b[1;33m.\u001b[0m\u001b[0mvoltage\u001b[0m \u001b[1;33m=\u001b[0m \u001b[1;36m0\u001b[0m\u001b[1;33m\u001b[0m\u001b[1;33m\u001b[0m\u001b[0m\n\u001b[0;32m      5\u001b[0m         \u001b[0mself\u001b[0m\u001b[1;33m.\u001b[0m\u001b[0mcurrent\u001b[0m \u001b[1;33m=\u001b[0m \u001b[1;36m0\u001b[0m\u001b[1;33m\u001b[0m\u001b[1;33m\u001b[0m\u001b[0m\n",
      "\u001b[1;32m<ipython-input-13-d63ccd9685e5>\u001b[0m in \u001b[0;36mohms\u001b[1;34m(self, ohms)\u001b[0m\n\u001b[0;32m     10\u001b[0m     \u001b[1;32mdef\u001b[0m \u001b[0mohms\u001b[0m\u001b[1;33m(\u001b[0m\u001b[0mself\u001b[0m\u001b[1;33m,\u001b[0m \u001b[0mohms\u001b[0m\u001b[1;33m)\u001b[0m\u001b[1;33m:\u001b[0m\u001b[1;33m\u001b[0m\u001b[1;33m\u001b[0m\u001b[0m\n\u001b[0;32m     11\u001b[0m         \u001b[1;32mif\u001b[0m \u001b[0mohms\u001b[0m \u001b[1;33m<=\u001b[0m \u001b[1;36m0\u001b[0m\u001b[1;33m:\u001b[0m\u001b[1;33m\u001b[0m\u001b[1;33m\u001b[0m\u001b[0m\n\u001b[1;32m---> 12\u001b[1;33m             \u001b[1;32mraise\u001b[0m \u001b[0mValueError\u001b[0m\u001b[1;33m(\u001b[0m\u001b[1;34m'%f ohms must be > 0'\u001b[0m \u001b[1;33m%\u001b[0m \u001b[0mohms\u001b[0m\u001b[1;33m)\u001b[0m\u001b[1;33m\u001b[0m\u001b[1;33m\u001b[0m\u001b[0m\n\u001b[0m\u001b[0;32m     13\u001b[0m         \u001b[0mself\u001b[0m\u001b[1;33m.\u001b[0m\u001b[0m_ohms\u001b[0m \u001b[1;33m=\u001b[0m \u001b[0mohms\u001b[0m\u001b[1;33m\u001b[0m\u001b[1;33m\u001b[0m\u001b[0m\n",
      "\u001b[1;31mValueError\u001b[0m: -5.000000 ohms must be > 0"
     ]
    }
   ],
   "source": [
    "BoundedResistance(-5)"
   ]
  },
  {
   "cell_type": "markdown",
   "metadata": {},
   "source": [
    "* **부모 클래스의 속성을 불변(immutable)으로 만드는 데도 @property를 사용 가능.**"
   ]
  },
  {
   "cell_type": "code",
   "execution_count": 16,
   "metadata": {},
   "outputs": [],
   "source": [
    "class FixedResistance(Resistor):\n",
    "    def __init__(self, ohms):\n",
    "        super().__init__(ohms)\n",
    "    \n",
    "    @property\n",
    "    def ohms(self):\n",
    "        return self._ohms\n",
    "    \n",
    "    @ohms.setter\n",
    "    def ohms(self, ohms):\n",
    "        if hasattr(self, '_ohms'):\n",
    "            raise AttributeError(\"Can't set attribute\")\n",
    "        self._ohms = ohms"
   ]
  },
  {
   "cell_type": "markdown",
   "metadata": {},
   "source": [
    "* [예시] 객체를 생성하고 나서 프로퍼티에 할당하려고 하면 예외 발생."
   ]
  },
  {
   "cell_type": "code",
   "execution_count": 17,
   "metadata": {},
   "outputs": [
    {
     "ename": "AttributeError",
     "evalue": "Can't set attribute",
     "output_type": "error",
     "traceback": [
      "\u001b[1;31m---------------------------------------------------------------------------\u001b[0m",
      "\u001b[1;31mAttributeError\u001b[0m                            Traceback (most recent call last)",
      "\u001b[1;32m<ipython-input-17-7fbedb722fb3>\u001b[0m in \u001b[0;36m<module>\u001b[1;34m\u001b[0m\n\u001b[0;32m      1\u001b[0m \u001b[0mr4\u001b[0m \u001b[1;33m=\u001b[0m \u001b[0mFixedResistance\u001b[0m\u001b[1;33m(\u001b[0m\u001b[1;36m1e3\u001b[0m\u001b[1;33m)\u001b[0m\u001b[1;33m\u001b[0m\u001b[1;33m\u001b[0m\u001b[0m\n\u001b[1;32m----> 2\u001b[1;33m \u001b[0mr4\u001b[0m\u001b[1;33m.\u001b[0m\u001b[0mohms\u001b[0m \u001b[1;33m=\u001b[0m \u001b[1;36m2e3\u001b[0m\u001b[1;33m\u001b[0m\u001b[1;33m\u001b[0m\u001b[0m\n\u001b[0m",
      "\u001b[1;32m<ipython-input-16-34c0a843018a>\u001b[0m in \u001b[0;36mohms\u001b[1;34m(self, ohms)\u001b[0m\n\u001b[0;32m     10\u001b[0m     \u001b[1;32mdef\u001b[0m \u001b[0mohms\u001b[0m\u001b[1;33m(\u001b[0m\u001b[0mself\u001b[0m\u001b[1;33m,\u001b[0m \u001b[0mohms\u001b[0m\u001b[1;33m)\u001b[0m\u001b[1;33m:\u001b[0m\u001b[1;33m\u001b[0m\u001b[1;33m\u001b[0m\u001b[0m\n\u001b[0;32m     11\u001b[0m         \u001b[1;32mif\u001b[0m \u001b[0mhasattr\u001b[0m\u001b[1;33m(\u001b[0m\u001b[0mself\u001b[0m\u001b[1;33m,\u001b[0m \u001b[1;34m'_ohms'\u001b[0m\u001b[1;33m)\u001b[0m\u001b[1;33m:\u001b[0m\u001b[1;33m\u001b[0m\u001b[1;33m\u001b[0m\u001b[0m\n\u001b[1;32m---> 12\u001b[1;33m             \u001b[1;32mraise\u001b[0m \u001b[0mAttributeError\u001b[0m\u001b[1;33m(\u001b[0m\u001b[1;34m\"Can't set attribute\"\u001b[0m\u001b[1;33m)\u001b[0m\u001b[1;33m\u001b[0m\u001b[1;33m\u001b[0m\u001b[0m\n\u001b[0m\u001b[0;32m     13\u001b[0m         \u001b[0mself\u001b[0m\u001b[1;33m.\u001b[0m\u001b[0m_ohms\u001b[0m \u001b[1;33m=\u001b[0m \u001b[0mohms\u001b[0m\u001b[1;33m\u001b[0m\u001b[1;33m\u001b[0m\u001b[0m\n",
      "\u001b[1;31mAttributeError\u001b[0m: Can't set attribute"
     ]
    }
   ],
   "source": [
    "r4 = FixedResistance(1e3)\n",
    "r4.ohms = 2e3"
   ]
  },
  {
   "cell_type": "markdown",
   "metadata": {},
   "source": [
    "* **@property의 가장 큰 단점: 속성에 대응하는 메서드를 서브클래스에서만 공유 가능.**\n",
    "    - 서로 관련이 없는 클래스는 같은 구현을 공유하지 못함.\n",
    "    - **파이썬은 디스크립터(descriptor) 또한 지원함.**\n",
    "        + 디스크립터는 재사용 가능한 프로퍼티 로직 및 다른 많은 쓰임새가 있음(**BW31 참조**)."
   ]
  },
  {
   "cell_type": "markdown",
   "metadata": {},
   "source": [
    "* **@property 메서드로 세터 및 게터를 구현할 때 예상과 다르게 동작하지 않게 해야 함.**\n",
    "    - 예를 들면 게터 프로퍼티 메서드에서 다른 속성을 설정하지 말 것.\n",
    "    - [예시] 게터 프로퍼티 메서드에서 다른 속성을 설정하는 경우."
   ]
  },
  {
   "cell_type": "code",
   "execution_count": 25,
   "metadata": {},
   "outputs": [],
   "source": [
    "class MysteriousResistor(Resistor):  \n",
    "    @property\n",
    "    def ohms(self):\n",
    "        self.voltage = self._ohms * self.current\n",
    "        return self._ohms\n",
    "    \n",
    "    @ohms.setter\n",
    "    def ohms(self, ohms):\n",
    "        self._ohms = ohms"
   ]
  },
  {
   "cell_type": "code",
   "execution_count": 26,
   "metadata": {},
   "outputs": [
    {
     "name": "stdout",
     "output_type": "stream",
     "text": [
      "Before:     0\n",
      "After:   0.1\n"
     ]
    }
   ],
   "source": [
    "r7 = MysteriousResistor(10)\n",
    "r7.current = 0.01\n",
    "print('Before: %5r' % r7.voltage)\n",
    "r7.ohms\n",
    "print('After: %5r' % r7.voltage)"
   ]
  },
  {
   "cell_type": "markdown",
   "metadata": {},
   "source": [
    "* **@property.setter 메서드에서만 관련 객체의 상태를 수정하는 것이 최선의 정책.**\n",
    "    - **호출하는 쪽이 객체에서 일어날 것이라고 예측하지 못할 만한 다른 부작용은 모두 피해야 함.**\n",
    "        + [예] 모듈을 동적으로 임포트하기.\n",
    "        + [예] 느린 헬퍼 함수 실행하기.\n",
    "        + [예] 비용이 많이 드는 데이터베이스 수행하기.\n",
    "    - 사용자는 다른 파이썬 객체가 그렇듯 클래스의 속성이 빠르고 쉬우리라 기대할 것.\n",
    "    - **더 복잡하거나 느린 작업은 일반 메서드로 할 것.**"
   ]
  },
  {
   "cell_type": "code",
   "execution_count": null,
   "metadata": {},
   "outputs": [],
   "source": []
  }
 ],
 "metadata": {
  "kernelspec": {
   "display_name": "Python 3",
   "language": "python",
   "name": "python3"
  },
  "language_info": {
   "codemirror_mode": {
    "name": "ipython",
    "version": 3
   },
   "file_extension": ".py",
   "mimetype": "text/x-python",
   "name": "python",
   "nbconvert_exporter": "python",
   "pygments_lexer": "ipython3",
   "version": "3.6.5"
  }
 },
 "nbformat": 4,
 "nbformat_minor": 2
}
