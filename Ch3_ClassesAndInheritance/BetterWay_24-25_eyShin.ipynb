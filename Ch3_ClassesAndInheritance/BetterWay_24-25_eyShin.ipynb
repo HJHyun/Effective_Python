{
 "cells": [
  {
   "cell_type": "markdown",
   "metadata": {},
   "source": [
    "# Better way 24. 객체를 범용으로 생성하려면 @classmethod 다형성을 이용하자"
   ]
  },
  {
   "cell_type": "code",
   "execution_count": 1,
   "metadata": {},
   "outputs": [],
   "source": [
    "import os\n",
    "from threading import Thread"
   ]
  },
  {
   "cell_type": "markdown",
   "metadata": {},
   "source": [
    "* 파이썬에서는 **객체**가 다형성을 지원한 뿐만 아니라 **클래스**도 다형성을 지원한다.\n",
    "* 다형성: 계층 구조에 속한 여러 클래스가 자체의 메서드를 독립적인 버전으로 구현하는 방식\n",
    "  * 다형성을 이용하면 여러 클래스가 같은 인터페이스나 추상 기반 클래스는 충족하면서 다른 기능을 제공할 수 있다.\n",
    "    * Better way 28. 커스텀 컨테이너 타입은 collections.abs 의 클래스를 상속받게 만들자\n",
    "* 예시) MapReduce 구현을 작성할 때 입력 데이터를 표현하는 공통 클래스"
   ]
  },
  {
   "cell_type": "code",
   "execution_count": 2,
   "metadata": {},
   "outputs": [],
   "source": [
    "class InputData(object):\n",
    "    def read(self):\n",
    "        raise NotImplementedError"
   ]
  },
  {
   "cell_type": "code",
   "execution_count": 3,
   "metadata": {},
   "outputs": [],
   "source": [
    "class PathInputData(InputData):\n",
    "    def __init__(self, path):\n",
    "        super().__init__()\n",
    "        self.path = path\n",
    "        \n",
    "    def read(self):\n",
    "        return open(self.path).read()"
   ]
  },
  {
   "cell_type": "markdown",
   "metadata": {},
   "source": [
    "* 원한다면 PathInputData 같은 *InputData 서브클래스*를 몇개든 만들 수 있음\n",
    "  * 각 서브 클래스에서 *처리할 바이트 데이터를 반환하는 표준 인터페이스*인 read 를 구현할 것\n",
    "  * 네트워크에서 데이터를 읽어오게 하거나, 데이터의 압축을 해제하게 만들거나...\n",
    "* 예시) 표준 방식으로 입력 데이터를 처리하는 MapReduce 작업 클래스"
   ]
  },
  {
   "cell_type": "code",
   "execution_count": 4,
   "metadata": {},
   "outputs": [],
   "source": [
    "class Worker(object):\n",
    "    def __init__(self, input_data):\n",
    "        self.input_data = input_data\n",
    "        self.result = None\n",
    "        \n",
    "    def map(self):\n",
    "        raise NotImplementedError\n",
    "        \n",
    "    def reduce(self):\n",
    "        raise NotImplementedError"
   ]
  },
  {
   "cell_type": "markdown",
   "metadata": {},
   "source": [
    "* 예시) 적용하려는 특정 맵 리듀스 함수를 구현한 Worker의 서브 클래스, 줄바꿈 카운터"
   ]
  },
  {
   "cell_type": "code",
   "execution_count": 5,
   "metadata": {},
   "outputs": [],
   "source": [
    "class LineCountWorker(Worker):\n",
    "    def map(self):\n",
    "        data = self.input_data.read()\n",
    "        self.result = data.count('\\n')\n",
    "        \n",
    "    def reduce(self, other):\n",
    "        self.result += other.result"
   ]
  },
  {
   "cell_type": "markdown",
   "metadata": {},
   "source": [
    "* 잘 작동할 것 같지만, 커다란 문제에 직면하게 된다.\n",
    "  * 이 코드 조각들을 무엇으로 *연결*할 것인가?\n",
    "  * 적절히 인터페이스를 설계하고 추상화한 클래스들 --> 객체를 생성한 뒤에나 유용\n",
    "  * 무엇으로 객체를 만들고 맵리듀스를 조율할까?"
   ]
  },
  {
   "cell_type": "markdown",
   "metadata": {},
   "source": [
    "* 예시) 헬퍼 함수로 객체를 만들고 연결하기"
   ]
  },
  {
   "cell_type": "code",
   "execution_count": 6,
   "metadata": {},
   "outputs": [],
   "source": [
    "def generate_inputs(data_dir):\n",
    "    for name in os.listdir(data_dir):\n",
    "        yield PathInputData(os.path.join(data_dir, name))\n",
    "    \n",
    "def create_workers(input_list):\n",
    "    workers = []\n",
    "    for input_data in input_list:\n",
    "        workers.append(LineCountWorker(input_data))\n",
    "    return workers"
   ]
  },
  {
   "cell_type": "markdown",
   "metadata": {},
   "source": [
    "* map 단계를 여러 스레드로 나눠서 Worker 인스턴스를 실행\n",
    "  * Better way 37. 스레드를 블로킹 I/O 용으로 사용하고 병렬화용으로는 사용하지 말자\n",
    "* 그런 다음 reduce 를 반복적으로 호출해서 결과를 최종값 하나로 합침"
   ]
  },
  {
   "cell_type": "code",
   "execution_count": 7,
   "metadata": {},
   "outputs": [],
   "source": [
    "def execute(workers):\n",
    "    threads = [Thread(target=w.map) for w in workers]\n",
    "    \n",
    "    for thread in threads:\n",
    "        thread.start()\n",
    "    for thread in threads:\n",
    "        thread.join()\n",
    "        \n",
    "    first, rest = workers[0], workers[1:]\n",
    "    \n",
    "    for worker in rest:\n",
    "        first.reduce(worker)\n",
    "        \n",
    "    return first.result"
   ]
  },
  {
   "cell_type": "markdown",
   "metadata": {},
   "source": [
    "* 마지막으로 단계별로 실행하려고 mapreduce 함수에서 모든 조각을 연결한다."
   ]
  },
  {
   "cell_type": "code",
   "execution_count": 8,
   "metadata": {},
   "outputs": [],
   "source": [
    "def mapreduce(data_dir):\n",
    "    inputs = generate_inputs(data_dir)\n",
    "    workers = create_workers(inputs)\n",
    "    return execute(workers)"
   ]
  },
  {
   "cell_type": "markdown",
   "metadata": {},
   "source": [
    "* 테스트"
   ]
  },
  {
   "cell_type": "code",
   "execution_count": 9,
   "metadata": {},
   "outputs": [],
   "source": [
    "from tempfile import TemporaryDirectory\n",
    "\n",
    "def write_test_files(tmpdir):\n",
    "    for i in range(10):\n",
    "        with open(os.path.join(tmpdir, '%d.txt' % i), 'w') as f:\n",
    "            for j in range(i):\n",
    "                f.write('%d\\n' % j)"
   ]
  },
  {
   "cell_type": "code",
   "execution_count": 10,
   "metadata": {},
   "outputs": [
    {
     "name": "stdout",
     "output_type": "stream",
     "text": [
      "There are 45 lines\n"
     ]
    }
   ],
   "source": [
    "with TemporaryDirectory() as tmpdir:\n",
    "    write_test_files(tmpdir)\n",
    "    result = mapreduce(tmpdir)\n",
    "\n",
    "print('There are', result, 'lines')"
   ]
  },
  {
   "cell_type": "markdown",
   "metadata": {},
   "source": [
    "* 무엇이 문제일까?\n",
    "  * mapreduce 함수가 범용적이지 않음\n",
    "    * 다른 InputData나 Workder 서브클래스를 작성한다면 genrate_inputs, create_workers, mapreduce 함수를 다시 작성해야 한다\n",
    "* 범용적인 방법은?\n",
    "  * 다른 언어에서는 생성자 다형성으로 해결\n",
    "    * 각 InputData 서브 클래스에서 맵리듀스를 조율하는 헬퍼 메서드가 범용적으로 사용할 수 있는 특별한 생성자 <-\n",
    "  * 근데 파이썬에는 단일 생성자 메서드 __init__ 만 허용함\n",
    "    * 모든 InputData 서브클래스가 호환되는 생성자를 갖춰야 한다?? 터무니 없음"
   ]
  },
  {
   "cell_type": "markdown",
   "metadata": {},
   "source": [
    "* @classmethod 다형성을 이용하자\n",
    "  * 생성된 객체가 아니라 전체 클래스에 적용된다는 점만 빼면 InputData.read 에 사용한 인스턴스 메서드 다형성과 똑같다.\n",
    "* 예시) 공통 인터페이스를 사용해 새 InputData 인스턴스를 생성하는 범용 클래스 메서드로 InputData 클래스를 확장한다."
   ]
  },
  {
   "cell_type": "code",
   "execution_count": 11,
   "metadata": {},
   "outputs": [],
   "source": [
    "class GenericInputData(object):\n",
    "    def read(self):\n",
    "        raise NotImplementedError\n",
    "        \n",
    "    @classmethod\n",
    "    def generate_inputs(cls, config):\n",
    "        raise NotImplementedError"
   ]
  },
  {
   "cell_type": "markdown",
   "metadata": {},
   "source": [
    "* generate_inputs 메서드는 GenericInputData 를 구현하는 서브클래스가 해석할 설정 파라미터들을 담은 딕셔너리를 받는다.\n",
    "* 입력 파일들을 얻어올 디렉터리를 config 로 알아낸다."
   ]
  },
  {
   "cell_type": "code",
   "execution_count": 25,
   "metadata": {},
   "outputs": [],
   "source": [
    "class PathInputData(GenericInputData):\n",
    "    def __init__(self, path):\n",
    "        self.path = path\n",
    "    \n",
    "    def read(self):\n",
    "        return open(self.path).read()\n",
    "    \n",
    "    @classmethod\n",
    "    def generate_inputs(cls, config):\n",
    "        data_dir = config['data_dir']\n",
    "        for name in os.listdir(data_dir):\n",
    "            yield cls(os.path.join(data_dir, name))"
   ]
  },
  {
   "cell_type": "markdown",
   "metadata": {},
   "source": [
    "* 비슷하게, GenericWorker 클래스에 create_workers 헬퍼를 작성한다.\n",
    "  * input_class 파라미터 (GenericInputData 서브클래스) 로 필요한 입력을 만들어냄\n",
    "  * cls() 를 범용 생성자로 사용해서 GenericWorker 를 구현한 서브클래스의 인스턴스를 생성한다"
   ]
  },
  {
   "cell_type": "code",
   "execution_count": 19,
   "metadata": {},
   "outputs": [],
   "source": [
    "class GenericWorker(object):\n",
    "    def __init__(self, input_data):\n",
    "        self.input_data = input_data\n",
    "        self.result = None\n",
    "    \n",
    "    def map(self):\n",
    "        raise NotImplementedError\n",
    "        \n",
    "    def reduce(self, other):\n",
    "        raise NotImplementedError\n",
    "        \n",
    "    @classmethod\n",
    "    def create_workers(cls, input_class, config):\n",
    "        workers = []\n",
    "        for input_data in input_class.generate_inputs(config):\n",
    "            workers.append(cls(input_data))\n",
    "            \n",
    "        return workers"
   ]
  },
  {
   "cell_type": "markdown",
   "metadata": {},
   "source": [
    "* 클래스 다형성\n",
    "  * input_class.generate_inputs\n",
    "  * create_workers 가 `__init__`메서드를 직접 사용하지 않고 cls 를 호출\n",
    "* LineCountWorker 는 부모 클래스만 변경"
   ]
  },
  {
   "cell_type": "code",
   "execution_count": 20,
   "metadata": {},
   "outputs": [],
   "source": [
    "class LineCountWorker(GenericWorker):\n",
    "    def map(self):\n",
    "        data = self.input_data.read()\n",
    "        self.result = data.count('\\n')\n",
    "        \n",
    "    def reduce(self, other):\n",
    "        self.result += other.result"
   ]
  },
  {
   "cell_type": "markdown",
   "metadata": {},
   "source": [
    "* mapreduce 함수를 범용적으로 재작성"
   ]
  },
  {
   "cell_type": "code",
   "execution_count": 21,
   "metadata": {},
   "outputs": [],
   "source": [
    "def mapreduce(worker_class, input_class, config):\n",
    "    workers = worker_class.create_workers(input_class, config)\n",
    "    return execute(workers)"
   ]
  },
  {
   "cell_type": "markdown",
   "metadata": {},
   "source": [
    "* 테스트용 파일로 실행하면 같은 결과가 나옴\n",
    "* 차이: mapreduce 함수가 범용적으로 동작하기 위해 더 많은 파라미터를 필요로 함"
   ]
  },
  {
   "cell_type": "code",
   "execution_count": 26,
   "metadata": {},
   "outputs": [
    {
     "name": "stdout",
     "output_type": "stream",
     "text": [
      "There are 45 lines\n"
     ]
    }
   ],
   "source": [
    "with TemporaryDirectory() as tmpdir:\n",
    "    write_test_files(tmpdir)\n",
    "    config = {'data_dir': tmpdir}\n",
    "    result = mapreduce(LineCountWorker, PathInputData, config)\n",
    "\n",
    "print('There are', result, 'lines')"
   ]
  },
  {
   "cell_type": "markdown",
   "metadata": {},
   "source": [
    "### 핵심 정리\n",
    "* 파이썬에서는 클래스별로 생성자를 한개만 만들 수 있다.\n",
    "* 클래스에 필요한 다른 생성자를 정의하려면 @classmethod 를 사용하자\n",
    "* 구체 서브클래스들을 만들고 연결하는 범용적인 방법을 제공하려면 클래스 메서드 다형성을 이용하자"
   ]
  },
  {
   "cell_type": "markdown",
   "metadata": {},
   "source": [
    "# Better way 25. super 로 부모 클래스를 초기화하자"
   ]
  },
  {
   "cell_type": "markdown",
   "metadata": {},
   "source": [
    "* 기존에는 자식 클래스에서 부모 클래스의 `__init__`메서드를 직접 호출하는 방식으로 부모 클래스를 초기화했다."
   ]
  },
  {
   "cell_type": "code",
   "execution_count": 31,
   "metadata": {},
   "outputs": [],
   "source": [
    "class MyBaseClass(object):\n",
    "    def __init__(self, value):\n",
    "        self.value = value\n",
    "        \n",
    "class MyChildClass(MyBaseClass):\n",
    "    def __init__(self):\n",
    "        MyBaseClass.__init__(self, 5)"
   ]
  },
  {
   "cell_type": "markdown",
   "metadata": {},
   "source": [
    "* 간단한 계층 구조에는 잘 동작하지만, 많은 경우 제대로 동작하지 못한다.\n",
    "* 클래스가 다중 상속 (보통은 피해야...) 의 영향을 받는다면?\n",
    "  * 부모 클래스의 `__init__` 메서드를 직접 호출하는 행위는 예기치 못한 동작을 일으킬 수 있다.\n",
    "  * `__init__` 의 호출 순서가 모든 서브 클래스에 명시되어 있지 않기 때문."
   ]
  },
  {
   "cell_type": "code",
   "execution_count": 29,
   "metadata": {},
   "outputs": [],
   "source": [
    "class TimesTwo(object):\n",
    "    def __init__(self):\n",
    "        self.value *= 2\n",
    "        \n",
    "class PlusFive(object):\n",
    "    def __init__(self):\n",
    "        self.value += 5\n",
    "        \n",
    "class OneWay(MyBaseClass, TimesTwo, PlusFive):\n",
    "    def __init__(self, value):\n",
    "        MyBaseClass.__init__(self, value)\n",
    "        TimesTwo.__init__(self)\n",
    "        PlusFive.__init__(self)"
   ]
  },
  {
   "cell_type": "markdown",
   "metadata": {},
   "source": [
    "* 이 클래스의 인스턴스를 생성하면 부모 클래스의 순서와 일치하는 결과가 만들어진다."
   ]
  },
  {
   "cell_type": "code",
   "execution_count": 32,
   "metadata": {},
   "outputs": [
    {
     "name": "stdout",
     "output_type": "stream",
     "text": [
      "First ordering is (5 * 2) + 5 = 15\n"
     ]
    }
   ],
   "source": [
    "foo = OneWay(5)\n",
    "print('First ordering is (5 * 2) + 5 =', foo.value)"
   ]
  },
  {
   "cell_type": "markdown",
   "metadata": {},
   "source": [
    "* 같은 부모 클래스들을 다른 순서로 정의해보았다.\n",
    "  * 부모 클래스를 정의한 순서와 부모 클래스 생성자를 호출하는 순서가 다름"
   ]
  },
  {
   "cell_type": "code",
   "execution_count": 34,
   "metadata": {},
   "outputs": [],
   "source": [
    "class AnotherWay(MyBaseClass, PlusFive, TimesTwo):\n",
    "    def __init__(self, value):\n",
    "        MyBaseClass.__init__(self, value)\n",
    "        TimesTwo.__init__(self)\n",
    "        PlusFive.__init__(self)"
   ]
  },
  {
   "cell_type": "code",
   "execution_count": 35,
   "metadata": {},
   "outputs": [
    {
     "name": "stdout",
     "output_type": "stream",
     "text": [
      "Second ordering still is 15\n"
     ]
    }
   ],
   "source": [
    "bar = AnotherWay(5)\n",
    "print('Second ordering still is', bar.value)"
   ]
  },
  {
   "cell_type": "markdown",
   "metadata": {},
   "source": [
    "* 다이아몬드 상속 diamond inheritance\n",
    "  * 서브 클래스가 계층 구조에서 같은 슈퍼클래스를 둔 서로 다른 두 클래스에서 상속받을 때 발생"
   ]
  },
  {
   "cell_type": "code",
   "execution_count": 37,
   "metadata": {},
   "outputs": [
    {
     "name": "stdout",
     "output_type": "stream",
     "text": [
      "Should be (5 * 5) + 2 = 27 but is 10\n"
     ]
    }
   ],
   "source": [
    "class TimesFive(MyBaseClass):\n",
    "    def __init__(self, value):\n",
    "        MyBaseClass.__init__(self, value)\n",
    "        self.value *= 5\n",
    "        \n",
    "class PlusTwo(MyBaseClass):\n",
    "    def __init__(self, value):\n",
    "        MyBaseClass.__init__(self, value)\n",
    "        self.value += 5\n",
    "        \n",
    "class ThisWay(TimesTwo, PlusFive):\n",
    "    def __init__(self, value):\n",
    "        TimesFive.__init__(self, value)\n",
    "        PlusTwo.__init__(self, value)\n",
    "        \n",
    "foo = ThisWay(5)\n",
    "print('Should be (5 * 5) + 2 = 27 but is', foo.value)"
   ]
  },
  {
   "cell_type": "markdown",
   "metadata": {},
   "source": [
    "* 두번째 부모 클래스의 생성자 `PlusTwo.__init__` 에서 다시 `MyBaseClass.__init__` 을 호출해서 self.value 를 5 로 리셋하기 때문"
   ]
  },
  {
   "cell_type": "markdown",
   "metadata": {},
   "source": [
    "* 파이썬 2.2 부터 이런 문제를 해결하기 위해 `super`라는 내장 함수를 추가하고 메서드 해석 순서(MRO, method resolution order) 를 정의\n",
    "* 메소드 해석 순서 MRO\n",
    "  * 어떤 슈퍼 클래스부터 초기화하는지를 정한다.\n",
    "    * 깊이 우선, 왼쪽 --> 오른쪽\n",
    "  * 다이아몬드 계층 구조에 있는 공통 슈퍼 클래스를 단 한번만 실행하게 한다."
   ]
  },
  {
   "cell_type": "code",
   "execution_count": 41,
   "metadata": {},
   "outputs": [
    {
     "name": "stdout",
     "output_type": "stream",
     "text": [
      "Should be 5 * (5 + 2) = 35 and is 35\n"
     ]
    }
   ],
   "source": [
    "# 파이썬 2\n",
    "class TimesFiveCorrect(MyBaseClass):\n",
    "    def __init__(self, value):\n",
    "        super(TimesFiveCorrect, self).__init__(value)\n",
    "        self.value *= 5\n",
    "        \n",
    "class PlusTwoCorrect(MyBaseClass):\n",
    "    def __init__(self, value):\n",
    "        super(PlusTwoCorrect, self).__init__(value)\n",
    "        self.value += 2\n",
    "        \n",
    "class GoodWay(TimesFiveCorrect, PlusTwoCorrect):\n",
    "    def __init__(self, value):\n",
    "        super(GoodWay, self).__init__(value)\n",
    "    \n",
    "foo = GoodWay(5)\n",
    "print('Should be 5 * (5 + 2) = 35 and is', foo.value)"
   ]
  },
  {
   "cell_type": "markdown",
   "metadata": {},
   "source": [
    "* `TimesFiveCorrect.__init__` 을 먼저 실행할 수는 없을까? 결과가 27이 되도록?\n",
    "  * 없음. MRO 가 정의하는 순서와 계산 순서가 일치함."
   ]
  },
  {
   "cell_type": "code",
   "execution_count": 42,
   "metadata": {},
   "outputs": [
    {
     "name": "stdout",
     "output_type": "stream",
     "text": [
      "[<class '__main__.GoodWay'>,\n",
      " <class '__main__.TimesFiveCorrect'>,\n",
      " <class '__main__.PlusTwoCorrect'>,\n",
      " <class '__main__.MyBaseClass'>,\n",
      " <class 'object'>]\n"
     ]
    }
   ],
   "source": [
    "from pprint import pprint\n",
    "\n",
    "pprint(GoodWay.mro())"
   ]
  },
  {
   "cell_type": "markdown",
   "metadata": {},
   "source": [
    "* 위는 생성자 호출 순서이며, 모든 초기화 메서드는 `__init__`함수가 호출된 순서의 역순으로 실행된다."
   ]
  },
  {
   "cell_type": "code",
   "execution_count": 45,
   "metadata": {},
   "outputs": [
    {
     "name": "stdout",
     "output_type": "stream",
     "text": [
      "Should be 2 + (5 * 5) = 27 and is 27\n"
     ]
    }
   ],
   "source": [
    "# practice\n",
    "\n",
    "class GoodWay2(PlusTwoCorrect, TimesFiveCorrect):\n",
    "    def __init__(self, value):\n",
    "        super(GoodWay2, self).__init__(value)\n",
    "    \n",
    "bar = GoodWay2(5)\n",
    "print('Should be 2 + (5 * 5) = 27 and is', bar.value)"
   ]
  },
  {
   "cell_type": "code",
   "execution_count": 46,
   "metadata": {},
   "outputs": [
    {
     "name": "stdout",
     "output_type": "stream",
     "text": [
      "[<class '__main__.GoodWay2'>,\n",
      " <class '__main__.PlusTwoCorrect'>,\n",
      " <class '__main__.TimesFiveCorrect'>,\n",
      " <class '__main__.MyBaseClass'>,\n",
      " <class 'object'>]\n"
     ]
    }
   ],
   "source": [
    "pprint(GoodWay2.mro())"
   ]
  },
  {
   "cell_type": "markdown",
   "metadata": {},
   "source": [
    "* 파이썬 2 내장함수 super 의 문제점\n",
    "  * 문법이 좀 장황하다. 현재 정의하는 클래스, self 객체, 메서드 이름 (보통 `__init__`)과 모든 인수를 설정해줘야 한다. 이런 생성 방법은 파이썬을 처음 접하는 프로그래머에게 혼란을 줄 수 있다.\n",
    "  * super 를 호출하면서 현재 클래스의 이름을 지정해야 한다. 클래스의 이름을 변경(클래스의 계층 구조를 개선할 때 아주 흔히 하는!)하면 super 를 호출하는 모든 코드를 수정해야 한다."
   ]
  },
  {
   "cell_type": "markdown",
   "metadata": {},
   "source": [
    "* 파이썬 3 에서는 super 를 인수 없이 호출하면 `__class__` 와 self 를 인수로 넘겨서 호출한 것으로 처리!\n",
    "* 파이썬 3 에서는 항상 super 를 쓰자.\n",
    "  * 명확하고, 간결하고, 항상 제대로 동작하기 때문"
   ]
  },
  {
   "cell_type": "code",
   "execution_count": 47,
   "metadata": {},
   "outputs": [],
   "source": [
    "class Explicit(MyBaseClass):\n",
    "    def __init__(self, value):\n",
    "        super(__class__, self).__init__(value * 2)\n",
    "        \n",
    "class Implicit(MyBaseClass):\n",
    "    def __init__(self, value):\n",
    "        super().__init__(value * 2)\n",
    "        \n",
    "assert Explicit(10).value == Implicit(10).value"
   ]
  },
  {
   "cell_type": "markdown",
   "metadata": {},
   "source": [
    "* 파이썬 3 에서는 `__class__` 변수를 사용한 메서드에서 현재 클래스를 올바르게 참조하도록 해주므로 위 코드가 잘 동작.\n",
    "  * 파이썬 2 는 `__class__` 가 정의되어 있지 않음"
   ]
  },
  {
   "cell_type": "markdown",
   "metadata": {},
   "source": [
    "### 핵심 정리\n",
    "* 파이썬의 표준 메서드 해석 순서(MRO) 는 슈퍼 클래스의 초기화 순서와 다이아몬드 상속 문제를 해결한다.\n",
    "* 항상 내장함수 super 로 부모 클래스를 초기화하자."
   ]
  }
 ],
 "metadata": {
  "kernelspec": {
   "display_name": "Python 3",
   "language": "python",
   "name": "python3"
  },
  "language_info": {
   "codemirror_mode": {
    "name": "ipython",
    "version": 3
   },
   "file_extension": ".py",
   "mimetype": "text/x-python",
   "name": "python",
   "nbconvert_exporter": "python",
   "pygments_lexer": "ipython3",
   "version": "3.7.0"
  }
 },
 "nbformat": 4,
 "nbformat_minor": 2
}
